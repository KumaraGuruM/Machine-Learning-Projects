{
 "cells": [
  {
   "cell_type": "markdown",
   "metadata": {},
   "source": [
    "# Credit card spend Prediction and Identifying the key drivers"
   ]
  },
  {
   "cell_type": "markdown",
   "metadata": {},
   "source": [
    "### Business Problem"
   ]
  },
  {
   "cell_type": "markdown",
   "metadata": {},
   "source": [
    "- Find the key factors driving the Spend (Primary card + Secondary card)\n",
    "- Predict credict limit for new customers based on the credit card spend"
   ]
  },
  {
   "cell_type": "markdown",
   "metadata": {},
   "source": [
    "**Approach** : "
   ]
  },
  {
   "cell_type": "markdown",
   "metadata": {},
   "source": [
    "**1 Pre-Modelling and Data Audit** <br>\n",
    "- 1.1 Pandas profiling\n",
    "- 1.2 Identifying the catagorical variables\n",
    "- 1.3 Finding the variables which can be considered for modelling\n",
    "- 1.4 Analysing the spend <br>\n",
    "\n",
    "**2 Data Preparation** <br>\n",
    "- 2.1 Outlier and missing value treatment\n",
    "- 2.2 Determing the assumptions\n",
    "\n",
    "**3 Feature Reduction** <br>\n",
    "- 3.1 Featuring reduction considering only Xs\n",
    "> - Correlation between Xs\n",
    "  - Principal Component Analysis (PCA)\n",
    "  - Variance Inflation Factor (VIF)\n",
    "- 3.2 Feature reduction based on X and Y \n",
    "> - Recursive feature elimination (RFE)\n",
    "  - F Regression\n",
    "  - Select K-best\n",
    "  - Decision Tree feature importance\n",
    "- 3.3 Combining the all the selected features and splitting the data into train and test\n",
    "  \n",
    "**4 Model Implementation + tuning hyper parameters + model evaluation**<br>\n",
    "- Regularized regression techniques\n",
    "> - Ridge\n",
    "  - Lasso\n",
    "  - Elastic net\n",
    "- Ensemble methods\n",
    "> - Random Forest\n",
    "  - XGBoost\n",
    "- Support Vector Regressor (SVR)\n",
    "\n",
    "**5 Finding the Optimum Credit Limit for the card holders**\n",
    "\n",
    "**6 Identifying the Key Drivers of the Spend**\n",
    "- Implementing the stats model Linear Regression\n",
    "> - Identifying the important variables from the Model Summary\n",
    "  - Math Equation (for Excel tool)\n",
    "- Summarizing the Key drivers of the spend (Positive and Negative drivers)\n",
    "\n",
    "**7 Conclusion**"
   ]
  },
  {
   "cell_type": "markdown",
   "metadata": {},
   "source": [
    "### ----------------------------------------------------------------------------------------------------------------------------"
   ]
  },
  {
   "cell_type": "markdown",
   "metadata": {},
   "source": [
    "**Importing the Libraries**"
   ]
  },
  {
   "cell_type": "code",
   "execution_count": 1,
   "metadata": {},
   "outputs": [],
   "source": [
    "import pandas as pd\n",
    "import numpy as np\n",
    "import seaborn as sns\n",
    "import matplotlib.pyplot as plt"
   ]
  },
  {
   "cell_type": "markdown",
   "metadata": {},
   "source": [
    "**Importing the dataset**"
   ]
  },
  {
   "cell_type": "code",
   "execution_count": 2,
   "metadata": {},
   "outputs": [],
   "source": [
    "data_original = pd.read_excel('credit_spend_data.xlsx')"
   ]
  },
  {
   "cell_type": "code",
   "execution_count": 3,
   "metadata": {},
   "outputs": [],
   "source": [
    "data = data_original.copy()"
   ]
  },
  {
   "cell_type": "code",
   "execution_count": 4,
   "metadata": {},
   "outputs": [
    {
     "data": {
      "text/plain": [
       "(5000, 130)"
      ]
     },
     "execution_count": 4,
     "metadata": {},
     "output_type": "execute_result"
    }
   ],
   "source": [
    "data.shape"
   ]
  },
  {
   "cell_type": "markdown",
   "metadata": {},
   "source": [
    "**Check for duplicate rows**"
   ]
  },
  {
   "cell_type": "code",
   "execution_count": 5,
   "metadata": {},
   "outputs": [
    {
     "data": {
      "text/plain": [
       "False    5000\n",
       "dtype: int64"
      ]
     },
     "execution_count": 5,
     "metadata": {},
     "output_type": "execute_result"
    }
   ],
   "source": [
    "data.duplicated().value_counts()"
   ]
  },
  {
   "cell_type": "markdown",
   "metadata": {},
   "source": [
    "### Identifying the important features from Decision Tree and Business understanding"
   ]
  },
  {
   "cell_type": "markdown",
   "metadata": {},
   "source": [
    "The Important features identified by applying the Decision Tree Regressor on the entire dataset with Best parameters <br> (in descending order of importance) <br>\n",
    "\n",
    "card\tincome\tinccat\tcard2\thourstv\tlninc\tpolview\tdebtinc\tage\tothdebt\tcarvalue\tlnlongmon\tlnothdebt\ted\tlnlongten\tcardten\taddress\tlncreddebt\tlongmon\tcard2type\ttollmon\tlnwiremon\tcardbenefit\tinternet\tcars\tcommute\tequipten"
   ]
  },
  {
   "cell_type": "code",
   "execution_count": 6,
   "metadata": {},
   "outputs": [],
   "source": [
    "# These variables are manually picked from the Dataset as per the Business\n",
    "# After several iterations the following variables are qualified for the data preparation\n",
    "key_vars = ['age','ed','jobcat','retire','income','debtinc','creddebt','othdebt','default','marital','reason','card','card2','cardspent','card2spent','active','tenure','churn','cardbenefit','gender']"
   ]
  },
  {
   "cell_type": "code",
   "execution_count": 7,
   "metadata": {},
   "outputs": [
    {
     "data": {
      "text/plain": [
       "20"
      ]
     },
     "execution_count": 7,
     "metadata": {},
     "output_type": "execute_result"
    }
   ],
   "source": [
    "len(key_vars)"
   ]
  },
  {
   "cell_type": "code",
   "execution_count": 8,
   "metadata": {},
   "outputs": [],
   "source": [
    "data_old = data.copy()\n",
    "data = data[key_vars]"
   ]
  },
  {
   "cell_type": "markdown",
   "metadata": {},
   "source": [
    "### ----------------------------------------------------------------------------------------------------------------------------"
   ]
  },
  {
   "cell_type": "markdown",
   "metadata": {},
   "source": [
    "## 1 Pre-Modelling and Data Audit"
   ]
  },
  {
   "cell_type": "markdown",
   "metadata": {},
   "source": [
    "#### 1.1 Pandas Profiling"
   ]
  },
  {
   "cell_type": "code",
   "execution_count": 9,
   "metadata": {},
   "outputs": [],
   "source": [
    "import pandas_profiling "
   ]
  },
  {
   "cell_type": "code",
   "execution_count": 10,
   "metadata": {},
   "outputs": [],
   "source": [
    "#profile_report = pandas_profiling.ProfileReport(data)\n",
    "#profile_report.to_file('credit_profile_report_new.html')"
   ]
  },
  {
   "cell_type": "markdown",
   "metadata": {},
   "source": [
    "From the pandas profiling it is found that the __card2spent__ has more than 3 percent of Zeros <br>\n",
    "No missing values in the variables <br>\n",
    "No High correlation <br>\n",
    "No High cardinal variables <br>\n",
    "No duplicate rows <br>"
   ]
  },
  {
   "cell_type": "markdown",
   "metadata": {},
   "source": [
    "#### 1.2 Identifying the catagorical variables"
   ]
  },
  {
   "cell_type": "code",
   "execution_count": 11,
   "metadata": {},
   "outputs": [],
   "source": [
    "# Catagorical Variables speicified in the Data Dictionary\n",
    "cat_vars_all = ['region','townsize','gender','agecat','birthmonth','edcat','jobcat','union','employ','empcat','retire','inccat','default','jobsat','marital','spousedcat','homeown','hometype','address','addresscat','cars','carown','cartype','carcatvalue','carbought','carbuy','commute','commutecat','commutecar','commutemotorcycle','commutecarpool','commutebus','commuterail','commutepublic','commutebike','commutewalk','commutenonmotor','telecommute','reason','polview','polparty','polcontrib','vote','card','cardtype','cardbenefit','cardfee','cardtenure','cardtenurecat','card2','card2type','card2benefit','card2fee','card2tenure','card2tenurecat','active','bfast','churn','tollfree','equip','callcard','wireless','multline','voice','pager','internet','callid','callwait','forward','confer','ebill','owntv','ownvcr','owndvd','owncd','ownpda','ownpc','ownipod','owngame','ownfax','news','response_01','response_02','response_03']"
   ]
  },
  {
   "cell_type": "code",
   "execution_count": 12,
   "metadata": {},
   "outputs": [],
   "source": [
    "cat_vars = data.columns[data.columns.isin(cat_vars_all)]"
   ]
  },
  {
   "cell_type": "code",
   "execution_count": 13,
   "metadata": {},
   "outputs": [],
   "source": [
    "cat_vars;"
   ]
  },
  {
   "cell_type": "code",
   "execution_count": 14,
   "metadata": {},
   "outputs": [
    {
     "data": {
      "text/plain": [
       "Index(['jobcat', 'reason', 'card', 'card2', 'cardbenefit'], dtype='object')"
      ]
     },
     "execution_count": 14,
     "metadata": {},
     "output_type": "execute_result"
    }
   ],
   "source": [
    "cat_dummy = cat_vars[data[cat_vars].apply(lambda x : (x.value_counts().count())) > 2 ]\n",
    "cat_dummy"
   ]
  },
  {
   "cell_type": "code",
   "execution_count": 15,
   "metadata": {},
   "outputs": [],
   "source": [
    "data_cat_dummy = data[cat_dummy]"
   ]
  },
  {
   "cell_type": "code",
   "execution_count": 16,
   "metadata": {},
   "outputs": [],
   "source": [
    "def miss_treat_cat(x):\n",
    "    x = x.fillna(x.mode())\n",
    "    return x\n",
    "\n",
    "data_cat_dummy = data_cat_dummy.apply(miss_treat_cat)"
   ]
  },
  {
   "cell_type": "code",
   "execution_count": 17,
   "metadata": {},
   "outputs": [],
   "source": [
    "dum1 = pd.get_dummies(data_cat_dummy.jobcat,drop_first=True,prefix='jobcat')\n",
    "dum2 = pd.get_dummies(data_cat_dummy.reason,drop_first=True,prefix='reason')\n",
    "dum3 = pd.get_dummies(data_cat_dummy.card,drop_first=True,prefix='card')\n",
    "dum4 = pd.get_dummies(data_cat_dummy.card2,drop_first=True,prefix='card2')\n",
    "dum5 = pd.get_dummies(data_cat_dummy.cardbenefit,drop_first=True,prefix='cardbenefit')\n",
    "data_cat_dummy = pd.concat([dum1,dum2,dum3,dum4,dum5],axis=1)"
   ]
  },
  {
   "cell_type": "markdown",
   "metadata": {},
   "source": [
    "#### 1.3 Finding the variables which can be taken into consideration for model building\n",
    "Based on the business understanding, Profiling"
   ]
  },
  {
   "cell_type": "code",
   "execution_count": 18,
   "metadata": {},
   "outputs": [
    {
     "data": {
      "text/plain": [
       "Index(['age', 'ed', 'jobcat', 'retire', 'income', 'debtinc', 'creddebt',\n",
       "       'othdebt', 'default', 'marital', 'reason', 'card', 'card2', 'cardspent',\n",
       "       'card2spent', 'active', 'tenure', 'churn', 'cardbenefit', 'gender'],\n",
       "      dtype='object')"
      ]
     },
     "execution_count": 18,
     "metadata": {},
     "output_type": "execute_result"
    }
   ],
   "source": [
    "data.columns"
   ]
  },
  {
   "cell_type": "code",
   "execution_count": 19,
   "metadata": {},
   "outputs": [],
   "source": [
    "data = data[data.columns.difference(cat_dummy)]\n",
    "data = pd.concat([data, data_cat_dummy],axis=1)"
   ]
  },
  {
   "cell_type": "markdown",
   "metadata": {},
   "source": [
    "Identifying the Y variables - (Primary and Secondary card spend)"
   ]
  },
  {
   "cell_type": "code",
   "execution_count": 20,
   "metadata": {},
   "outputs": [],
   "source": [
    "X = data[data.columns.difference(['cardspent','card2spent'])]\n",
    "Y = data[['cardspent','card2spent']]"
   ]
  },
  {
   "cell_type": "code",
   "execution_count": 21,
   "metadata": {},
   "outputs": [
    {
     "name": "stderr",
     "output_type": "stream",
     "text": [
      "C:\\Users\\guru\\Anaconda3\\lib\\site-packages\\ipykernel_launcher.py:1: SettingWithCopyWarning: \n",
      "A value is trying to be set on a copy of a slice from a DataFrame.\n",
      "Try using .loc[row_indexer,col_indexer] = value instead\n",
      "\n",
      "See the caveats in the documentation: http://pandas.pydata.org/pandas-docs/stable/user_guide/indexing.html#returning-a-view-versus-a-copy\n",
      "  \"\"\"Entry point for launching an IPython kernel.\n"
     ]
    }
   ],
   "source": [
    "Y['spent'] = Y.cardspent + Y.card2spent"
   ]
  },
  {
   "cell_type": "code",
   "execution_count": 22,
   "metadata": {},
   "outputs": [
    {
     "data": {
      "text/plain": [
       "Index(['active', 'age', 'card2spent', 'cardspent', 'churn', 'creddebt',\n",
       "       'debtinc', 'default', 'ed', 'gender', 'income', 'marital', 'othdebt',\n",
       "       'retire', 'tenure', 'jobcat_2', 'jobcat_3', 'jobcat_4', 'jobcat_5',\n",
       "       'jobcat_6', 'reason_2', 'reason_3', 'reason_4', 'reason_9', 'card_2',\n",
       "       'card_3', 'card_4', 'card_5', 'card2_2', 'card2_3', 'card2_4',\n",
       "       'card2_5', 'cardbenefit_2', 'cardbenefit_3', 'cardbenefit_4'],\n",
       "      dtype='object')"
      ]
     },
     "execution_count": 22,
     "metadata": {},
     "output_type": "execute_result"
    }
   ],
   "source": [
    "data.columns"
   ]
  },
  {
   "cell_type": "code",
   "execution_count": 23,
   "metadata": {},
   "outputs": [
    {
     "data": {
      "text/plain": [
       "((5000, 33), (5000, 3))"
      ]
     },
     "execution_count": 23,
     "metadata": {},
     "output_type": "execute_result"
    }
   ],
   "source": [
    "X.shape, Y.shape"
   ]
  },
  {
   "cell_type": "code",
   "execution_count": 24,
   "metadata": {},
   "outputs": [],
   "source": [
    "def outlier_miss_treat(x):\n",
    "    x = x.clip(upper = x.quantile(0.99))\n",
    "    x = x.clip(lower = x.quantile(0.01))\n",
    "    x = x.fillna(x.median())\n",
    "    return x"
   ]
  },
  {
   "cell_type": "markdown",
   "metadata": {},
   "source": [
    "#### Analysing the Y vars (Spent)"
   ]
  },
  {
   "cell_type": "code",
   "execution_count": 25,
   "metadata": {},
   "outputs": [
    {
     "data": {
      "text/plain": [
       "<matplotlib.collections.PathCollection at 0xc8f9ec8>"
      ]
     },
     "execution_count": 25,
     "metadata": {},
     "output_type": "execute_result"
    },
    {
     "data": {
      "image/png": "[encoded data removed]",
      "text/plain": [
       "<Figure size 576x396 with 1 Axes>"
      ]
     },
     "metadata": {},
     "output_type": "display_data"
    }
   ],
   "source": [
    "plt.scatter(x=Y.cardspent , y=Y.card2spent, s=10)"
   ]
  },
  {
   "cell_type": "code",
   "execution_count": 26,
   "metadata": {},
   "outputs": [
    {
     "name": "stderr",
     "output_type": "stream",
     "text": [
      "C:\\Users\\guru\\Anaconda3\\lib\\site-packages\\pandas\\core\\series.py:853: RuntimeWarning: divide by zero encountered in log\n",
      "  result = getattr(ufunc, method)(*inputs, **kwargs)\n"
     ]
    }
   ],
   "source": [
    "lncard1 = np.log(Y.cardspent)\n",
    "lncard2 = np.log(Y.card2spent)\n",
    "lnY = pd.concat([lncard1,lncard2],axis=1)\n",
    "lnY = lnY.apply(outlier_miss_treat)"
   ]
  },
  {
   "cell_type": "code",
   "execution_count": 27,
   "metadata": {},
   "outputs": [],
   "source": [
    "lnY.card2spent[lnY.card2spent == -np.inf] = lnY.card2spent.median()"
   ]
  },
  {
   "cell_type": "code",
   "execution_count": 28,
   "metadata": {},
   "outputs": [
    {
     "data": {
      "text/plain": [
       "<matplotlib.collections.PathCollection at 0xc87b188>"
      ]
     },
     "execution_count": 28,
     "metadata": {},
     "output_type": "execute_result"
    },
    {
     "data": {
      "image/png": "[encoded data removed]",
      "text/plain": [
       "<Figure size 576x396 with 1 Axes>"
      ]
     },
     "metadata": {},
     "output_type": "display_data"
    }
   ],
   "source": [
    "plt.scatter(x=lnY.cardspent , y=lnY.card2spent, s=10)"
   ]
  },
  {
   "cell_type": "code",
   "execution_count": 29,
   "metadata": {},
   "outputs": [
    {
     "data": {
      "text/plain": [
       "(3.051236650585871, -0.2533463992746118)"
      ]
     },
     "execution_count": 29,
     "metadata": {},
     "output_type": "execute_result"
    }
   ],
   "source": [
    "Y.cardspent.skew(), lnY.cardspent.skew()"
   ]
  },
  {
   "cell_type": "code",
   "execution_count": 30,
   "metadata": {},
   "outputs": [
    {
     "data": {
      "text/plain": [
       "(2.801163008802474, -0.5013440360271303)"
      ]
     },
     "execution_count": 30,
     "metadata": {},
     "output_type": "execute_result"
    }
   ],
   "source": [
    "Y.card2spent.skew(), lnY.card2spent.skew()"
   ]
  },
  {
   "cell_type": "code",
   "execution_count": 31,
   "metadata": {},
   "outputs": [
    {
     "data": {
      "text/plain": [
       "<matplotlib.axes._subplots.AxesSubplot at 0xca7c5c8>"
      ]
     },
     "execution_count": 31,
     "metadata": {},
     "output_type": "execute_result"
    },
    {
     "data": {
      "image/png": "[encoded data removed]",
      "text/plain": [
       "<Figure size 576x396 with 1 Axes>"
      ]
     },
     "metadata": {},
     "output_type": "display_data"
    }
   ],
   "source": [
    "sns.distplot(Y.cardspent)\n",
    "sns.distplot(Y.card2spent)"
   ]
  },
  {
   "cell_type": "code",
   "execution_count": 32,
   "metadata": {},
   "outputs": [
    {
     "data": {
      "text/plain": [
       "<matplotlib.axes._subplots.AxesSubplot at 0xca7cc08>"
      ]
     },
     "execution_count": 32,
     "metadata": {},
     "output_type": "execute_result"
    },
    {
     "data": {
      "image/png": "[encoded data removed]",
      "text/plain": [
       "<Figure size 576x396 with 1 Axes>"
      ]
     },
     "metadata": {},
     "output_type": "display_data"
    }
   ],
   "source": [
    "sns.distplot(lnY.cardspent)\n",
    "sns.distplot(lnY.card2spent)"
   ]
  },
  {
   "cell_type": "markdown",
   "metadata": {},
   "source": [
    "Correlation"
   ]
  },
  {
   "cell_type": "code",
   "execution_count": 33,
   "metadata": {},
   "outputs": [],
   "source": [
    "import scipy.stats as stats"
   ]
  },
  {
   "cell_type": "code",
   "execution_count": 34,
   "metadata": {},
   "outputs": [
    {
     "data": {
      "text/plain": [
       "(0.5866102332257316, 0.0)"
      ]
     },
     "execution_count": 34,
     "metadata": {},
     "output_type": "execute_result"
    }
   ],
   "source": [
    "stats.stats.pearsonr(Y.cardspent, Y.card2spent)"
   ]
  },
  {
   "cell_type": "code",
   "execution_count": 35,
   "metadata": {},
   "outputs": [
    {
     "data": {
      "text/plain": [
       "(0.5288709791547939, 0.0)"
      ]
     },
     "execution_count": 35,
     "metadata": {},
     "output_type": "execute_result"
    }
   ],
   "source": [
    "stats.stats.pearsonr(lnY.cardspent, lnY.card2spent)"
   ]
  },
  {
   "cell_type": "code",
   "execution_count": 36,
   "metadata": {},
   "outputs": [
    {
     "name": "stdout",
     "output_type": "stream",
     "text": [
      "[[1.         0.52887098]\n",
      " [0.52887098 1.        ]]\n"
     ]
    }
   ],
   "source": [
    "print(np.corrcoef(lnY.cardspent, lnY.card2spent))"
   ]
  },
  {
   "cell_type": "code",
   "execution_count": 37,
   "metadata": {},
   "outputs": [
    {
     "data": {
      "text/plain": [
       "F_onewayResult(statistic=1907.4778039492771, pvalue=0.0)"
      ]
     },
     "execution_count": 37,
     "metadata": {},
     "output_type": "execute_result"
    }
   ],
   "source": [
    " stats.f_oneway(Y.cardspent, Y.card2spent)"
   ]
  },
  {
   "cell_type": "code",
   "execution_count": 38,
   "metadata": {},
   "outputs": [
    {
     "data": {
      "text/plain": [
       "F_onewayResult(statistic=3024.9352362876057, pvalue=0.0)"
      ]
     },
     "execution_count": 38,
     "metadata": {},
     "output_type": "execute_result"
    }
   ],
   "source": [
    " stats.f_oneway(lnY.cardspent, lnY.card2spent)"
   ]
  },
  {
   "cell_type": "markdown",
   "metadata": {},
   "source": [
    "### ----------------------------------------------------------------------------------------------------------------------------"
   ]
  },
  {
   "cell_type": "markdown",
   "metadata": {},
   "source": [
    "## 2 Data Preparation"
   ]
  },
  {
   "cell_type": "markdown",
   "metadata": {},
   "source": [
    "### 2.1 Outlier and Missing value treatment"
   ]
  },
  {
   "cell_type": "code",
   "execution_count": 39,
   "metadata": {},
   "outputs": [
    {
     "data": {
      "image/png": "[encoded data removed]",
      "text/plain": [
       "<Figure size 576x396 with 1 Axes>"
      ]
     },
     "metadata": {},
     "output_type": "display_data"
    }
   ],
   "source": [
    "pd.concat([X,Y],axis=1).plot(kind='box')\n",
    "plt.xticks(rotation=90)\n",
    "plt.show()"
   ]
  },
  {
   "cell_type": "code",
   "execution_count": 40,
   "metadata": {},
   "outputs": [],
   "source": [
    "X = X.apply(outlier_miss_treat)\n",
    "Y = Y.apply(outlier_miss_treat)"
   ]
  },
  {
   "cell_type": "code",
   "execution_count": 41,
   "metadata": {},
   "outputs": [
    {
     "data": {
      "image/png": "[encoded data removed]",
      "text/plain": [
       "<Figure size 576x396 with 1 Axes>"
      ]
     },
     "metadata": {},
     "output_type": "display_data"
    }
   ],
   "source": [
    "data_otms = pd.concat([X,Y],axis=1)\n",
    "data_otms.plot(kind='box')\n",
    "plt.xticks(rotation=90)\n",
    "plt.show()"
   ]
  },
  {
   "cell_type": "markdown",
   "metadata": {},
   "source": [
    "### 2.2 Determining the Assumptions"
   ]
  },
  {
   "cell_type": "markdown",
   "metadata": {},
   "source": [
    "As the problem is identified as regression, We choose the following algorithms for the model.<br>\n",
    "> Linear Regression \n",
    "- Y has to be Normally Distributed\n",
    "- X and Y should be linearly related\n",
    "- No multicollinearity between Xs\n",
    "- Y must be homoscedastic\n",
    "\n",
    "> Random Forest Regressor <br>\n",
    "> XGBoost Regressor <br>\n",
    "> Support Vector Regressor <br>\n",
    "- No assumptions \n"
   ]
  },
  {
   "cell_type": "markdown",
   "metadata": {},
   "source": [
    "Checking if Y is Normally Distributed for applying the Linear Regression"
   ]
  },
  {
   "cell_type": "code",
   "execution_count": 42,
   "metadata": {
    "scrolled": true
   },
   "outputs": [
    {
     "data": {
      "text/plain": [
       "cardspent     1.645523\n",
       "card2spent    1.704283\n",
       "spent         1.615173\n",
       "dtype: float64"
      ]
     },
     "execution_count": 42,
     "metadata": {},
     "output_type": "execute_result"
    }
   ],
   "source": [
    "Y.skew()"
   ]
  },
  {
   "cell_type": "code",
   "execution_count": 43,
   "metadata": {},
   "outputs": [
    {
     "data": {
      "text/plain": [
       "cardspent     3.234293\n",
       "card2spent    3.623954\n",
       "spent         3.111286\n",
       "dtype: float64"
      ]
     },
     "execution_count": 43,
     "metadata": {},
     "output_type": "execute_result"
    }
   ],
   "source": [
    " Y.kurtosis()"
   ]
  },
  {
   "cell_type": "markdown",
   "metadata": {},
   "source": [
    "### ----------------------------------------------------------------------------------------------------------------------------"
   ]
  },
  {
   "cell_type": "markdown",
   "metadata": {},
   "source": [
    "## 3 Feature Reduction "
   ]
  },
  {
   "cell_type": "markdown",
   "metadata": {},
   "source": [
    "### 3.1 Feature reduction considering only Xs"
   ]
  },
  {
   "cell_type": "markdown",
   "metadata": {},
   "source": [
    "Methods <br>\n",
    "> 1 Correlation between Xs <br>\n",
    "> 2 VIF <br>\n",
    "> 3 PCA"
   ]
  },
  {
   "cell_type": "markdown",
   "metadata": {},
   "source": [
    "### 3.1.1 Correlation between Xs"
   ]
  },
  {
   "cell_type": "code",
   "execution_count": 44,
   "metadata": {},
   "outputs": [
    {
     "data": {
      "text/plain": [
       "<matplotlib.axes._subplots.AxesSubplot at 0xebd1ac8>"
      ]
     },
     "execution_count": 44,
     "metadata": {},
     "output_type": "execute_result"
    },
    {
     "data": {
      "image/png": "[encoded data removed]",
      "text/plain": [
       "<Figure size 576x396 with 2 Axes>"
      ]
     },
     "metadata": {},
     "output_type": "display_data"
    }
   ],
   "source": [
    "#Corr_matrix creation\n",
    "corr_matrix = X.corr()\n",
    "#corr_matrix.to_csv('corrm.csv')\n",
    "\n",
    "# visualize correlation matrix in Seaborn using a heatmap\n",
    "sns.heatmap(X.corr())"
   ]
  },
  {
   "cell_type": "markdown",
   "metadata": {},
   "source": [
    "### 3.1.2 Feature Reduction using PCA"
   ]
  },
  {
   "cell_type": "markdown",
   "metadata": {},
   "source": [
    "**i Feature scaling**"
   ]
  },
  {
   "cell_type": "code",
   "execution_count": 45,
   "metadata": {},
   "outputs": [],
   "source": [
    "from sklearn.preprocessing import StandardScaler\n",
    "sc = StandardScaler()"
   ]
  },
  {
   "cell_type": "markdown",
   "metadata": {},
   "source": [
    "fit() ------------------> just calculates the parameters (e.g. μ and σ in case of StandardScaler) <br>\n",
    "transform() ------------> helps to apply the scaling based on the calculated parameters from fit()"
   ]
  },
  {
   "cell_type": "code",
   "execution_count": 46,
   "metadata": {},
   "outputs": [],
   "source": [
    "X_scaled = sc.fit_transform(X) "
   ]
  },
  {
   "cell_type": "markdown",
   "metadata": {},
   "source": [
    "**ii Applying PCA** "
   ]
  },
  {
   "cell_type": "code",
   "execution_count": 47,
   "metadata": {},
   "outputs": [],
   "source": [
    "from sklearn.decomposition import PCA\n",
    "pca = PCA(n_components = None)"
   ]
  },
  {
   "cell_type": "code",
   "execution_count": 48,
   "metadata": {},
   "outputs": [],
   "source": [
    "X_scaled = pca.fit_transform(X_scaled)"
   ]
  },
  {
   "cell_type": "markdown",
   "metadata": {},
   "source": [
    "Eigen value"
   ]
  },
  {
   "cell_type": "code",
   "execution_count": 49,
   "metadata": {},
   "outputs": [
    {
     "data": {
      "text/plain": [
       "array([2.92231437, 2.59114328, 1.93101536, 1.74784935, 1.65227743,\n",
       "       1.44783979, 1.35318583, 1.33676325, 1.30728325, 1.17483907,\n",
       "       1.16226296, 1.1340768 , 1.11006756, 1.06758122, 1.02346254,\n",
       "       1.01134042, 0.99028878, 0.96393909, 0.90053046, 0.86014481,\n",
       "       0.79298167, 0.76044118, 0.68944425, 0.58962358, 0.42029009,\n",
       "       0.35582728, 0.34145303, 0.32559893, 0.2991543 , 0.27091293,\n",
       "       0.21383224, 0.15859637, 0.10023986])"
      ]
     },
     "execution_count": 49,
     "metadata": {},
     "output_type": "execute_result"
    }
   ],
   "source": [
    "pca.explained_variance_    #20"
   ]
  },
  {
   "cell_type": "markdown",
   "metadata": {},
   "source": [
    "Variance explained by each PC in Cumulative Percentage "
   ]
  },
  {
   "cell_type": "code",
   "execution_count": 50,
   "metadata": {},
   "outputs": [
    {
     "data": {
      "text/plain": [
       "array([0.08853727, 0.16704106, 0.22554497, 0.27849951, 0.32855851,\n",
       "       0.37242367, 0.4134211 , 0.45392098, 0.4935277 , 0.52912176,\n",
       "       0.56433481, 0.5986939 , 0.63232558, 0.66467006, 0.69567787,\n",
       "       0.72631842, 0.75632117, 0.7855256 , 0.81280895, 0.83886873,\n",
       "       0.86289367, 0.88593273, 0.9068208 , 0.92468461, 0.93741813,\n",
       "       0.94819862, 0.95854361, 0.96840827, 0.97747174, 0.98567958,\n",
       "       0.99215805, 0.99696304, 1.        ])"
      ]
     },
     "execution_count": 50,
     "metadata": {},
     "output_type": "execute_result"
    }
   ],
   "source": [
    "np.cumsum(pca.explained_variance_ratio_) #17"
   ]
  },
  {
   "cell_type": "markdown",
   "metadata": {},
   "source": [
    "Selecting the Number of Principal components based on <br>\n",
    "Cumulative percentage of variance > 75% <br>\n",
    "Eigen value > 0.8"
   ]
  },
  {
   "cell_type": "markdown",
   "metadata": {},
   "source": [
    "Based on the above criteria for selection we conclude **Number of PC = 20** "
   ]
  },
  {
   "cell_type": "markdown",
   "metadata": {},
   "source": [
    "Fitting the model again with the select number PC"
   ]
  },
  {
   "cell_type": "code",
   "execution_count": 51,
   "metadata": {},
   "outputs": [],
   "source": [
    "pca_final = PCA(n_components=20)"
   ]
  },
  {
   "cell_type": "code",
   "execution_count": 52,
   "metadata": {},
   "outputs": [],
   "source": [
    "pca_final = pca_final.fit(X_scaled)"
   ]
  },
  {
   "cell_type": "code",
   "execution_count": 53,
   "metadata": {},
   "outputs": [
    {
     "data": {
      "text/plain": [
       "array([2.92231437, 2.59114327, 1.93101535, 1.74784934, 1.65227741,\n",
       "       1.44783978, 1.35318581, 1.3367632 , 1.30728323, 1.1748385 ,\n",
       "       1.16226285, 1.1340756 , 1.11006751, 1.06758115, 1.02346237,\n",
       "       1.01133932, 0.99028872, 0.96393768, 0.90052965, 0.8601408 ])"
      ]
     },
     "execution_count": 53,
     "metadata": {},
     "output_type": "execute_result"
    }
   ],
   "source": [
    "pca_final.explained_variance_"
   ]
  },
  {
   "cell_type": "code",
   "execution_count": 54,
   "metadata": {},
   "outputs": [
    {
     "data": {
      "text/plain": [
       "array([0.08853727, 0.16704106, 0.22554497, 0.27849951, 0.32855851,\n",
       "       0.37242367, 0.4134211 , 0.45392097, 0.49352769, 0.52912174,\n",
       "       0.56433478, 0.59869383, 0.63232552, 0.66466999, 0.6956778 ,\n",
       "       0.72631831, 0.75632106, 0.78552545, 0.81280877, 0.83886843])"
      ]
     },
     "execution_count": 54,
     "metadata": {},
     "output_type": "execute_result"
    }
   ],
   "source": [
    "np.cumsum(pca_final.explained_variance_ratio_)"
   ]
  },
  {
   "cell_type": "markdown",
   "metadata": {},
   "source": [
    "Dimension Reduction "
   ]
  },
  {
   "cell_type": "code",
   "execution_count": 55,
   "metadata": {},
   "outputs": [],
   "source": [
    "# Applying the pca model on the scaled train data, which gives the array with specified number of PCs\n",
    "reduced_factors = pca_final.transform(X_scaled) #----------->    this gives the factors"
   ]
  },
  {
   "cell_type": "code",
   "execution_count": 56,
   "metadata": {},
   "outputs": [],
   "source": [
    "F = [] \n",
    "for i in list(range(1,21)):\n",
    "    F.append('F' + str(i))  "
   ]
  },
  {
   "cell_type": "code",
   "execution_count": 57,
   "metadata": {
    "scrolled": true
   },
   "outputs": [
    {
     "data": {
      "text/html": [
       "<div>\n",
       "<style scoped>\n",
       "    .dataframe tbody tr th:only-of-type {\n",
       "        vertical-align: middle;\n",
       "    }\n",
       "\n",
       "    .dataframe tbody tr th {\n",
       "        vertical-align: top;\n",
       "    }\n",
       "\n",
       "    .dataframe thead th {\n",
       "        text-align: right;\n",
       "    }\n",
       "</style>\n",
       "<table border=\"1\" class=\"dataframe\">\n",
       "  <thead>\n",
       "    <tr style=\"text-align: right;\">\n",
       "      <th></th>\n",
       "      <th>F1</th>\n",
       "      <th>F2</th>\n",
       "      <th>F3</th>\n",
       "      <th>F4</th>\n",
       "      <th>F5</th>\n",
       "      <th>F6</th>\n",
       "      <th>F7</th>\n",
       "      <th>F8</th>\n",
       "      <th>F9</th>\n",
       "      <th>F10</th>\n",
       "      <th>F11</th>\n",
       "      <th>F12</th>\n",
       "      <th>F13</th>\n",
       "      <th>F14</th>\n",
       "      <th>F15</th>\n",
       "      <th>F16</th>\n",
       "      <th>F17</th>\n",
       "      <th>F18</th>\n",
       "      <th>F19</th>\n",
       "      <th>F20</th>\n",
       "    </tr>\n",
       "  </thead>\n",
       "  <tbody>\n",
       "    <tr>\n",
       "      <td>0</td>\n",
       "      <td>-1.655390</td>\n",
       "      <td>2.068272</td>\n",
       "      <td>1.294282</td>\n",
       "      <td>1.733855</td>\n",
       "      <td>-0.603525</td>\n",
       "      <td>1.248394</td>\n",
       "      <td>-0.350040</td>\n",
       "      <td>-0.133504</td>\n",
       "      <td>0.444052</td>\n",
       "      <td>1.175452</td>\n",
       "      <td>2.450111</td>\n",
       "      <td>-0.408229</td>\n",
       "      <td>-0.953110</td>\n",
       "      <td>-0.490281</td>\n",
       "      <td>-1.057519</td>\n",
       "      <td>0.230483</td>\n",
       "      <td>0.656233</td>\n",
       "      <td>-0.167377</td>\n",
       "      <td>2.042286</td>\n",
       "      <td>1.017334</td>\n",
       "    </tr>\n",
       "    <tr>\n",
       "      <td>1</td>\n",
       "      <td>-1.189938</td>\n",
       "      <td>1.790828</td>\n",
       "      <td>-0.893665</td>\n",
       "      <td>2.176425</td>\n",
       "      <td>-0.618667</td>\n",
       "      <td>0.224186</td>\n",
       "      <td>1.300405</td>\n",
       "      <td>-0.090794</td>\n",
       "      <td>-1.130004</td>\n",
       "      <td>-0.119846</td>\n",
       "      <td>-0.742599</td>\n",
       "      <td>-0.223649</td>\n",
       "      <td>-0.187029</td>\n",
       "      <td>0.041251</td>\n",
       "      <td>0.902714</td>\n",
       "      <td>0.305317</td>\n",
       "      <td>-0.390736</td>\n",
       "      <td>0.739535</td>\n",
       "      <td>-1.295876</td>\n",
       "      <td>-0.460595</td>\n",
       "    </tr>\n",
       "  </tbody>\n",
       "</table>\n",
       "</div>"
      ],
      "text/plain": [
       "         F1        F2        F3        F4        F5        F6        F7  \\\n",
       "0 -1.655390  2.068272  1.294282  1.733855 -0.603525  1.248394 -0.350040   \n",
       "1 -1.189938  1.790828 -0.893665  2.176425 -0.618667  0.224186  1.300405   \n",
       "\n",
       "         F8        F9       F10       F11       F12       F13       F14  \\\n",
       "0 -0.133504  0.444052  1.175452  2.450111 -0.408229 -0.953110 -0.490281   \n",
       "1 -0.090794 -1.130004 -0.119846 -0.742599 -0.223649 -0.187029  0.041251   \n",
       "\n",
       "        F15       F16       F17       F18       F19       F20  \n",
       "0 -1.057519  0.230483  0.656233 -0.167377  2.042286  1.017334  \n",
       "1  0.902714  0.305317 -0.390736  0.739535 -1.295876 -0.460595  "
      ]
     },
     "execution_count": 57,
     "metadata": {},
     "output_type": "execute_result"
    }
   ],
   "source": [
    "dimensions = pd.DataFrame(reduced_factors, columns=F);\n",
    "dimensions.head(2)"
   ]
  },
  {
   "cell_type": "markdown",
   "metadata": {},
   "source": [
    "Factor Loading Matrix / Component loadings"
   ]
  },
  {
   "cell_type": "markdown",
   "metadata": {},
   "source": [
    "Loadings=Eigenvectors * sqrt(Eigenvalues)"
   ]
  },
  {
   "cell_type": "code",
   "execution_count": 58,
   "metadata": {},
   "outputs": [],
   "source": [
    "eigen_vector = pca_final.components_.T"
   ]
  },
  {
   "cell_type": "code",
   "execution_count": 59,
   "metadata": {},
   "outputs": [],
   "source": [
    "eigen_value = pca_final.explained_variance_"
   ]
  },
  {
   "cell_type": "code",
   "execution_count": 60,
   "metadata": {},
   "outputs": [],
   "source": [
    "Factor_loading_matrix = pd.DataFrame((eigen_vector * np.sqrt(eigen_value)).T,columns=X.columns).T"
   ]
  },
  {
   "cell_type": "code",
   "execution_count": 61,
   "metadata": {},
   "outputs": [],
   "source": [
    "Factor_loading_matrix;"
   ]
  },
  {
   "cell_type": "code",
   "execution_count": 62,
   "metadata": {},
   "outputs": [],
   "source": [
    "#Factor_loading_matrix.to_excel('Factor_Loading_matrix_20.xlsx')"
   ]
  },
  {
   "cell_type": "markdown",
   "metadata": {},
   "source": [
    "***Selected Features from the Factor Loading Matrix***"
   ]
  },
  {
   "cell_type": "code",
   "execution_count": 63,
   "metadata": {},
   "outputs": [],
   "source": [
    "selected_vars_pca = ['active','age','card2_2','card2_3','card2_4','card2_5','card_2','card_3','card_4','card_5','cardbenefit_2','cardbenefit_3','cardbenefit_4','churn','creddebt','debtinc','default','ed','gender','income']"
   ]
  },
  {
   "cell_type": "code",
   "execution_count": 64,
   "metadata": {},
   "outputs": [
    {
     "data": {
      "text/plain": [
       "Index(['jobcat_2', 'jobcat_3', 'jobcat_4', 'jobcat_5', 'jobcat_6', 'marital',\n",
       "       'othdebt', 'reason_2', 'reason_3', 'reason_4', 'reason_9', 'retire',\n",
       "       'tenure'],\n",
       "      dtype='object')"
      ]
     },
     "execution_count": 64,
     "metadata": {},
     "output_type": "execute_result"
    }
   ],
   "source": [
    "X.columns.difference(selected_vars_pca) #Excluded variables"
   ]
  },
  {
   "cell_type": "markdown",
   "metadata": {},
   "source": [
    "### 3.1.3 Feature Reduction using VIF"
   ]
  },
  {
   "cell_type": "code",
   "execution_count": 65,
   "metadata": {},
   "outputs": [],
   "source": [
    "from statsmodels.stats.outliers_influence import variance_inflation_factor\n",
    "from patsy import dmatrices\n",
    "\n",
    "VIF = [variance_inflation_factor(X.values,i) for i in range(X.shape[1])]"
   ]
  },
  {
   "cell_type": "code",
   "execution_count": 66,
   "metadata": {},
   "outputs": [],
   "source": [
    "VIF_results = pd.concat([pd.Series(X.columns), pd.Series(VIF)],axis=1)\n",
    "VIF_results.columns = ['Feature','VIF']\n",
    "VIF_results = VIF_results.sort_values('VIF',ascending=False) "
   ]
  },
  {
   "cell_type": "markdown",
   "metadata": {},
   "source": [
    "***Selected Features from the VIF***"
   ]
  },
  {
   "cell_type": "code",
   "execution_count": 67,
   "metadata": {},
   "outputs": [],
   "source": [
    "selected_vars_vif = list(VIF_results[VIF_results.VIF > 5].Feature)"
   ]
  },
  {
   "cell_type": "code",
   "execution_count": 68,
   "metadata": {},
   "outputs": [
    {
     "data": {
      "text/plain": [
       "Index(['active', 'card2_2', 'card2_3', 'card2_4', 'card2_5', 'card_2',\n",
       "       'card_3', 'card_4', 'card_5', 'cardbenefit_2', 'cardbenefit_3',\n",
       "       'cardbenefit_4', 'churn', 'creddebt', 'default', 'gender', 'jobcat_2',\n",
       "       'jobcat_3', 'jobcat_4', 'jobcat_5', 'jobcat_6', 'marital', 'reason_2',\n",
       "       'reason_3', 'reason_4', 'retire'],\n",
       "      dtype='object')"
      ]
     },
     "execution_count": 68,
     "metadata": {},
     "output_type": "execute_result"
    }
   ],
   "source": [
    "X.columns.difference(selected_vars_vif) #Excluded variables"
   ]
  },
  {
   "cell_type": "markdown",
   "metadata": {},
   "source": [
    "Combining all the selected Features based on Xs "
   ]
  },
  {
   "cell_type": "code",
   "execution_count": 69,
   "metadata": {},
   "outputs": [],
   "source": [
    "selected_vars_final1 = selected_vars_pca + selected_vars_vif "
   ]
  },
  {
   "cell_type": "code",
   "execution_count": 70,
   "metadata": {},
   "outputs": [],
   "source": [
    "selected_vars_final1= list(selected_vars_final1)"
   ]
  },
  {
   "cell_type": "code",
   "execution_count": 71,
   "metadata": {},
   "outputs": [
    {
     "data": {
      "text/plain": [
       "4"
      ]
     },
     "execution_count": 71,
     "metadata": {},
     "output_type": "execute_result"
    }
   ],
   "source": [
    "#Common Features\n",
    "len(pd.Series(selected_vars_pca)[pd.Series(selected_vars_pca).isin(selected_vars_vif)]) "
   ]
  },
  {
   "cell_type": "code",
   "execution_count": 72,
   "metadata": {},
   "outputs": [
    {
     "name": "stdout",
     "output_type": "stream",
     "text": [
      "# : 23 \n",
      " ['active', 'age', 'card2_2', 'card2_3', 'card2_4', 'card2_5', 'card_2', 'card_3', 'card_4', 'card_5', 'cardbenefit_2', 'cardbenefit_3', 'cardbenefit_4', 'churn', 'creddebt', 'debtinc', 'default', 'ed', 'gender', 'income', 'age', 'ed', 'income', 'debtinc', 'reason_9', 'tenure', 'othdebt']\n"
     ]
    }
   ],
   "source": [
    "print('# :',len(set(selected_vars_final1)),'\\n',selected_vars_final1)"
   ]
  },
  {
   "cell_type": "markdown",
   "metadata": {},
   "source": [
    "### ----------------------------------------------------------------------------------------------------------------------------"
   ]
  },
  {
   "cell_type": "markdown",
   "metadata": {},
   "source": [
    "## 3.2 Feature Reduction based on X and Y"
   ]
  },
  {
   "cell_type": "markdown",
   "metadata": {},
   "source": [
    "Since the Prediction we have to make here is \"cardspent\" (primary card spent) and \"card2spent\" (secondary card spent), <br> we will perform this Feature Reduction Techniques for the sum these variables <br>\n",
    "\n",
    "15 Features are selected in each method"
   ]
  },
  {
   "cell_type": "markdown",
   "metadata": {},
   "source": [
    "### 3.2.1 RFE"
   ]
  },
  {
   "cell_type": "code",
   "execution_count": 73,
   "metadata": {},
   "outputs": [],
   "source": [
    "from sklearn.feature_selection import RFE\n",
    "from sklearn.tree import DecisionTreeRegressor"
   ]
  },
  {
   "cell_type": "code",
   "execution_count": 74,
   "metadata": {},
   "outputs": [],
   "source": [
    "Dt = DecisionTreeRegressor()"
   ]
  },
  {
   "cell_type": "code",
   "execution_count": 75,
   "metadata": {},
   "outputs": [],
   "source": [
    "rfe = RFE(Dt, n_features_to_select=15)\n",
    "rfe = rfe.fit(X, Y.spent)"
   ]
  },
  {
   "cell_type": "code",
   "execution_count": 76,
   "metadata": {},
   "outputs": [],
   "source": [
    "select_cols = rfe.get_support()\n",
    "selected_vars_rfe = list(X.columns[select_cols])"
   ]
  },
  {
   "cell_type": "code",
   "execution_count": 77,
   "metadata": {},
   "outputs": [],
   "source": [
    "selected_vars_rfe;"
   ]
  },
  {
   "cell_type": "markdown",
   "metadata": {},
   "source": [
    "### 3.2.2 F-regression"
   ]
  },
  {
   "cell_type": "code",
   "execution_count": 78,
   "metadata": {},
   "outputs": [],
   "source": [
    "from sklearn.feature_selection import f_regression\n",
    "F_values, p_values  = f_regression(X, Y.spent ) # Will give two arrays of f and p values"
   ]
  },
  {
   "cell_type": "code",
   "execution_count": 79,
   "metadata": {},
   "outputs": [],
   "source": [
    "F_values = pd.Series(F_values)\n",
    "p_values = pd.Series(p_values)\n",
    "cols = pd.Series(X.columns)\n",
    "\n",
    "f_vars = pd.concat([cols,F_values,p_values],axis=1)\n",
    "f_vars.columns = ['col','f_val','p_val']"
   ]
  },
  {
   "cell_type": "code",
   "execution_count": 80,
   "metadata": {},
   "outputs": [],
   "source": [
    "f_vars = f_vars.sort_values(by=['f_val'],ascending=False)\n",
    "selected_vars_freg = list(f_vars.col.head(15))"
   ]
  },
  {
   "cell_type": "markdown",
   "metadata": {},
   "source": [
    "### 3.2.3 Select K best"
   ]
  },
  {
   "cell_type": "code",
   "execution_count": 81,
   "metadata": {},
   "outputs": [
    {
     "data": {
      "text/plain": [
       "SelectKBest(k=15, score_func=<function f_classif at 0x0000000005470D38>)"
      ]
     },
     "execution_count": 81,
     "metadata": {},
     "output_type": "execute_result"
    }
   ],
   "source": [
    "from sklearn.feature_selection import SelectKBest, f_classif, chi2 \n",
    "selector = SelectKBest(f_classif, k=15) # similarly can do for Chi square\n",
    "selector.fit(X, Y.spent)"
   ]
  },
  {
   "cell_type": "code",
   "execution_count": 82,
   "metadata": {},
   "outputs": [],
   "source": [
    "K_Best = X.columns[selector.get_support()]\n",
    "selected_vars_Kbest = list(K_Best)"
   ]
  },
  {
   "cell_type": "markdown",
   "metadata": {},
   "source": [
    "#### Miscellaneous"
   ]
  },
  {
   "cell_type": "markdown",
   "metadata": {},
   "source": [
    "The Important features identified by applying the Decision Tree Regressor on the entire dataset with Best parameters <br> (in descending order of importance) <br>\n",
    "card\tincome\tinccat\tcard2\thourstv\tlninc\tpolview\tdebtinc\tage\tothdebt\tcarvalue\tlnlongmon\tlnothdebt\ted\tlnlongten\tcardten\taddress\tlncreddebt\tlongmon\tcard2type\ttollmon\tlnwiremon\tcardbenefit\tinternet\tcars\tcommute\tequipten"
   ]
  },
  {
   "cell_type": "markdown",
   "metadata": {},
   "source": [
    "### 3.3 Combining the Selected Features "
   ]
  },
  {
   "cell_type": "code",
   "execution_count": 83,
   "metadata": {},
   "outputs": [],
   "source": [
    "selected_vars_final2 = selected_vars_rfe + selected_vars_freg + selected_vars_Kbest"
   ]
  },
  {
   "cell_type": "markdown",
   "metadata": {},
   "source": [
    "### ----------------------------------------------------------------------------------------------------------------------------"
   ]
  },
  {
   "cell_type": "markdown",
   "metadata": {},
   "source": [
    "### 3.4 Combining the Final Feature from (only Xs) and (X and Y) methods"
   ]
  },
  {
   "cell_type": "code",
   "execution_count": 84,
   "metadata": {},
   "outputs": [],
   "source": [
    "selected_vars_final = list(set(selected_vars_final1 +  selected_vars_final2))"
   ]
  },
  {
   "cell_type": "code",
   "execution_count": 85,
   "metadata": {},
   "outputs": [
    {
     "name": "stdout",
     "output_type": "stream",
     "text": [
      "['creddebt', 'churn', 'cardbenefit_3', 'cardbenefit_2', 'card2_3', 'default', 'othdebt', 'cardbenefit_4', 'card2_4', 'retire', 'tenure', 'card_2', 'marital', 'card_4', 'ed', 'card2_2', 'card2_5', 'card_5', 'gender', 'income', 'card_3', 'jobcat_2', 'reason_2', 'debtinc', 'reason_9', 'age', 'active']\n"
     ]
    }
   ],
   "source": [
    "print(selected_vars_final)"
   ]
  },
  {
   "cell_type": "code",
   "execution_count": 86,
   "metadata": {},
   "outputs": [],
   "source": [
    "selected_vars_final = ['reason_9', 'marital', 'jobcat_2', 'churn', 'reason_2', 'card_3', 'tenure', 'default', 'card_5', 'cardbenefit_2', 'card2_5', 'card2_4', 'card2_2', 'card_2', 'cardbenefit_4', 'debtinc', 'cardbenefit_3', 'gender', 'creddebt', 'income', 'card_4', 'active', 'ed', 'retire', 'card2_3', 'age', 'othdebt']"
   ]
  },
  {
   "cell_type": "code",
   "execution_count": 87,
   "metadata": {},
   "outputs": [],
   "source": [
    "X_final = X[selected_vars_final]"
   ]
  },
  {
   "cell_type": "code",
   "execution_count": 88,
   "metadata": {},
   "outputs": [
    {
     "data": {
      "text/html": [
       "<div>\n",
       "<style scoped>\n",
       "    .dataframe tbody tr th:only-of-type {\n",
       "        vertical-align: middle;\n",
       "    }\n",
       "\n",
       "    .dataframe tbody tr th {\n",
       "        vertical-align: top;\n",
       "    }\n",
       "\n",
       "    .dataframe thead th {\n",
       "        text-align: right;\n",
       "    }\n",
       "</style>\n",
       "<table border=\"1\" class=\"dataframe\">\n",
       "  <thead>\n",
       "    <tr style=\"text-align: right;\">\n",
       "      <th></th>\n",
       "      <th>reason_9</th>\n",
       "      <th>marital</th>\n",
       "      <th>jobcat_2</th>\n",
       "      <th>churn</th>\n",
       "      <th>reason_2</th>\n",
       "      <th>card_3</th>\n",
       "      <th>tenure</th>\n",
       "      <th>default</th>\n",
       "      <th>card_5</th>\n",
       "      <th>cardbenefit_2</th>\n",
       "      <th>...</th>\n",
       "      <th>gender</th>\n",
       "      <th>creddebt</th>\n",
       "      <th>income</th>\n",
       "      <th>card_4</th>\n",
       "      <th>active</th>\n",
       "      <th>ed</th>\n",
       "      <th>retire</th>\n",
       "      <th>card2_3</th>\n",
       "      <th>age</th>\n",
       "      <th>othdebt</th>\n",
       "    </tr>\n",
       "  </thead>\n",
       "  <tbody>\n",
       "    <tr>\n",
       "      <td>0</td>\n",
       "      <td>1</td>\n",
       "      <td>0</td>\n",
       "      <td>0</td>\n",
       "      <td>1</td>\n",
       "      <td>0</td>\n",
       "      <td>1</td>\n",
       "      <td>5</td>\n",
       "      <td>1</td>\n",
       "      <td>0</td>\n",
       "      <td>0</td>\n",
       "      <td>...</td>\n",
       "      <td>1</td>\n",
       "      <td>1.200909</td>\n",
       "      <td>31.0</td>\n",
       "      <td>0</td>\n",
       "      <td>0</td>\n",
       "      <td>15</td>\n",
       "      <td>0</td>\n",
       "      <td>0</td>\n",
       "      <td>20</td>\n",
       "      <td>2.240091</td>\n",
       "    </tr>\n",
       "    <tr>\n",
       "      <td>1</td>\n",
       "      <td>1</td>\n",
       "      <td>0</td>\n",
       "      <td>1</td>\n",
       "      <td>0</td>\n",
       "      <td>0</td>\n",
       "      <td>0</td>\n",
       "      <td>39</td>\n",
       "      <td>1</td>\n",
       "      <td>0</td>\n",
       "      <td>0</td>\n",
       "      <td>...</td>\n",
       "      <td>0</td>\n",
       "      <td>1.222020</td>\n",
       "      <td>15.0</td>\n",
       "      <td>0</td>\n",
       "      <td>1</td>\n",
       "      <td>17</td>\n",
       "      <td>0</td>\n",
       "      <td>0</td>\n",
       "      <td>22</td>\n",
       "      <td>1.567980</td>\n",
       "    </tr>\n",
       "    <tr>\n",
       "      <td>2</td>\n",
       "      <td>0</td>\n",
       "      <td>1</td>\n",
       "      <td>1</td>\n",
       "      <td>0</td>\n",
       "      <td>1</td>\n",
       "      <td>0</td>\n",
       "      <td>65</td>\n",
       "      <td>0</td>\n",
       "      <td>0</td>\n",
       "      <td>0</td>\n",
       "      <td>...</td>\n",
       "      <td>1</td>\n",
       "      <td>0.928620</td>\n",
       "      <td>35.0</td>\n",
       "      <td>0</td>\n",
       "      <td>0</td>\n",
       "      <td>14</td>\n",
       "      <td>0</td>\n",
       "      <td>0</td>\n",
       "      <td>67</td>\n",
       "      <td>2.536380</td>\n",
       "    </tr>\n",
       "    <tr>\n",
       "      <td>3</td>\n",
       "      <td>1</td>\n",
       "      <td>1</td>\n",
       "      <td>1</td>\n",
       "      <td>0</td>\n",
       "      <td>0</td>\n",
       "      <td>0</td>\n",
       "      <td>36</td>\n",
       "      <td>1</td>\n",
       "      <td>0</td>\n",
       "      <td>0</td>\n",
       "      <td>...</td>\n",
       "      <td>0</td>\n",
       "      <td>0.033160</td>\n",
       "      <td>20.0</td>\n",
       "      <td>0</td>\n",
       "      <td>1</td>\n",
       "      <td>16</td>\n",
       "      <td>0</td>\n",
       "      <td>1</td>\n",
       "      <td>23</td>\n",
       "      <td>1.117200</td>\n",
       "    </tr>\n",
       "    <tr>\n",
       "      <td>4</td>\n",
       "      <td>1</td>\n",
       "      <td>1</td>\n",
       "      <td>1</td>\n",
       "      <td>0</td>\n",
       "      <td>0</td>\n",
       "      <td>0</td>\n",
       "      <td>21</td>\n",
       "      <td>0</td>\n",
       "      <td>0</td>\n",
       "      <td>0</td>\n",
       "      <td>...</td>\n",
       "      <td>0</td>\n",
       "      <td>0.214659</td>\n",
       "      <td>23.0</td>\n",
       "      <td>1</td>\n",
       "      <td>1</td>\n",
       "      <td>16</td>\n",
       "      <td>0</td>\n",
       "      <td>0</td>\n",
       "      <td>26</td>\n",
       "      <td>0.176341</td>\n",
       "    </tr>\n",
       "  </tbody>\n",
       "</table>\n",
       "<p>5 rows × 27 columns</p>\n",
       "</div>"
      ],
      "text/plain": [
       "   reason_9  marital  jobcat_2  churn  reason_2  card_3  tenure  default  \\\n",
       "0         1        0         0      1         0       1       5        1   \n",
       "1         1        0         1      0         0       0      39        1   \n",
       "2         0        1         1      0         1       0      65        0   \n",
       "3         1        1         1      0         0       0      36        1   \n",
       "4         1        1         1      0         0       0      21        0   \n",
       "\n",
       "   card_5  cardbenefit_2  ...  gender  creddebt  income  card_4  active  ed  \\\n",
       "0       0              0  ...       1  1.200909    31.0       0       0  15   \n",
       "1       0              0  ...       0  1.222020    15.0       0       1  17   \n",
       "2       0              0  ...       1  0.928620    35.0       0       0  14   \n",
       "3       0              0  ...       0  0.033160    20.0       0       1  16   \n",
       "4       0              0  ...       0  0.214659    23.0       1       1  16   \n",
       "\n",
       "   retire  card2_3  age   othdebt  \n",
       "0       0        0   20  2.240091  \n",
       "1       0        0   22  1.567980  \n",
       "2       0        0   67  2.536380  \n",
       "3       0        1   23  1.117200  \n",
       "4       0        0   26  0.176341  \n",
       "\n",
       "[5 rows x 27 columns]"
      ]
     },
     "execution_count": 88,
     "metadata": {},
     "output_type": "execute_result"
    }
   ],
   "source": [
    "X_final.head()"
   ]
  },
  {
   "cell_type": "code",
   "execution_count": 89,
   "metadata": {},
   "outputs": [
    {
     "data": {
      "text/html": [
       "<div>\n",
       "<style scoped>\n",
       "    .dataframe tbody tr th:only-of-type {\n",
       "        vertical-align: middle;\n",
       "    }\n",
       "\n",
       "    .dataframe tbody tr th {\n",
       "        vertical-align: top;\n",
       "    }\n",
       "\n",
       "    .dataframe thead th {\n",
       "        text-align: right;\n",
       "    }\n",
       "</style>\n",
       "<table border=\"1\" class=\"dataframe\">\n",
       "  <thead>\n",
       "    <tr style=\"text-align: right;\">\n",
       "      <th></th>\n",
       "      <th>cardspent</th>\n",
       "      <th>card2spent</th>\n",
       "      <th>spent</th>\n",
       "    </tr>\n",
       "  </thead>\n",
       "  <tbody>\n",
       "    <tr>\n",
       "      <td>0</td>\n",
       "      <td>81.66</td>\n",
       "      <td>67.80</td>\n",
       "      <td>149.46</td>\n",
       "    </tr>\n",
       "    <tr>\n",
       "      <td>1</td>\n",
       "      <td>42.60</td>\n",
       "      <td>34.94</td>\n",
       "      <td>77.54</td>\n",
       "    </tr>\n",
       "    <tr>\n",
       "      <td>2</td>\n",
       "      <td>184.22</td>\n",
       "      <td>175.75</td>\n",
       "      <td>359.97</td>\n",
       "    </tr>\n",
       "    <tr>\n",
       "      <td>3</td>\n",
       "      <td>340.99</td>\n",
       "      <td>18.42</td>\n",
       "      <td>359.41</td>\n",
       "    </tr>\n",
       "    <tr>\n",
       "      <td>4</td>\n",
       "      <td>255.10</td>\n",
       "      <td>252.73</td>\n",
       "      <td>507.83</td>\n",
       "    </tr>\n",
       "  </tbody>\n",
       "</table>\n",
       "</div>"
      ],
      "text/plain": [
       "   cardspent  card2spent   spent\n",
       "0      81.66       67.80  149.46\n",
       "1      42.60       34.94   77.54\n",
       "2     184.22      175.75  359.97\n",
       "3     340.99       18.42  359.41\n",
       "4     255.10      252.73  507.83"
      ]
     },
     "execution_count": 89,
     "metadata": {},
     "output_type": "execute_result"
    }
   ],
   "source": [
    "Y.head()"
   ]
  },
  {
   "cell_type": "code",
   "execution_count": 90,
   "metadata": {},
   "outputs": [
    {
     "data": {
      "text/plain": [
       "((5000, 33),\n",
       " Index(['active', 'age', 'card2_2', 'card2_3', 'card2_4', 'card2_5', 'card_2',\n",
       "        'card_3', 'card_4', 'card_5', 'cardbenefit_2', 'cardbenefit_3',\n",
       "        'cardbenefit_4', 'churn', 'creddebt', 'debtinc', 'default', 'ed',\n",
       "        'gender', 'income', 'jobcat_2', 'jobcat_3', 'jobcat_4', 'jobcat_5',\n",
       "        'jobcat_6', 'marital', 'othdebt', 'reason_2', 'reason_3', 'reason_4',\n",
       "        'reason_9', 'retire', 'tenure'],\n",
       "       dtype='object'))"
      ]
     },
     "execution_count": 90,
     "metadata": {},
     "output_type": "execute_result"
    }
   ],
   "source": [
    "X.shape, X.columns"
   ]
  },
  {
   "cell_type": "markdown",
   "metadata": {},
   "source": [
    "### ----------------------------------------------------------------------------------------------------------------------------"
   ]
  },
  {
   "cell_type": "markdown",
   "metadata": {},
   "source": [
    "### 3.5 Splitting the dataset in to test and train"
   ]
  },
  {
   "cell_type": "code",
   "execution_count": 91,
   "metadata": {},
   "outputs": [],
   "source": [
    "y = Y.spent\n",
    "lny = np.log(y)"
   ]
  },
  {
   "cell_type": "code",
   "execution_count": 92,
   "metadata": {},
   "outputs": [
    {
     "data": {
      "text/plain": [
       "7.473127268157884"
      ]
     },
     "execution_count": 92,
     "metadata": {},
     "output_type": "execute_result"
    }
   ],
   "source": [
    "np.max(lny)"
   ]
  },
  {
   "cell_type": "code",
   "execution_count": 93,
   "metadata": {},
   "outputs": [],
   "source": [
    "from sklearn.model_selection import train_test_split\n",
    "X_train, X_test, y_train, y_test = train_test_split(X_final, lny, test_size = 0.3, random_state = 123)"
   ]
  },
  {
   "cell_type": "markdown",
   "metadata": {},
   "source": [
    "### --------------------------------------------- End of Data Preparation ---------------------------------------------"
   ]
  },
  {
   "cell_type": "markdown",
   "metadata": {},
   "source": [
    "## 4 Model Implementation"
   ]
  },
  {
   "cell_type": "markdown",
   "metadata": {},
   "source": [
    "The Algorithms used for model building are, <br>\n",
    "> Ridge, Lasso, ELasticNet <br>\n",
    "> Random Forest Regressor <br>\n",
    "> XGBoost Regressor<br>\n",
    "> Support Vector Regressor<br>"
   ]
  },
  {
   "cell_type": "markdown",
   "metadata": {},
   "source": [
    "### Linear Regression"
   ]
  },
  {
   "cell_type": "code",
   "execution_count": 94,
   "metadata": {},
   "outputs": [],
   "source": [
    "#Importing packages\n",
    "from sklearn import metrics\n",
    "from sklearn.metrics import mean_squared_error\n",
    "from sklearn.model_selection import GridSearchCV"
   ]
  },
  {
   "cell_type": "code",
   "execution_count": 95,
   "metadata": {},
   "outputs": [],
   "source": [
    "from sklearn.linear_model import Ridge,Lasso"
   ]
  },
  {
   "cell_type": "code",
   "execution_count": 96,
   "metadata": {},
   "outputs": [],
   "source": [
    "eva_dict ={}"
   ]
  },
  {
   "cell_type": "code",
   "execution_count": 97,
   "metadata": {},
   "outputs": [],
   "source": [
    "def eva_met (algorithm,train_pred,test_pred ):\n",
    "    t1 = np.exp(train_pred)\n",
    "    t2 = np.exp(test_pred)\n",
    "    t3 = np.exp(y_train)\n",
    "    t4 = np.exp(y_test)\n",
    "\n",
    "    print(algorithm)\n",
    "\n",
    "    #Mean Absolute Percentage Error \n",
    "    print(\"MAPE values for actual training and testing data :\")\n",
    "    MAPE_train = np.mean(np.abs(t3 - t1)/t3)\n",
    "    print(MAPE_train)\n",
    "    MAPE_test = np.mean(np.abs(t4- t2)/t4)\n",
    "    print(MAPE_test)\n",
    "\n",
    "    #Root Mean Squared error\n",
    "    print(\"\\nRMSE values for actual training and testing data :\")\n",
    "    RMSE_train = np.sqrt(mean_squared_error(t3,t1))\n",
    "    print(RMSE_train)\n",
    "    RMSE_test =np.sqrt(mean_squared_error(t4,t2))\n",
    "    print(RMSE_test)\n",
    "    \n",
    "    eva_dict.update({algorithm : [MAPE_train,MAPE_test,RMSE_train,RMSE_test]})"
   ]
  },
  {
   "cell_type": "markdown",
   "metadata": {},
   "source": [
    "### Ridge"
   ]
  },
  {
   "cell_type": "code",
   "execution_count": 98,
   "metadata": {},
   "outputs": [
    {
     "data": {
      "text/plain": [
       "Ridge(alpha=0.01, copy_X=True, fit_intercept=True, max_iter=None,\n",
       "      normalize=False, random_state=None, solver='auto', tol=0.001)"
      ]
     },
     "execution_count": 98,
     "metadata": {},
     "output_type": "execute_result"
    }
   ],
   "source": [
    "Ridge_Reg = Ridge(alpha=0.01)\n",
    "Ridge_Reg.fit(X_train,y_train)"
   ]
  },
  {
   "cell_type": "code",
   "execution_count": 99,
   "metadata": {},
   "outputs": [],
   "source": [
    "#Predicting values for both training and testing data sets\n",
    "rid_train_pred=Ridge_Reg.predict(X_train)\n",
    "rid_test_pred=Ridge_Reg.predict(X_test)"
   ]
  },
  {
   "cell_type": "code",
   "execution_count": 100,
   "metadata": {},
   "outputs": [
    {
     "name": "stdout",
     "output_type": "stream",
     "text": [
      "Ridge\n",
      "MAPE values for actual training and testing data :\n",
      "0.4890222170100434\n",
      "0.45235669621054164\n",
      "\n",
      "RMSE values for actual training and testing data :\n",
      "272.84869007679634\n",
      "272.40922622855294\n"
     ]
    }
   ],
   "source": [
    "eva_met ('Ridge',rid_train_pred,rid_test_pred)"
   ]
  },
  {
   "cell_type": "code",
   "execution_count": 101,
   "metadata": {},
   "outputs": [],
   "source": [
    "pd.concat([pd.Series(X_final.columns),pd.Series((Ridge_Reg.coef_))],axis=1).sort_values(by=[1],ascending=False).head();"
   ]
  },
  {
   "cell_type": "markdown",
   "metadata": {},
   "source": [
    "### Lasso"
   ]
  },
  {
   "cell_type": "code",
   "execution_count": 102,
   "metadata": {},
   "outputs": [
    {
     "data": {
      "text/plain": [
       "Lasso(alpha=0.01, copy_X=True, fit_intercept=True, max_iter=1000,\n",
       "      normalize=False, positive=False, precompute=False, random_state=None,\n",
       "      selection='cyclic', tol=0.0001, warm_start=False)"
      ]
     },
     "execution_count": 102,
     "metadata": {},
     "output_type": "execute_result"
    }
   ],
   "source": [
    "Lasso_Reg = Lasso(alpha=0.01)\n",
    "Lasso_Reg.fit(X_train,y_train)"
   ]
  },
  {
   "cell_type": "code",
   "execution_count": 103,
   "metadata": {},
   "outputs": [],
   "source": [
    "#Predicting values for both training and testing data sets\n",
    "las_train_pred=Lasso_Reg.predict(X_train)\n",
    "las_test_pred=Lasso_Reg.predict(X_test)"
   ]
  },
  {
   "cell_type": "code",
   "execution_count": 104,
   "metadata": {},
   "outputs": [
    {
     "name": "stdout",
     "output_type": "stream",
     "text": [
      "Lasso\n",
      "MAPE values for actual training and testing data :\n",
      "0.5198829837119091\n",
      "0.4774571919281728\n",
      "\n",
      "RMSE values for actual training and testing data :\n",
      "290.8521367331602\n",
      "290.66543304178185\n"
     ]
    }
   ],
   "source": [
    "eva_met ('Lasso',las_train_pred,las_test_pred)"
   ]
  },
  {
   "cell_type": "markdown",
   "metadata": {},
   "source": [
    "### ElasticNet"
   ]
  },
  {
   "cell_type": "code",
   "execution_count": 105,
   "metadata": {},
   "outputs": [],
   "source": [
    "from sklearn.linear_model import ElasticNet"
   ]
  },
  {
   "cell_type": "code",
   "execution_count": 106,
   "metadata": {},
   "outputs": [
    {
     "data": {
      "text/plain": [
       "ElasticNet(alpha=0.01, copy_X=True, fit_intercept=True, l1_ratio=0.5,\n",
       "           max_iter=1000, normalize=False, positive=False, precompute=False,\n",
       "           random_state=None, selection='cyclic', tol=0.0001, warm_start=False)"
      ]
     },
     "execution_count": 106,
     "metadata": {},
     "output_type": "execute_result"
    }
   ],
   "source": [
    "Elastic_Reg = ElasticNet(alpha=0.01)\n",
    "Elastic_Reg.fit(X_train,y_train)"
   ]
  },
  {
   "cell_type": "code",
   "execution_count": 107,
   "metadata": {},
   "outputs": [],
   "source": [
    "#Predicting values for both training and testing data sets\n",
    "els_train_pred=Elastic_Reg.predict(X_train)\n",
    "els_test_pred=Elastic_Reg.predict(X_test)"
   ]
  },
  {
   "cell_type": "code",
   "execution_count": 108,
   "metadata": {},
   "outputs": [
    {
     "name": "stdout",
     "output_type": "stream",
     "text": [
      "ElasticNet\n",
      "MAPE values for actual training and testing data :\n",
      "0.5036447440195508\n",
      "0.46234724046719605\n",
      "\n",
      "RMSE values for actual training and testing data :\n",
      "283.0210192679951\n",
      "282.3265413092214\n"
     ]
    }
   ],
   "source": [
    "eva_met ('ElasticNet',els_train_pred,els_test_pred)"
   ]
  },
  {
   "cell_type": "markdown",
   "metadata": {},
   "source": [
    "### 4.1 Random Forest"
   ]
  },
  {
   "cell_type": "code",
   "execution_count": 109,
   "metadata": {},
   "outputs": [],
   "source": [
    "from sklearn.ensemble import RandomForestRegressor"
   ]
  },
  {
   "cell_type": "code",
   "execution_count": 110,
   "metadata": {},
   "outputs": [
    {
     "data": {
      "text/plain": [
       "GridSearchCV(cv=5, error_score='raise-deprecating',\n",
       "             estimator=RandomForestRegressor(bootstrap=True, criterion='mse',\n",
       "                                             max_depth=None,\n",
       "                                             max_features='auto',\n",
       "                                             max_leaf_nodes=None,\n",
       "                                             min_impurity_decrease=0.0,\n",
       "                                             min_impurity_split=None,\n",
       "                                             min_samples_leaf=1,\n",
       "                                             min_samples_split=2,\n",
       "                                             min_weight_fraction_leaf=0.0,\n",
       "                                             n_estimators='warn', n_jobs=None,\n",
       "                                             oob_score=False, random_state=None,\n",
       "                                             verbose=0, warm_start=False),\n",
       "             iid='warn', n_jobs=-1,\n",
       "             param_grid={'max_depth': [8], 'n_estimators': [350]},\n",
       "             pre_dispatch='2*n_jobs', refit=True, return_train_score=False,\n",
       "             scoring=None, verbose=0)"
      ]
     },
     "execution_count": 110,
     "metadata": {},
     "output_type": "execute_result"
    }
   ],
   "source": [
    "'''pargrid_ada = {'n_estimators': [300,350],\n",
    "               'max_depth':[4,8,10]}'''\n",
    "\n",
    "pargrid_ada = {'max_depth': [8], 'n_estimators': [350]}\n",
    "data_rf = GridSearchCV(estimator=RandomForestRegressor(), \n",
    "                        param_grid=pargrid_ada, \n",
    "                        cv=5,n_jobs=-1)\n",
    "data_rf.fit(X_train, y_train)"
   ]
  },
  {
   "cell_type": "code",
   "execution_count": 111,
   "metadata": {},
   "outputs": [
    {
     "data": {
      "text/plain": [
       "{'max_depth': 8, 'n_estimators': 350}"
      ]
     },
     "execution_count": 111,
     "metadata": {},
     "output_type": "execute_result"
    }
   ],
   "source": [
    "data_rf.best_params_"
   ]
  },
  {
   "cell_type": "code",
   "execution_count": 112,
   "metadata": {},
   "outputs": [],
   "source": [
    "#Predicting values for both training and testing data sets\n",
    "rf_train_pred=data_rf.predict(X_train)\n",
    "rf_test_pred=data_rf.predict(X_test)"
   ]
  },
  {
   "cell_type": "code",
   "execution_count": 113,
   "metadata": {},
   "outputs": [
    {
     "name": "stdout",
     "output_type": "stream",
     "text": [
      "Random Forest\n",
      "MAPE values for actual training and testing data :\n",
      "0.4001202834955637\n",
      "0.482776389754272\n",
      "\n",
      "RMSE values for actual training and testing data :\n",
      "240.96771331832687\n",
      "285.51608329677555\n"
     ]
    }
   ],
   "source": [
    "eva_met ('Random Forest',rf_train_pred,rf_test_pred)"
   ]
  },
  {
   "cell_type": "markdown",
   "metadata": {},
   "source": [
    "### SVR"
   ]
  },
  {
   "cell_type": "code",
   "execution_count": 114,
   "metadata": {},
   "outputs": [],
   "source": [
    "#Importing required modules\n",
    "from sklearn.svm import SVR"
   ]
  },
  {
   "cell_type": "code",
   "execution_count": 115,
   "metadata": {},
   "outputs": [
    {
     "data": {
      "text/plain": [
       "GridSearchCV(cv=5, error_score='raise-deprecating',\n",
       "             estimator=SVR(C=1.0, cache_size=200, coef0=0.0, degree=3,\n",
       "                           epsilon=0.1, gamma='auto_deprecated', kernel='rbf',\n",
       "                           max_iter=-1, shrinking=True, tol=0.001,\n",
       "                           verbose=False),\n",
       "             iid='warn', n_jobs=-1,\n",
       "             param_grid=[{'epsilon': [1.25], 'gamma': [0.01],\n",
       "                          'kernel': ['linear']}],\n",
       "             pre_dispatch='2*n_jobs', refit=True, return_train_score=False,\n",
       "             scoring=None, verbose=0)"
      ]
     },
     "execution_count": 115,
     "metadata": {},
     "output_type": "execute_result"
    }
   ],
   "source": [
    "#Model building using svm \n",
    "tuned_parameters = [{#'C': [1,5],\n",
    "                    'gamma':[0.01],\n",
    "                    'kernel':['linear'],\n",
    "                    'epsilon':[1.25]}]\n",
    "\n",
    "svr = GridSearchCV(SVR(),tuned_parameters,cv=5,n_jobs=-1)\n",
    "#svr = SVR()\n",
    "svr.fit(X_train,y_train)"
   ]
  },
  {
   "cell_type": "code",
   "execution_count": 116,
   "metadata": {},
   "outputs": [
    {
     "data": {
      "text/plain": [
       "{'epsilon': 1.25, 'gamma': 0.01, 'kernel': 'linear'}"
      ]
     },
     "execution_count": 116,
     "metadata": {},
     "output_type": "execute_result"
    }
   ],
   "source": [
    "svr.best_params_"
   ]
  },
  {
   "cell_type": "code",
   "execution_count": 117,
   "metadata": {},
   "outputs": [],
   "source": [
    "svr_test_pred = svr.predict(X_test)\n",
    "svr_train_pred = svr.predict(X_train)"
   ]
  },
  {
   "cell_type": "code",
   "execution_count": 118,
   "metadata": {},
   "outputs": [
    {
     "name": "stdout",
     "output_type": "stream",
     "text": [
      "SVR\n",
      "MAPE values for actual training and testing data :\n",
      "0.4597436856040626\n",
      "0.43411297404073435\n",
      "\n",
      "RMSE values for actual training and testing data :\n",
      "299.92487914597933\n",
      "300.8863336094889\n"
     ]
    }
   ],
   "source": [
    "eva_met ('SVR',svr_train_pred,svr_test_pred)"
   ]
  },
  {
   "cell_type": "markdown",
   "metadata": {},
   "source": [
    "### XGBoost"
   ]
  },
  {
   "cell_type": "code",
   "execution_count": 119,
   "metadata": {},
   "outputs": [],
   "source": [
    "#Importing Required packages\n",
    "import xgboost"
   ]
  },
  {
   "cell_type": "code",
   "execution_count": 120,
   "metadata": {},
   "outputs": [
    {
     "name": "stdout",
     "output_type": "stream",
     "text": [
      "[21:34:00] WARNING: src/objective/regression_obj.cu:152: reg:linear is now deprecated in favor of reg:squarederror.\n"
     ]
    },
    {
     "name": "stderr",
     "output_type": "stream",
     "text": [
      "C:\\Users\\guru\\Anaconda3\\lib\\site-packages\\xgboost\\core.py:587: FutureWarning: Series.base is deprecated and will be removed in a future version\n",
      "  if getattr(data, 'base', None) is not None and \\\n"
     ]
    }
   ],
   "source": [
    "pargrid_xg = {'n_estimators': [38],\n",
    "               'max_depth':[4]}\n",
    "\n",
    "gscv_xg = GridSearchCV(estimator=xgboost.XGBRegressor(), \n",
    "                        param_grid=pargrid_xg, \n",
    "                        cv=5,n_jobs=-1)\n",
    "\n",
    "data_xg=gscv_xg.fit(X_train, y_train)"
   ]
  },
  {
   "cell_type": "code",
   "execution_count": 121,
   "metadata": {},
   "outputs": [
    {
     "data": {
      "text/plain": [
       "{'max_depth': 4, 'n_estimators': 38}"
      ]
     },
     "execution_count": 121,
     "metadata": {},
     "output_type": "execute_result"
    }
   ],
   "source": [
    "gscv_xg.best_params_"
   ]
  },
  {
   "cell_type": "code",
   "execution_count": 122,
   "metadata": {},
   "outputs": [],
   "source": [
    "#Predicting values for both training and testing data sets\n",
    "xg_train_pred=data_xg.predict(X_train)\n",
    "xg_test_pred=data_xg.predict(X_test)"
   ]
  },
  {
   "cell_type": "code",
   "execution_count": 123,
   "metadata": {},
   "outputs": [
    {
     "name": "stdout",
     "output_type": "stream",
     "text": [
      "XGboost\n",
      "MAPE values for actual training and testing data :\n",
      "0.4344944927890841\n",
      "0.43039491116434425\n",
      "\n",
      "RMSE values for actual training and testing data :\n",
      "285.88574371852326\n",
      "292.84150405216633\n"
     ]
    }
   ],
   "source": [
    "eva_met ('XGboost',xg_train_pred,xg_test_pred)"
   ]
  },
  {
   "cell_type": "code",
   "execution_count": 124,
   "metadata": {},
   "outputs": [
    {
     "data": {
      "text/html": [
       "<div>\n",
       "<style scoped>\n",
       "    .dataframe tbody tr th:only-of-type {\n",
       "        vertical-align: middle;\n",
       "    }\n",
       "\n",
       "    .dataframe tbody tr th {\n",
       "        vertical-align: top;\n",
       "    }\n",
       "\n",
       "    .dataframe thead th {\n",
       "        text-align: right;\n",
       "    }\n",
       "</style>\n",
       "<table border=\"1\" class=\"dataframe\">\n",
       "  <thead>\n",
       "    <tr style=\"text-align: right;\">\n",
       "      <th></th>\n",
       "      <th>y_train</th>\n",
       "      <th>RF</th>\n",
       "      <th>SVR</th>\n",
       "      <th>XG</th>\n",
       "      <th>RID</th>\n",
       "      <th>LAS</th>\n",
       "      <th>ELS</th>\n",
       "    </tr>\n",
       "  </thead>\n",
       "  <tbody>\n",
       "    <tr>\n",
       "      <td>3495</td>\n",
       "      <td>207.19</td>\n",
       "      <td>333.651869</td>\n",
       "      <td>219.201410</td>\n",
       "      <td>279.842468</td>\n",
       "      <td>300.263146</td>\n",
       "      <td>336.639931</td>\n",
       "      <td>318.539480</td>\n",
       "    </tr>\n",
       "    <tr>\n",
       "      <td>3496</td>\n",
       "      <td>177.01</td>\n",
       "      <td>322.042669</td>\n",
       "      <td>245.421586</td>\n",
       "      <td>321.612488</td>\n",
       "      <td>312.640079</td>\n",
       "      <td>365.220924</td>\n",
       "      <td>355.263268</td>\n",
       "    </tr>\n",
       "    <tr>\n",
       "      <td>3497</td>\n",
       "      <td>567.87</td>\n",
       "      <td>393.075704</td>\n",
       "      <td>259.974356</td>\n",
       "      <td>344.479736</td>\n",
       "      <td>324.906141</td>\n",
       "      <td>389.988149</td>\n",
       "      <td>375.080218</td>\n",
       "    </tr>\n",
       "    <tr>\n",
       "      <td>3498</td>\n",
       "      <td>302.95</td>\n",
       "      <td>318.749163</td>\n",
       "      <td>283.119624</td>\n",
       "      <td>319.614349</td>\n",
       "      <td>352.357373</td>\n",
       "      <td>358.313705</td>\n",
       "      <td>352.134491</td>\n",
       "    </tr>\n",
       "    <tr>\n",
       "      <td>3499</td>\n",
       "      <td>452.38</td>\n",
       "      <td>320.303434</td>\n",
       "      <td>306.308416</td>\n",
       "      <td>305.954193</td>\n",
       "      <td>320.698019</td>\n",
       "      <td>346.200001</td>\n",
       "      <td>350.531206</td>\n",
       "    </tr>\n",
       "  </tbody>\n",
       "</table>\n",
       "</div>"
      ],
      "text/plain": [
       "      y_train          RF         SVR          XG         RID         LAS  \\\n",
       "3495   207.19  333.651869  219.201410  279.842468  300.263146  336.639931   \n",
       "3496   177.01  322.042669  245.421586  321.612488  312.640079  365.220924   \n",
       "3497   567.87  393.075704  259.974356  344.479736  324.906141  389.988149   \n",
       "3498   302.95  318.749163  283.119624  319.614349  352.357373  358.313705   \n",
       "3499   452.38  320.303434  306.308416  305.954193  320.698019  346.200001   \n",
       "\n",
       "             ELS  \n",
       "3495  318.539480  \n",
       "3496  355.263268  \n",
       "3497  375.080218  \n",
       "3498  352.134491  \n",
       "3499  350.531206  "
      ]
     },
     "execution_count": 124,
     "metadata": {},
     "output_type": "execute_result"
    }
   ],
   "source": [
    "train_out = pd.concat([pd.Series(y_train).reset_index(drop=True),pd.Series(rf_train_pred),pd.Series(svr_train_pred),pd.Series(xg_train_pred)\n",
    "                      ,pd.Series(rid_train_pred),pd.Series(las_train_pred),pd.Series(els_train_pred)], axis=1)\n",
    "train_out.columns = ['y_train','RF','SVR','XG','RID','LAS','ELS']\n",
    "train_out = train_out.apply(np.exp)\n",
    "train_out.tail(5)"
   ]
  },
  {
   "cell_type": "code",
   "execution_count": 125,
   "metadata": {},
   "outputs": [
    {
     "data": {
      "text/html": [
       "<div>\n",
       "<style scoped>\n",
       "    .dataframe tbody tr th:only-of-type {\n",
       "        vertical-align: middle;\n",
       "    }\n",
       "\n",
       "    .dataframe tbody tr th {\n",
       "        vertical-align: top;\n",
       "    }\n",
       "\n",
       "    .dataframe thead th {\n",
       "        text-align: right;\n",
       "    }\n",
       "</style>\n",
       "<table border=\"1\" class=\"dataframe\">\n",
       "  <thead>\n",
       "    <tr style=\"text-align: right;\">\n",
       "      <th></th>\n",
       "      <th>y_test</th>\n",
       "      <th>RF</th>\n",
       "      <th>SVR</th>\n",
       "      <th>XG</th>\n",
       "      <th>RID</th>\n",
       "      <th>LAS</th>\n",
       "      <th>ELS</th>\n",
       "    </tr>\n",
       "  </thead>\n",
       "  <tbody>\n",
       "    <tr>\n",
       "      <td>1495</td>\n",
       "      <td>403.05</td>\n",
       "      <td>562.049248</td>\n",
       "      <td>456.859141</td>\n",
       "      <td>468.784698</td>\n",
       "      <td>571.223832</td>\n",
       "      <td>475.846787</td>\n",
       "      <td>505.314661</td>\n",
       "    </tr>\n",
       "    <tr>\n",
       "      <td>1496</td>\n",
       "      <td>119.53</td>\n",
       "      <td>363.915967</td>\n",
       "      <td>245.888171</td>\n",
       "      <td>289.207886</td>\n",
       "      <td>309.733172</td>\n",
       "      <td>426.594362</td>\n",
       "      <td>383.444198</td>\n",
       "    </tr>\n",
       "    <tr>\n",
       "      <td>1497</td>\n",
       "      <td>216.28</td>\n",
       "      <td>380.205281</td>\n",
       "      <td>275.636622</td>\n",
       "      <td>354.826447</td>\n",
       "      <td>332.861944</td>\n",
       "      <td>372.474586</td>\n",
       "      <td>364.408194</td>\n",
       "    </tr>\n",
       "    <tr>\n",
       "      <td>1498</td>\n",
       "      <td>354.14</td>\n",
       "      <td>348.373197</td>\n",
       "      <td>459.323879</td>\n",
       "      <td>390.564331</td>\n",
       "      <td>508.087292</td>\n",
       "      <td>442.430638</td>\n",
       "      <td>460.717302</td>\n",
       "    </tr>\n",
       "    <tr>\n",
       "      <td>1499</td>\n",
       "      <td>328.28</td>\n",
       "      <td>310.294292</td>\n",
       "      <td>225.120762</td>\n",
       "      <td>302.311005</td>\n",
       "      <td>304.983157</td>\n",
       "      <td>329.824857</td>\n",
       "      <td>322.040700</td>\n",
       "    </tr>\n",
       "  </tbody>\n",
       "</table>\n",
       "</div>"
      ],
      "text/plain": [
       "      y_test          RF         SVR          XG         RID         LAS  \\\n",
       "1495  403.05  562.049248  456.859141  468.784698  571.223832  475.846787   \n",
       "1496  119.53  363.915967  245.888171  289.207886  309.733172  426.594362   \n",
       "1497  216.28  380.205281  275.636622  354.826447  332.861944  372.474586   \n",
       "1498  354.14  348.373197  459.323879  390.564331  508.087292  442.430638   \n",
       "1499  328.28  310.294292  225.120762  302.311005  304.983157  329.824857   \n",
       "\n",
       "             ELS  \n",
       "1495  505.314661  \n",
       "1496  383.444198  \n",
       "1497  364.408194  \n",
       "1498  460.717302  \n",
       "1499  322.040700  "
      ]
     },
     "execution_count": 125,
     "metadata": {},
     "output_type": "execute_result"
    }
   ],
   "source": [
    "test_out = pd.concat([pd.Series(y_test).reset_index(drop=True),pd.Series(rf_test_pred),pd.Series(svr_test_pred),pd.Series(xg_test_pred)\n",
    "                      ,pd.Series(rid_test_pred),pd.Series(las_test_pred),pd.Series(els_test_pred)], axis=1)\n",
    "test_out.columns = ['y_test','RF','SVR','XG','RID','LAS','ELS']\n",
    "test_out = test_out.apply(np.exp)\n",
    "test_out.tail(5)"
   ]
  },
  {
   "cell_type": "code",
   "execution_count": 126,
   "metadata": {},
   "outputs": [
    {
     "data": {
      "text/html": [
       "<div>\n",
       "<style scoped>\n",
       "    .dataframe tbody tr th:only-of-type {\n",
       "        vertical-align: middle;\n",
       "    }\n",
       "\n",
       "    .dataframe tbody tr th {\n",
       "        vertical-align: top;\n",
       "    }\n",
       "\n",
       "    .dataframe thead th {\n",
       "        text-align: right;\n",
       "    }\n",
       "</style>\n",
       "<table border=\"1\" class=\"dataframe\">\n",
       "  <thead>\n",
       "    <tr style=\"text-align: right;\">\n",
       "      <th></th>\n",
       "      <th>Ridge</th>\n",
       "      <th>Lasso</th>\n",
       "      <th>ElasticNet</th>\n",
       "      <th>Random Forest</th>\n",
       "      <th>SVR</th>\n",
       "      <th>XGboost</th>\n",
       "    </tr>\n",
       "  </thead>\n",
       "  <tbody>\n",
       "    <tr>\n",
       "      <td>MAPE_train</td>\n",
       "      <td>0.489022</td>\n",
       "      <td>0.519883</td>\n",
       "      <td>0.503645</td>\n",
       "      <td>0.400120</td>\n",
       "      <td>0.459744</td>\n",
       "      <td>0.434494</td>\n",
       "    </tr>\n",
       "    <tr>\n",
       "      <td>MAPE_test</td>\n",
       "      <td>0.452357</td>\n",
       "      <td>0.477457</td>\n",
       "      <td>0.462347</td>\n",
       "      <td>0.482776</td>\n",
       "      <td>0.434113</td>\n",
       "      <td>0.430395</td>\n",
       "    </tr>\n",
       "    <tr>\n",
       "      <td>RMSE_train</td>\n",
       "      <td>272.848690</td>\n",
       "      <td>290.852137</td>\n",
       "      <td>283.021019</td>\n",
       "      <td>240.967713</td>\n",
       "      <td>299.924879</td>\n",
       "      <td>285.885744</td>\n",
       "    </tr>\n",
       "    <tr>\n",
       "      <td>RMSE_test</td>\n",
       "      <td>272.409226</td>\n",
       "      <td>290.665433</td>\n",
       "      <td>282.326541</td>\n",
       "      <td>285.516083</td>\n",
       "      <td>300.886334</td>\n",
       "      <td>292.841504</td>\n",
       "    </tr>\n",
       "  </tbody>\n",
       "</table>\n",
       "</div>"
      ],
      "text/plain": [
       "                 Ridge       Lasso  ElasticNet  Random Forest         SVR  \\\n",
       "MAPE_train    0.489022    0.519883    0.503645       0.400120    0.459744   \n",
       "MAPE_test     0.452357    0.477457    0.462347       0.482776    0.434113   \n",
       "RMSE_train  272.848690  290.852137  283.021019     240.967713  299.924879   \n",
       "RMSE_test   272.409226  290.665433  282.326541     285.516083  300.886334   \n",
       "\n",
       "               XGboost  \n",
       "MAPE_train    0.434494  \n",
       "MAPE_test     0.430395  \n",
       "RMSE_train  285.885744  \n",
       "RMSE_test   292.841504  "
      ]
     },
     "execution_count": 126,
     "metadata": {},
     "output_type": "execute_result"
    }
   ],
   "source": [
    "pd.DataFrame(eva_dict, index = ['MAPE_train', 'MAPE_test', 'RMSE_train', 'RMSE_test'])"
   ]
  },
  {
   "cell_type": "markdown",
   "metadata": {},
   "source": [
    "**Conclusion based on the Evalution Metrics:** <br>\n",
    "It is found that the XGBoost and SVM models performed better comparatively on considering the evaluation metrics MAPE and RMSE of train and test.\n"
   ]
  },
  {
   "cell_type": "markdown",
   "metadata": {},
   "source": [
    "### ----------------------------------------------------------------------------------------------------------------------------"
   ]
  },
  {
   "cell_type": "markdown",
   "metadata": {},
   "source": [
    "### Finding the Optimum Credit for the Card Holders"
   ]
  },
  {
   "cell_type": "markdown",
   "metadata": {},
   "source": [
    "The Credit Limit can be set as 3 times the Total spent (Primary Spent + Secondary spent) for each Card Holder<br>\n",
    "> Credit_limit = 3 * (cardspent + card2spent) "
   ]
  },
  {
   "cell_type": "code",
   "execution_count": 127,
   "metadata": {},
   "outputs": [],
   "source": [
    "Y['credit_limit'] = Y['spent'] * 3"
   ]
  },
  {
   "cell_type": "markdown",
   "metadata": {},
   "source": [
    "The minimum and maximum credit limits"
   ]
  },
  {
   "cell_type": "code",
   "execution_count": 128,
   "metadata": {},
   "outputs": [
    {
     "data": {
      "text/plain": [
       "(174.5928, 5280.307200000007)"
      ]
     },
     "execution_count": 128,
     "metadata": {},
     "output_type": "execute_result"
    }
   ],
   "source": [
    "Y.credit_limit.min(), Y.credit_limit.max()"
   ]
  },
  {
   "cell_type": "markdown",
   "metadata": {},
   "source": [
    "### ---------------------------------------------------------------------------------------------------------------------------"
   ]
  },
  {
   "cell_type": "markdown",
   "metadata": {},
   "source": [
    "## Identifying the Key Drivers for the Spend"
   ]
  },
  {
   "cell_type": "markdown",
   "metadata": {},
   "source": [
    "Preparing the dataset with proper Variables Name for better interpretation:"
   ]
  },
  {
   "cell_type": "markdown",
   "metadata": {},
   "source": [
    "Encode catagorical variables\n",
    "card\t\n",
    "    1\tAmerican Express\n",
    "\t2\tVisa\n",
    "\t3\tMastercard\n",
    "\t4\tDiscover\n",
    "\t5\tOther\n",
    "card2\t\n",
    "    1\tAmerican Express\n",
    "\t2\tVisa\n",
    "\t3\tMastercard\n",
    "\t4\tDiscover\n",
    "\t5\tOther\n",
    "cardbenefit\t\n",
    "    1\tNone\n",
    "\t2\tCash back\n",
    "\t3\tAirline miles\n",
    "\t4\tOther\n",
    "jobcat\t\n",
    "    1\tManagerial and Professional\n",
    "\t2\tSales and Office\n",
    "\t3\tService\n",
    "\t4\tAgricultural and Natural Resources\n",
    "\t5\tPrecision Production, Craft, Repair\n",
    "\t6\tOperation, Fabrication, General Labor\n",
    "reason\t\n",
    "    1\tPrices\n",
    "\t2\tConvenience\n",
    "\t3\tService\n",
    "\t4\tOther\n",
    "\t8\tN/A\n",
    "\t9\tNo response"
   ]
  },
  {
   "cell_type": "code",
   "execution_count": 129,
   "metadata": {},
   "outputs": [],
   "source": [
    "x_final_vars = list(X_final.columns)"
   ]
  },
  {
   "cell_type": "code",
   "execution_count": 130,
   "metadata": {},
   "outputs": [],
   "source": [
    "x_final_vars.sort()"
   ]
  },
  {
   "cell_type": "code",
   "execution_count": 131,
   "metadata": {},
   "outputs": [],
   "source": [
    "X_final_crlt = X_final[x_final_vars]"
   ]
  },
  {
   "cell_type": "code",
   "execution_count": 132,
   "metadata": {},
   "outputs": [
    {
     "data": {
      "text/plain": [
       "Index(['active', 'age', 'card2_2', 'card2_3', 'card2_4', 'card2_5', 'card_2',\n",
       "       'card_3', 'card_4', 'card_5', 'cardbenefit_2', 'cardbenefit_3',\n",
       "       'cardbenefit_4', 'churn', 'creddebt', 'debtinc', 'default', 'ed',\n",
       "       'gender', 'income', 'jobcat_2', 'marital', 'othdebt', 'reason_2',\n",
       "       'reason_9', 'retire', 'tenure'],\n",
       "      dtype='object')"
      ]
     },
     "execution_count": 132,
     "metadata": {},
     "output_type": "execute_result"
    }
   ],
   "source": [
    "X_final_crlt.columns"
   ]
  },
  {
   "cell_type": "markdown",
   "metadata": {},
   "source": [
    "Assigning the proper vars names based on the Data dictionary"
   ]
  },
  {
   "cell_type": "code",
   "execution_count": 133,
   "metadata": {},
   "outputs": [],
   "source": [
    "x_final_dict = {'card_2':'Visa_1',\n",
    "                'card_3':'Mastercard_1',\n",
    "                'card_4':'Discover_1',\n",
    "                'card_5':'Other_1',\n",
    "                'card2_2':'Visa_2',\n",
    "                'card2_3':'Mastercard_2',\n",
    "                'card2_4':'Discover_2',\n",
    "                'card2_5':'Other_2',\n",
    "                'cardbenefit_2':'Cash_back_ben', \n",
    "                'cardbenefit_3':'Airline_miles_ben',\n",
    "                'cardbenefit_4':'Other_ben', \n",
    "                'jobcat_2':'Sales_and_Office_job',\n",
    "                'reason_2':'Convenience',\n",
    "                'reason_9':'No_response'}              "
   ]
  },
  {
   "cell_type": "code",
   "execution_count": 134,
   "metadata": {},
   "outputs": [],
   "source": [
    "x_final_crlt_new = []\n",
    "for i in X_final_crlt.columns:\n",
    "    if x_final_dict.get(i) is not None :\n",
    "        x_final_crlt_new.append(x_final_dict.get(i))\n",
    "    else:\n",
    "        x_final_crlt_new.append(i)"
   ]
  },
  {
   "cell_type": "code",
   "execution_count": 135,
   "metadata": {},
   "outputs": [],
   "source": [
    "X_final_crlt_new = X_final_crlt.copy()"
   ]
  },
  {
   "cell_type": "code",
   "execution_count": 136,
   "metadata": {},
   "outputs": [],
   "source": [
    "X_final_crlt_new.columns = x_final_crlt_new"
   ]
  },
  {
   "cell_type": "code",
   "execution_count": 137,
   "metadata": {},
   "outputs": [
    {
     "data": {
      "text/html": [
       "<div>\n",
       "<style scoped>\n",
       "    .dataframe tbody tr th:only-of-type {\n",
       "        vertical-align: middle;\n",
       "    }\n",
       "\n",
       "    .dataframe tbody tr th {\n",
       "        vertical-align: top;\n",
       "    }\n",
       "\n",
       "    .dataframe thead th {\n",
       "        text-align: right;\n",
       "    }\n",
       "</style>\n",
       "<table border=\"1\" class=\"dataframe\">\n",
       "  <thead>\n",
       "    <tr style=\"text-align: right;\">\n",
       "      <th></th>\n",
       "      <th>active</th>\n",
       "      <th>age</th>\n",
       "      <th>Visa_2</th>\n",
       "      <th>Mastercard_2</th>\n",
       "      <th>Discover_2</th>\n",
       "      <th>Other_2</th>\n",
       "      <th>Visa_1</th>\n",
       "      <th>Mastercard_1</th>\n",
       "      <th>Discover_1</th>\n",
       "      <th>Other_1</th>\n",
       "      <th>...</th>\n",
       "      <th>ed</th>\n",
       "      <th>gender</th>\n",
       "      <th>income</th>\n",
       "      <th>Sales_and_Office_job</th>\n",
       "      <th>marital</th>\n",
       "      <th>othdebt</th>\n",
       "      <th>Convenience</th>\n",
       "      <th>No_response</th>\n",
       "      <th>retire</th>\n",
       "      <th>tenure</th>\n",
       "    </tr>\n",
       "  </thead>\n",
       "  <tbody>\n",
       "    <tr>\n",
       "      <td>0</td>\n",
       "      <td>0</td>\n",
       "      <td>20</td>\n",
       "      <td>0</td>\n",
       "      <td>0</td>\n",
       "      <td>0</td>\n",
       "      <td>1</td>\n",
       "      <td>0</td>\n",
       "      <td>1</td>\n",
       "      <td>0</td>\n",
       "      <td>0</td>\n",
       "      <td>...</td>\n",
       "      <td>15</td>\n",
       "      <td>1</td>\n",
       "      <td>31.0</td>\n",
       "      <td>0</td>\n",
       "      <td>0</td>\n",
       "      <td>2.240091</td>\n",
       "      <td>0</td>\n",
       "      <td>1</td>\n",
       "      <td>0</td>\n",
       "      <td>5</td>\n",
       "    </tr>\n",
       "    <tr>\n",
       "      <td>1</td>\n",
       "      <td>1</td>\n",
       "      <td>22</td>\n",
       "      <td>0</td>\n",
       "      <td>0</td>\n",
       "      <td>1</td>\n",
       "      <td>0</td>\n",
       "      <td>1</td>\n",
       "      <td>0</td>\n",
       "      <td>0</td>\n",
       "      <td>0</td>\n",
       "      <td>...</td>\n",
       "      <td>17</td>\n",
       "      <td>0</td>\n",
       "      <td>15.0</td>\n",
       "      <td>1</td>\n",
       "      <td>0</td>\n",
       "      <td>1.567980</td>\n",
       "      <td>0</td>\n",
       "      <td>1</td>\n",
       "      <td>0</td>\n",
       "      <td>39</td>\n",
       "    </tr>\n",
       "    <tr>\n",
       "      <td>2</td>\n",
       "      <td>0</td>\n",
       "      <td>67</td>\n",
       "      <td>0</td>\n",
       "      <td>0</td>\n",
       "      <td>1</td>\n",
       "      <td>0</td>\n",
       "      <td>1</td>\n",
       "      <td>0</td>\n",
       "      <td>0</td>\n",
       "      <td>0</td>\n",
       "      <td>...</td>\n",
       "      <td>14</td>\n",
       "      <td>1</td>\n",
       "      <td>35.0</td>\n",
       "      <td>1</td>\n",
       "      <td>1</td>\n",
       "      <td>2.536380</td>\n",
       "      <td>1</td>\n",
       "      <td>0</td>\n",
       "      <td>0</td>\n",
       "      <td>65</td>\n",
       "    </tr>\n",
       "    <tr>\n",
       "      <td>3</td>\n",
       "      <td>1</td>\n",
       "      <td>23</td>\n",
       "      <td>0</td>\n",
       "      <td>1</td>\n",
       "      <td>0</td>\n",
       "      <td>0</td>\n",
       "      <td>1</td>\n",
       "      <td>0</td>\n",
       "      <td>0</td>\n",
       "      <td>0</td>\n",
       "      <td>...</td>\n",
       "      <td>16</td>\n",
       "      <td>0</td>\n",
       "      <td>20.0</td>\n",
       "      <td>1</td>\n",
       "      <td>1</td>\n",
       "      <td>1.117200</td>\n",
       "      <td>0</td>\n",
       "      <td>1</td>\n",
       "      <td>0</td>\n",
       "      <td>36</td>\n",
       "    </tr>\n",
       "    <tr>\n",
       "      <td>4</td>\n",
       "      <td>1</td>\n",
       "      <td>26</td>\n",
       "      <td>0</td>\n",
       "      <td>0</td>\n",
       "      <td>0</td>\n",
       "      <td>0</td>\n",
       "      <td>0</td>\n",
       "      <td>0</td>\n",
       "      <td>1</td>\n",
       "      <td>0</td>\n",
       "      <td>...</td>\n",
       "      <td>16</td>\n",
       "      <td>0</td>\n",
       "      <td>23.0</td>\n",
       "      <td>1</td>\n",
       "      <td>1</td>\n",
       "      <td>0.176341</td>\n",
       "      <td>0</td>\n",
       "      <td>1</td>\n",
       "      <td>0</td>\n",
       "      <td>21</td>\n",
       "    </tr>\n",
       "  </tbody>\n",
       "</table>\n",
       "<p>5 rows × 27 columns</p>\n",
       "</div>"
      ],
      "text/plain": [
       "   active  age  Visa_2  Mastercard_2  Discover_2  Other_2  Visa_1  \\\n",
       "0       0   20       0             0           0        1       0   \n",
       "1       1   22       0             0           1        0       1   \n",
       "2       0   67       0             0           1        0       1   \n",
       "3       1   23       0             1           0        0       1   \n",
       "4       1   26       0             0           0        0       0   \n",
       "\n",
       "   Mastercard_1  Discover_1  Other_1  ...  ed  gender  income  \\\n",
       "0             1           0        0  ...  15       1    31.0   \n",
       "1             0           0        0  ...  17       0    15.0   \n",
       "2             0           0        0  ...  14       1    35.0   \n",
       "3             0           0        0  ...  16       0    20.0   \n",
       "4             0           1        0  ...  16       0    23.0   \n",
       "\n",
       "   Sales_and_Office_job  marital   othdebt  Convenience  No_response  retire  \\\n",
       "0                     0        0  2.240091            0            1       0   \n",
       "1                     1        0  1.567980            0            1       0   \n",
       "2                     1        1  2.536380            1            0       0   \n",
       "3                     1        1  1.117200            0            1       0   \n",
       "4                     1        1  0.176341            0            1       0   \n",
       "\n",
       "   tenure  \n",
       "0       5  \n",
       "1      39  \n",
       "2      65  \n",
       "3      36  \n",
       "4      21  \n",
       "\n",
       "[5 rows x 27 columns]"
      ]
     },
     "execution_count": 137,
     "metadata": {},
     "output_type": "execute_result"
    }
   ],
   "source": [
    "X_final_crlt_new.head()"
   ]
  },
  {
   "cell_type": "markdown",
   "metadata": {},
   "source": [
    "##### We will apply the Statsmodel Linear Regression to come up with the Coeficient of the Variables "
   ]
  },
  {
   "cell_type": "code",
   "execution_count": 138,
   "metadata": {},
   "outputs": [],
   "source": [
    "All_crlt = pd.concat([X_final_crlt_new, Y],axis=1)"
   ]
  },
  {
   "cell_type": "code",
   "execution_count": 139,
   "metadata": {},
   "outputs": [],
   "source": [
    "All_crlt['lnspent'] = np.log(All_crlt.spent)"
   ]
  },
  {
   "cell_type": "code",
   "execution_count": 140,
   "metadata": {},
   "outputs": [],
   "source": [
    "All_crlt_train,All_crlt_test = train_test_split(All_crlt, test_size=0.3, random_state=123)"
   ]
  },
  {
   "cell_type": "code",
   "execution_count": 141,
   "metadata": {},
   "outputs": [
    {
     "data": {
      "text/plain": [
       "((3500, 32), (1500, 32))"
      ]
     },
     "execution_count": 141,
     "metadata": {},
     "output_type": "execute_result"
    }
   ],
   "source": [
    "All_crlt_train.shape,All_crlt_test.shape"
   ]
  },
  {
   "cell_type": "code",
   "execution_count": 142,
   "metadata": {},
   "outputs": [],
   "source": [
    "import statsmodels.formula.api as smf"
   ]
  },
  {
   "cell_type": "code",
   "execution_count": 143,
   "metadata": {},
   "outputs": [
    {
     "data": {
      "text/plain": [
       "Index(['active', 'age', 'Visa_2', 'Mastercard_2', 'Discover_2', 'Other_2',\n",
       "       'Visa_1', 'Mastercard_1', 'Discover_1', 'Other_1', 'Cash_back_ben',\n",
       "       'Airline_miles_ben', 'Other_ben', 'churn', 'creddebt', 'debtinc',\n",
       "       'default', 'ed', 'gender', 'income', 'Sales_and_Office_job', 'marital',\n",
       "       'othdebt', 'Convenience', 'No_response', 'retire', 'tenure',\n",
       "       'cardspent', 'card2spent', 'spent', 'credit_limit', 'lnspent'],\n",
       "      dtype='object')"
      ]
     },
     "execution_count": 143,
     "metadata": {},
     "output_type": "execute_result"
    }
   ],
   "source": [
    "All_crlt_train.columns"
   ]
  },
  {
   "cell_type": "markdown",
   "metadata": {},
   "source": [
    "active+age+Visa_2+Mastercard_2+Discover_2+Other_2,Visa_1+Mastercard_1+Discover_1+Other_1+Cash_back_ben,Airline_miles_ben+Other_ben+churn+creddebt+debtinc,default+ed+gender+income+Sales and Office+marital,othdebt+Convenience+No_response+retire+tenure,cardspent+card2spent+spent+credit_limit"
   ]
  },
  {
   "cell_type": "code",
   "execution_count": 144,
   "metadata": {},
   "outputs": [],
   "source": [
    "formula = 'lnspent~active+age+Visa_2+Mastercard_2+Discover_2+Other_2+Visa_1+Mastercard_1+Discover_1+Other_1+Cash_back_ben+Airline_miles_ben+Other_ben+churn+creddebt+debtinc+default+ed+gender+income+Sales_and_Office_job+marital+othdebt+Convenience+No_response+retire+tenure'"
   ]
  },
  {
   "cell_type": "code",
   "execution_count": 145,
   "metadata": {},
   "outputs": [],
   "source": [
    "# Initializing and fiting the model\n",
    "model = smf.ols(formula, data=All_crlt_train).fit()"
   ]
  },
  {
   "cell_type": "code",
   "execution_count": 146,
   "metadata": {},
   "outputs": [
    {
     "name": "stderr",
     "output_type": "stream",
     "text": [
      "C:\\Users\\guru\\Anaconda3\\lib\\site-packages\\ipykernel_launcher.py:1: SettingWithCopyWarning: \n",
      "A value is trying to be set on a copy of a slice from a DataFrame.\n",
      "Try using .loc[row_indexer,col_indexer] = value instead\n",
      "\n",
      "See the caveats in the documentation: http://pandas.pydata.org/pandas-docs/stable/user_guide/indexing.html#returning-a-view-versus-a-copy\n",
      "  \"\"\"Entry point for launching an IPython kernel.\n"
     ]
    }
   ],
   "source": [
    "All_crlt_train['pred'] = pd.DataFrame(model.predict(All_crlt_train))"
   ]
  },
  {
   "cell_type": "code",
   "execution_count": 147,
   "metadata": {},
   "outputs": [
    {
     "data": {
      "text/html": [
       "<div>\n",
       "<style scoped>\n",
       "    .dataframe tbody tr th:only-of-type {\n",
       "        vertical-align: middle;\n",
       "    }\n",
       "\n",
       "    .dataframe tbody tr th {\n",
       "        vertical-align: top;\n",
       "    }\n",
       "\n",
       "    .dataframe thead th {\n",
       "        text-align: right;\n",
       "    }\n",
       "</style>\n",
       "<table border=\"1\" class=\"dataframe\">\n",
       "  <thead>\n",
       "    <tr style=\"text-align: right;\">\n",
       "      <th></th>\n",
       "      <th>lnspent</th>\n",
       "      <th>pred</th>\n",
       "    </tr>\n",
       "  </thead>\n",
       "  <tbody>\n",
       "    <tr>\n",
       "      <td>4036</td>\n",
       "      <td>6.504498</td>\n",
       "      <td>6.148266</td>\n",
       "    </tr>\n",
       "    <tr>\n",
       "      <td>2883</td>\n",
       "      <td>5.203072</td>\n",
       "      <td>5.834477</td>\n",
       "    </tr>\n",
       "    <tr>\n",
       "      <td>4162</td>\n",
       "      <td>5.391534</td>\n",
       "      <td>5.589902</td>\n",
       "    </tr>\n",
       "    <tr>\n",
       "      <td>4640</td>\n",
       "      <td>6.214628</td>\n",
       "      <td>5.962561</td>\n",
       "    </tr>\n",
       "    <tr>\n",
       "      <td>2430</td>\n",
       "      <td>7.473127</td>\n",
       "      <td>6.125187</td>\n",
       "    </tr>\n",
       "  </tbody>\n",
       "</table>\n",
       "</div>"
      ],
      "text/plain": [
       "       lnspent      pred\n",
       "4036  6.504498  6.148266\n",
       "2883  5.203072  5.834477\n",
       "4162  5.391534  5.589902\n",
       "4640  6.214628  5.962561\n",
       "2430  7.473127  6.125187"
      ]
     },
     "execution_count": 147,
     "metadata": {},
     "output_type": "execute_result"
    }
   ],
   "source": [
    "All_crlt_train[['lnspent','pred']].head()"
   ]
  },
  {
   "cell_type": "code",
   "execution_count": 148,
   "metadata": {},
   "outputs": [
    {
     "name": "stderr",
     "output_type": "stream",
     "text": [
      "C:\\Users\\guru\\Anaconda3\\lib\\site-packages\\ipykernel_launcher.py:1: SettingWithCopyWarning: \n",
      "A value is trying to be set on a copy of a slice from a DataFrame.\n",
      "Try using .loc[row_indexer,col_indexer] = value instead\n",
      "\n",
      "See the caveats in the documentation: http://pandas.pydata.org/pandas-docs/stable/user_guide/indexing.html#returning-a-view-versus-a-copy\n",
      "  \"\"\"Entry point for launching an IPython kernel.\n"
     ]
    }
   ],
   "source": [
    "All_crlt_test['pred'] = pd.DataFrame(model.predict(All_crlt_test))"
   ]
  },
  {
   "cell_type": "code",
   "execution_count": 149,
   "metadata": {},
   "outputs": [
    {
     "name": "stdout",
     "output_type": "stream",
     "text": [
      "Linear_Regression_stats\n",
      "MAPE values for actual training and testing data :\n",
      "0.48902197355032223\n",
      "0.4523581039972904\n",
      "\n",
      "RMSE values for actual training and testing data :\n",
      "272.84780396898117\n",
      "272.40867505186634\n"
     ]
    }
   ],
   "source": [
    "t1 = np.exp(All_crlt_train.pred)\n",
    "t2 = np.exp(All_crlt_test.pred)\n",
    "t3 = np.exp(All_crlt_train.lnspent)\n",
    "t4 = np.exp(All_crlt_test.lnspent)\n",
    "algorithm = 'Linear_Regression_stats'\n",
    "print(algorithm)\n",
    "\n",
    "#Mean Absolute Percentage Error \n",
    "print(\"MAPE values for actual training and testing data :\")\n",
    "MAPE_train = np.mean(np.abs(t3 - t1)/t3)\n",
    "print(MAPE_train)\n",
    "MAPE_test = np.mean(np.abs(t4- t2)/t4)\n",
    "print(MAPE_test)\n",
    "\n",
    "#Root Mean Squared error\n",
    "print(\"\\nRMSE values for actual training and testing data :\")\n",
    "RMSE_train = np.sqrt(mean_squared_error(t3,t1))\n",
    "print(RMSE_train)\n",
    "RMSE_test =np.sqrt(mean_squared_error(t4,t2))\n",
    "print(RMSE_test)\n",
    "    \n",
    "eva_dict.update({algorithm : [MAPE_train,MAPE_test,RMSE_train,RMSE_test]})"
   ]
  },
  {
   "cell_type": "code",
   "execution_count": 150,
   "metadata": {
    "scrolled": true
   },
   "outputs": [
    {
     "name": "stdout",
     "output_type": "stream",
     "text": [
      "                            OLS Regression Results                            \n",
      "==============================================================================\n",
      "Dep. Variable:                lnspent   R-squared:                       0.327\n",
      "Model:                            OLS   Adj. R-squared:                  0.322\n",
      "Method:                 Least Squares   F-statistic:                     62.50\n",
      "Date:                Tue, 24 Dec 2019   Prob (F-statistic):          3.88e-274\n",
      "Time:                        21:34:05   Log-Likelihood:                -2798.9\n",
      "No. Observations:                3500   AIC:                             5654.\n",
      "Df Residuals:                    3472   BIC:                             5826.\n",
      "Df Model:                          27                                         \n",
      "Covariance Type:            nonrobust                                         \n",
      "========================================================================================\n",
      "                           coef    std err          t      P>|t|      [0.025      0.975]\n",
      "----------------------------------------------------------------------------------------\n",
      "Intercept                6.5437      0.079     82.432      0.000       6.388       6.699\n",
      "active                   0.0109      0.019      0.575      0.565      -0.026       0.048\n",
      "age                      0.0007      0.001      0.822      0.411      -0.001       0.002\n",
      "Visa_2                  -0.4028      0.030    -13.453      0.000      -0.462      -0.344\n",
      "Mastercard_2            -0.3756      0.030    -12.626      0.000      -0.434      -0.317\n",
      "Discover_2              -0.4288      0.033    -13.112      0.000      -0.493      -0.365\n",
      "Other_2                 -0.2946      0.043     -6.873      0.000      -0.379      -0.211\n",
      "Visa_1                  -0.5940      0.030    -19.749      0.000      -0.653      -0.535\n",
      "Mastercard_1            -0.6127      0.030    -20.280      0.000      -0.672      -0.553\n",
      "Discover_1              -0.7085      0.031    -22.957      0.000      -0.769      -0.648\n",
      "Other_1                 -0.5324      0.050    -10.625      0.000      -0.631      -0.434\n",
      "Cash_back_ben           -0.0041      0.026     -0.154      0.877      -0.056       0.047\n",
      "Airline_miles_ben        0.0068      0.026      0.264      0.792      -0.044       0.058\n",
      "Other_ben                0.0030      0.026      0.115      0.908      -0.048       0.054\n",
      "churn                    0.0304      0.023      1.301      0.193      -0.015       0.076\n",
      "creddebt                 0.0059      0.006      0.936      0.349      -0.006       0.018\n",
      "debtinc                  0.0002      0.003      0.075      0.940      -0.005       0.005\n",
      "default                 -0.0092      0.026     -0.352      0.725      -0.060       0.042\n",
      "ed                      -0.0040      0.003     -1.292      0.197      -0.010       0.002\n",
      "gender                  -0.0431      0.018     -2.334      0.020      -0.079      -0.007\n",
      "income                   0.0040      0.000      9.125      0.000       0.003       0.005\n",
      "Sales_and_Office_job    -0.0169      0.021     -0.820      0.412      -0.057       0.023\n",
      "marital                  0.0067      0.019      0.354      0.723      -0.030       0.044\n",
      "othdebt                  0.0003      0.004      0.065      0.949      -0.008       0.009\n",
      "Convenience              0.3561      0.045      7.907      0.000       0.268       0.444\n",
      "No_response              0.1069      0.028      3.776      0.000       0.051       0.162\n",
      "retire                  -0.2731      0.037     -7.430      0.000      -0.345      -0.201\n",
      "tenure                   0.0008      0.001      1.479      0.139      -0.000       0.002\n",
      "==============================================================================\n",
      "Omnibus:                       80.192   Durbin-Watson:                   1.986\n",
      "Prob(Omnibus):                  0.000   Jarque-Bera (JB):               85.583\n",
      "Skew:                          -0.367   Prob(JB):                     2.61e-19\n",
      "Kurtosis:                       3.218   Cond. No.                         894.\n",
      "==============================================================================\n",
      "\n",
      "Warnings:\n",
      "[1] Standard Errors assume that the covariance matrix of the errors is correctly specified.\n"
     ]
    }
   ],
   "source": [
    "print(model.summary())"
   ]
  },
  {
   "cell_type": "markdown",
   "metadata": {},
   "source": [
    "The variables identified as not useful are<br>\n",
    ">age <br>\n",
    "Cash_back_ben<br>\n",
    "Airline_miles_ben<br>\n",
    "Other_ben<br>\n",
    "creddebt<br>\n",
    "debtinc<br>\n",
    "default<br>\n",
    "ed<br>\n",
    "marital<br>\n",
    "othdebt<br>\n",
    "tenure"
   ]
  },
  {
   "cell_type": "code",
   "execution_count": 151,
   "metadata": {},
   "outputs": [],
   "source": [
    "formula = 'lnspent~active+Visa_2+Mastercard_2+Discover_2+Other_2+Visa_1+Mastercard_1+Discover_1+Other_1+churn+ed+gender+income+Sales_and_Office_job+Convenience+No_response+retire'"
   ]
  },
  {
   "cell_type": "code",
   "execution_count": 152,
   "metadata": {},
   "outputs": [],
   "source": [
    "model = smf.ols(formula, data=All_crlt_train).fit()"
   ]
  },
  {
   "cell_type": "code",
   "execution_count": 153,
   "metadata": {
    "scrolled": true
   },
   "outputs": [
    {
     "name": "stdout",
     "output_type": "stream",
     "text": [
      "                            OLS Regression Results                            \n",
      "==============================================================================\n",
      "Dep. Variable:                lnspent   R-squared:                       0.326\n",
      "Model:                            OLS   Adj. R-squared:                  0.322\n",
      "Method:                 Least Squares   F-statistic:                     98.90\n",
      "Date:                Tue, 24 Dec 2019   Prob (F-statistic):          4.36e-282\n",
      "Time:                        21:34:05   Log-Likelihood:                -2802.6\n",
      "No. Observations:                3500   AIC:                             5641.\n",
      "Df Residuals:                    3482   BIC:                             5752.\n",
      "Df Model:                          17                                         \n",
      "Covariance Type:            nonrobust                                         \n",
      "========================================================================================\n",
      "                           coef    std err          t      P>|t|      [0.025      0.975]\n",
      "----------------------------------------------------------------------------------------\n",
      "Intercept                6.6147      0.066    100.725      0.000       6.486       6.743\n",
      "active                   0.0037      0.019      0.201      0.841      -0.033       0.040\n",
      "Visa_2                  -0.4038      0.030    -13.521      0.000      -0.462      -0.345\n",
      "Mastercard_2            -0.3775      0.030    -12.719      0.000      -0.436      -0.319\n",
      "Discover_2              -0.4272      0.033    -13.092      0.000      -0.491      -0.363\n",
      "Other_2                 -0.3016      0.043     -7.063      0.000      -0.385      -0.218\n",
      "Visa_1                  -0.5940      0.030    -19.786      0.000      -0.653      -0.535\n",
      "Mastercard_1            -0.6117      0.030    -20.300      0.000      -0.671      -0.553\n",
      "Discover_1              -0.7053      0.031    -22.902      0.000      -0.766      -0.645\n",
      "Other_1                 -0.5364      0.050    -10.725      0.000      -0.634      -0.438\n",
      "churn                    0.0138      0.022      0.620      0.535      -0.030       0.057\n",
      "ed                      -0.0048      0.003     -1.560      0.119      -0.011       0.001\n",
      "gender                  -0.0434      0.018     -2.356      0.019      -0.080      -0.007\n",
      "income                   0.0044      0.000     20.114      0.000       0.004       0.005\n",
      "Sales_and_Office_job    -0.0172      0.020     -0.857      0.392      -0.057       0.022\n",
      "Convenience              0.3565      0.045      7.928      0.000       0.268       0.445\n",
      "No_response              0.1059      0.028      3.753      0.000       0.051       0.161\n",
      "retire                  -0.2280      0.027     -8.365      0.000      -0.281      -0.175\n",
      "==============================================================================\n",
      "Omnibus:                       77.493   Durbin-Watson:                   1.984\n",
      "Prob(Omnibus):                  0.000   Jarque-Bera (JB):               82.432\n",
      "Skew:                          -0.362   Prob(JB):                     1.26e-18\n",
      "Kurtosis:                       3.204   Cond. No.                         631.\n",
      "==============================================================================\n",
      "\n",
      "Warnings:\n",
      "[1] Standard Errors assume that the covariance matrix of the errors is correctly specified.\n"
     ]
    }
   ],
   "source": [
    "print(model.summary())"
   ]
  },
  {
   "cell_type": "markdown",
   "metadata": {},
   "source": [
    "**Math Equation:**  <br>\n",
    "From Linear Regression Statsmodel <br>\n",
    "ln_spent    =   6.6147+\n",
    "active * 0.0037+\n",
    "Visa_2 * -0.4038+\n",
    "Mastercard_2 * -0.3775+\n",
    "Discover_2 * -0.4272+\n",
    "Other_2 * -0.3016+\n",
    "Visa_1 * -0.594+\n",
    "Mastercard_1 * -0.6117+\n",
    "Discover_1 * -0.7053+\n",
    "Other_1 * -0.5364+\n",
    "churn * 0.0138+\n",
    "ed * -0.0048+\n",
    "gender * -0.0434+\n",
    "income * 0.0044+\n",
    "Sales_and_Office_job * -0.0172+\n",
    "Convenience * 0.3565+\n",
    "No_response * 0.1059\n"
   ]
  },
  {
   "cell_type": "markdown",
   "metadata": {},
   "source": [
    "### Key Drivers Identification"
   ]
  },
  {
   "cell_type": "markdown",
   "metadata": {},
   "source": [
    "#### Important features from the Ridge Regression Summary:"
   ]
  },
  {
   "cell_type": "code",
   "execution_count": 154,
   "metadata": {},
   "outputs": [],
   "source": [
    "feat_imp = pd.concat([pd.Series(X_final.columns),pd.Series((Ridge_Reg.coef_))],axis=1).sort_values(by=[1],ascending=False)"
   ]
  },
  {
   "cell_type": "code",
   "execution_count": 155,
   "metadata": {},
   "outputs": [],
   "source": [
    "feat_imp.columns = ['features','Coeff']"
   ]
  },
  {
   "cell_type": "code",
   "execution_count": 156,
   "metadata": {},
   "outputs": [],
   "source": [
    "feat_imp;"
   ]
  },
  {
   "cell_type": "markdown",
   "metadata": {},
   "source": [
    "From the Linear Regression statsmodel"
   ]
  },
  {
   "cell_type": "markdown",
   "metadata": {},
   "source": [
    "Positive drivers <br>\n",
    "\n",
    "active <br>\n",
    "churn <br>\n",
    "income <br>\n",
    "Convenience <br>\n",
    "No_response"
   ]
  },
  {
   "cell_type": "markdown",
   "metadata": {},
   "source": [
    "Negative drivers <br>\n",
    "\n",
    "Mastercard_2 <br>\n",
    "Discover_2 <br> \n",
    "ed <br>\n",
    "gender <br>\n",
    "Sales_and_Office_job <br>\n",
    "retire"
   ]
  },
  {
   "cell_type": "markdown",
   "metadata": {},
   "source": [
    "### Conclusion on Key Drivers of Spend:"
   ]
  },
  {
   "cell_type": "markdown",
   "metadata": {},
   "source": [
    "**Important Drivers** <br>\n",
    "\n",
    "Positive Drivers\n",
    "> - Reason_2 - People who use the card for the reason \"convenience\" tend to spend more and hence will have high Credit limit\n",
    "> - Marital - If a person is married, will spend more\n",
    "> - Income - High income more Spend"
   ]
  },
  {
   "cell_type": "markdown",
   "metadata": {},
   "source": [
    "Negative drivers\n",
    "> - People using the Discover and Mastercard have low Credit limit\n",
    "> - Female spend less \n",
    "> - If a person is Retired spent less\n",
    "> - People of Sales_and_Office_job spent less\n"
   ]
  }
 ],
 "metadata": {
  "kernelspec": {
   "display_name": "Python 3",
   "language": "python",
   "name": "python3"
  },
  "language_info": {
   "codemirror_mode": {
    "name": "ipython",
    "version": 3
   },
   "file_extension": ".py",
   "mimetype": "text/x-python",
   "name": "python",
   "nbconvert_exporter": "python",
   "pygments_lexer": "ipython3",
   "version": "3.7.4"
  }
 },
 "nbformat": 4,
 "nbformat_minor": 2
}
