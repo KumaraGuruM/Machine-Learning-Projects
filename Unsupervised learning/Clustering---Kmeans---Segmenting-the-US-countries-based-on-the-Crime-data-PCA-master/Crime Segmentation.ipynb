{
 "cells": [
  {
   "cell_type": "markdown",
   "metadata": {},
   "source": [
    "# Crime Segmentation"
   ]
  },
  {
   "cell_type": "code",
   "execution_count": 1,
   "metadata": {},
   "outputs": [],
   "source": [
    "import pandas as pd\n",
    "import numpy as np\n",
    "import matplotlib.pyplot as plt\n",
    "%matplotlib inline"
   ]
  },
  {
   "cell_type": "code",
   "execution_count": 4,
   "metadata": {},
   "outputs": [],
   "source": [
    "crime = pd.read_excel('Crime.xlsx')"
   ]
  },
  {
   "cell_type": "code",
   "execution_count": 5,
   "metadata": {},
   "outputs": [
    {
     "data": {
      "text/html": [
       "<div>\n",
       "<style scoped>\n",
       "    .dataframe tbody tr th:only-of-type {\n",
       "        vertical-align: middle;\n",
       "    }\n",
       "\n",
       "    .dataframe tbody tr th {\n",
       "        vertical-align: top;\n",
       "    }\n",
       "\n",
       "    .dataframe thead th {\n",
       "        text-align: right;\n",
       "    }\n",
       "</style>\n",
       "<table border=\"1\" class=\"dataframe\">\n",
       "  <thead>\n",
       "    <tr style=\"text-align: right;\">\n",
       "      <th></th>\n",
       "      <th>jurisdiction</th>\n",
       "      <th>includes_jails</th>\n",
       "      <th>year</th>\n",
       "      <th>prisoner_count</th>\n",
       "      <th>crime_reporting_change</th>\n",
       "      <th>crimes_estimated</th>\n",
       "      <th>state_population</th>\n",
       "      <th>violent_crime_total</th>\n",
       "      <th>murder_manslaughter</th>\n",
       "      <th>rape_legacy</th>\n",
       "      <th>rape_revised</th>\n",
       "      <th>robbery</th>\n",
       "      <th>agg_assault</th>\n",
       "      <th>property_crime_total</th>\n",
       "      <th>burglary</th>\n",
       "      <th>larceny</th>\n",
       "      <th>vehicle_theft</th>\n",
       "    </tr>\n",
       "  </thead>\n",
       "  <tbody>\n",
       "    <tr>\n",
       "      <td>0</td>\n",
       "      <td>FEDERAL</td>\n",
       "      <td>False</td>\n",
       "      <td>2001</td>\n",
       "      <td>149852</td>\n",
       "      <td>NaN</td>\n",
       "      <td>NaN</td>\n",
       "      <td>NaN</td>\n",
       "      <td>NaN</td>\n",
       "      <td>NaN</td>\n",
       "      <td>NaN</td>\n",
       "      <td>NaN</td>\n",
       "      <td>NaN</td>\n",
       "      <td>NaN</td>\n",
       "      <td>NaN</td>\n",
       "      <td>NaN</td>\n",
       "      <td>NaN</td>\n",
       "      <td>NaN</td>\n",
       "    </tr>\n",
       "    <tr>\n",
       "      <td>1</td>\n",
       "      <td>ALABAMA</td>\n",
       "      <td>False</td>\n",
       "      <td>2001</td>\n",
       "      <td>24741</td>\n",
       "      <td>0.0</td>\n",
       "      <td>0.0</td>\n",
       "      <td>4468912.0</td>\n",
       "      <td>19582.0</td>\n",
       "      <td>379.0</td>\n",
       "      <td>1369.0</td>\n",
       "      <td>NaN</td>\n",
       "      <td>5584.0</td>\n",
       "      <td>12250.0</td>\n",
       "      <td>173253.0</td>\n",
       "      <td>40642.0</td>\n",
       "      <td>119992.0</td>\n",
       "      <td>12619.0</td>\n",
       "    </tr>\n",
       "    <tr>\n",
       "      <td>2</td>\n",
       "      <td>ALASKA</td>\n",
       "      <td>True</td>\n",
       "      <td>2001</td>\n",
       "      <td>4570</td>\n",
       "      <td>0.0</td>\n",
       "      <td>0.0</td>\n",
       "      <td>633630.0</td>\n",
       "      <td>3735.0</td>\n",
       "      <td>39.0</td>\n",
       "      <td>501.0</td>\n",
       "      <td>NaN</td>\n",
       "      <td>514.0</td>\n",
       "      <td>2681.0</td>\n",
       "      <td>23160.0</td>\n",
       "      <td>3847.0</td>\n",
       "      <td>16695.0</td>\n",
       "      <td>2618.0</td>\n",
       "    </tr>\n",
       "    <tr>\n",
       "      <td>3</td>\n",
       "      <td>ARIZONA</td>\n",
       "      <td>False</td>\n",
       "      <td>2001</td>\n",
       "      <td>27710</td>\n",
       "      <td>0.0</td>\n",
       "      <td>0.0</td>\n",
       "      <td>5306966.0</td>\n",
       "      <td>28675.0</td>\n",
       "      <td>400.0</td>\n",
       "      <td>1518.0</td>\n",
       "      <td>NaN</td>\n",
       "      <td>8868.0</td>\n",
       "      <td>17889.0</td>\n",
       "      <td>293874.0</td>\n",
       "      <td>54821.0</td>\n",
       "      <td>186850.0</td>\n",
       "      <td>52203.0</td>\n",
       "    </tr>\n",
       "    <tr>\n",
       "      <td>4</td>\n",
       "      <td>ARKANSAS</td>\n",
       "      <td>False</td>\n",
       "      <td>2001</td>\n",
       "      <td>11489</td>\n",
       "      <td>0.0</td>\n",
       "      <td>0.0</td>\n",
       "      <td>2694698.0</td>\n",
       "      <td>12190.0</td>\n",
       "      <td>148.0</td>\n",
       "      <td>892.0</td>\n",
       "      <td>NaN</td>\n",
       "      <td>2181.0</td>\n",
       "      <td>8969.0</td>\n",
       "      <td>99106.0</td>\n",
       "      <td>22196.0</td>\n",
       "      <td>69590.0</td>\n",
       "      <td>7320.0</td>\n",
       "    </tr>\n",
       "  </tbody>\n",
       "</table>\n",
       "</div>"
      ],
      "text/plain": [
       "  jurisdiction  includes_jails  year  prisoner_count  crime_reporting_change  \\\n",
       "0      FEDERAL           False  2001          149852                     NaN   \n",
       "1      ALABAMA           False  2001           24741                     0.0   \n",
       "2       ALASKA            True  2001            4570                     0.0   \n",
       "3      ARIZONA           False  2001           27710                     0.0   \n",
       "4     ARKANSAS           False  2001           11489                     0.0   \n",
       "\n",
       "   crimes_estimated  state_population  violent_crime_total  \\\n",
       "0               NaN               NaN                  NaN   \n",
       "1               0.0         4468912.0              19582.0   \n",
       "2               0.0          633630.0               3735.0   \n",
       "3               0.0         5306966.0              28675.0   \n",
       "4               0.0         2694698.0              12190.0   \n",
       "\n",
       "   murder_manslaughter  rape_legacy  rape_revised  robbery  agg_assault  \\\n",
       "0                  NaN          NaN           NaN      NaN          NaN   \n",
       "1                379.0       1369.0           NaN   5584.0      12250.0   \n",
       "2                 39.0        501.0           NaN    514.0       2681.0   \n",
       "3                400.0       1518.0           NaN   8868.0      17889.0   \n",
       "4                148.0        892.0           NaN   2181.0       8969.0   \n",
       "\n",
       "   property_crime_total  burglary   larceny  vehicle_theft  \n",
       "0                   NaN       NaN       NaN            NaN  \n",
       "1              173253.0   40642.0  119992.0        12619.0  \n",
       "2               23160.0    3847.0   16695.0         2618.0  \n",
       "3              293874.0   54821.0  186850.0        52203.0  \n",
       "4               99106.0   22196.0   69590.0         7320.0  "
      ]
     },
     "execution_count": 5,
     "metadata": {},
     "output_type": "execute_result"
    }
   ],
   "source": [
    "crime.head()"
   ]
  },
  {
   "cell_type": "code",
   "execution_count": 6,
   "metadata": {},
   "outputs": [],
   "source": [
    "#from pandas_profiling import ProfileReport\n",
    "#ProfileReport(crime)"
   ]
  },
  {
   "cell_type": "markdown",
   "metadata": {},
   "source": [
    "Dropping the Federal Row"
   ]
  },
  {
   "cell_type": "code",
   "execution_count": 7,
   "metadata": {},
   "outputs": [],
   "source": [
    "crime = crime.iloc[1:,:]"
   ]
  },
  {
   "cell_type": "markdown",
   "metadata": {},
   "source": [
    "Populating Rape revision"
   ]
  },
  {
   "cell_type": "code",
   "execution_count": 8,
   "metadata": {},
   "outputs": [
    {
     "data": {
      "text/plain": [
       "66"
      ]
     },
     "execution_count": 8,
     "metadata": {},
     "output_type": "execute_result"
    }
   ],
   "source": [
    "crime.rape_legacy.isnull().sum()"
   ]
  },
  {
   "cell_type": "code",
   "execution_count": 9,
   "metadata": {},
   "outputs": [
    {
     "data": {
      "text/plain": [
       "616"
      ]
     },
     "execution_count": 9,
     "metadata": {},
     "output_type": "execute_result"
    }
   ],
   "source": [
    "crime.rape_revised.isnull().sum()"
   ]
  },
  {
   "cell_type": "code",
   "execution_count": 10,
   "metadata": {},
   "outputs": [
    {
     "name": "stdout",
     "output_type": "stream",
     "text": [
      "16\n"
     ]
    }
   ],
   "source": [
    "rev = []\n",
    "count = 0 \n",
    "els = 0\n",
    "n = 0\n",
    "for i, j in crime[['rape_legacy','rape_revised']].iterrows(): \n",
    "    if np.isnan(j[1]) and not np.isnan(j[0]):\n",
    "        rev.append(j[0])\n",
    "    else:\n",
    "        rev.append(j[1])\n",
    "        els += 1\n",
    "        \n",
    "    if np.isnan(j[1]) and np.isnan(j[0]):\n",
    "        n += 1\n",
    "\n",
    "print (n) # Rows having NULL for both the vars"
   ]
  },
  {
   "cell_type": "code",
   "execution_count": 11,
   "metadata": {},
   "outputs": [
    {
     "data": {
      "text/plain": [
       "16"
      ]
     },
     "execution_count": 11,
     "metadata": {},
     "output_type": "execute_result"
    }
   ],
   "source": [
    "np.isnan(rev).sum()"
   ]
  },
  {
   "cell_type": "code",
   "execution_count": 12,
   "metadata": {},
   "outputs": [],
   "source": [
    "crime = crime.reset_index(drop=True)"
   ]
  },
  {
   "cell_type": "code",
   "execution_count": 13,
   "metadata": {},
   "outputs": [],
   "source": [
    "crime.rape_revised = pd.Series(rev)"
   ]
  },
  {
   "cell_type": "markdown",
   "metadata": {},
   "source": [
    "Dropping the rape_legacy columns"
   ]
  },
  {
   "cell_type": "code",
   "execution_count": 14,
   "metadata": {},
   "outputs": [],
   "source": [
    "crime.drop(columns=['rape_legacy'],inplace=True)"
   ]
  },
  {
   "cell_type": "markdown",
   "metadata": {},
   "source": [
    "Missing value treatment (Dropping the rows with nan values)"
   ]
  },
  {
   "cell_type": "code",
   "execution_count": 15,
   "metadata": {},
   "outputs": [],
   "source": [
    "crime = crime.dropna()"
   ]
  },
  {
   "cell_type": "code",
   "execution_count": 16,
   "metadata": {},
   "outputs": [
    {
     "data": {
      "text/plain": [
       "799    16\n",
       "dtype: int64"
      ]
     },
     "execution_count": 16,
     "metadata": {},
     "output_type": "execute_result"
    }
   ],
   "source": [
    "crime.count().value_counts()"
   ]
  },
  {
   "cell_type": "markdown",
   "metadata": {},
   "source": [
    "Preparing the dataset for modelling"
   ]
  },
  {
   "cell_type": "code",
   "execution_count": 17,
   "metadata": {},
   "outputs": [],
   "source": [
    "data_all = crime.copy()"
   ]
  },
  {
   "cell_type": "code",
   "execution_count": 18,
   "metadata": {},
   "outputs": [],
   "source": [
    "data_all.includes_jails = np.where(data_all.includes_jails == True, 1, 0)"
   ]
  },
  {
   "cell_type": "code",
   "execution_count": 19,
   "metadata": {},
   "outputs": [],
   "source": [
    "data = data_all.iloc[:,1:] #Splitting the jurisdiction from the data"
   ]
  },
  {
   "cell_type": "code",
   "execution_count": 20,
   "metadata": {},
   "outputs": [
    {
     "data": {
      "text/html": [
       "<div>\n",
       "<style scoped>\n",
       "    .dataframe tbody tr th:only-of-type {\n",
       "        vertical-align: middle;\n",
       "    }\n",
       "\n",
       "    .dataframe tbody tr th {\n",
       "        vertical-align: top;\n",
       "    }\n",
       "\n",
       "    .dataframe thead th {\n",
       "        text-align: right;\n",
       "    }\n",
       "</style>\n",
       "<table border=\"1\" class=\"dataframe\">\n",
       "  <thead>\n",
       "    <tr style=\"text-align: right;\">\n",
       "      <th></th>\n",
       "      <th>includes_jails</th>\n",
       "      <th>year</th>\n",
       "      <th>prisoner_count</th>\n",
       "      <th>crime_reporting_change</th>\n",
       "      <th>crimes_estimated</th>\n",
       "      <th>state_population</th>\n",
       "      <th>violent_crime_total</th>\n",
       "      <th>murder_manslaughter</th>\n",
       "      <th>rape_revised</th>\n",
       "      <th>robbery</th>\n",
       "      <th>agg_assault</th>\n",
       "      <th>property_crime_total</th>\n",
       "      <th>burglary</th>\n",
       "      <th>larceny</th>\n",
       "      <th>vehicle_theft</th>\n",
       "    </tr>\n",
       "  </thead>\n",
       "  <tbody>\n",
       "    <tr>\n",
       "      <td>0</td>\n",
       "      <td>0</td>\n",
       "      <td>2001</td>\n",
       "      <td>24741</td>\n",
       "      <td>0.0</td>\n",
       "      <td>0.0</td>\n",
       "      <td>4468912.0</td>\n",
       "      <td>19582.0</td>\n",
       "      <td>379.0</td>\n",
       "      <td>1369.0</td>\n",
       "      <td>5584.0</td>\n",
       "      <td>12250.0</td>\n",
       "      <td>173253.0</td>\n",
       "      <td>40642.0</td>\n",
       "      <td>119992.0</td>\n",
       "      <td>12619.0</td>\n",
       "    </tr>\n",
       "    <tr>\n",
       "      <td>1</td>\n",
       "      <td>1</td>\n",
       "      <td>2001</td>\n",
       "      <td>4570</td>\n",
       "      <td>0.0</td>\n",
       "      <td>0.0</td>\n",
       "      <td>633630.0</td>\n",
       "      <td>3735.0</td>\n",
       "      <td>39.0</td>\n",
       "      <td>501.0</td>\n",
       "      <td>514.0</td>\n",
       "      <td>2681.0</td>\n",
       "      <td>23160.0</td>\n",
       "      <td>3847.0</td>\n",
       "      <td>16695.0</td>\n",
       "      <td>2618.0</td>\n",
       "    </tr>\n",
       "    <tr>\n",
       "      <td>2</td>\n",
       "      <td>0</td>\n",
       "      <td>2001</td>\n",
       "      <td>27710</td>\n",
       "      <td>0.0</td>\n",
       "      <td>0.0</td>\n",
       "      <td>5306966.0</td>\n",
       "      <td>28675.0</td>\n",
       "      <td>400.0</td>\n",
       "      <td>1518.0</td>\n",
       "      <td>8868.0</td>\n",
       "      <td>17889.0</td>\n",
       "      <td>293874.0</td>\n",
       "      <td>54821.0</td>\n",
       "      <td>186850.0</td>\n",
       "      <td>52203.0</td>\n",
       "    </tr>\n",
       "    <tr>\n",
       "      <td>3</td>\n",
       "      <td>0</td>\n",
       "      <td>2001</td>\n",
       "      <td>11489</td>\n",
       "      <td>0.0</td>\n",
       "      <td>0.0</td>\n",
       "      <td>2694698.0</td>\n",
       "      <td>12190.0</td>\n",
       "      <td>148.0</td>\n",
       "      <td>892.0</td>\n",
       "      <td>2181.0</td>\n",
       "      <td>8969.0</td>\n",
       "      <td>99106.0</td>\n",
       "      <td>22196.0</td>\n",
       "      <td>69590.0</td>\n",
       "      <td>7320.0</td>\n",
       "    </tr>\n",
       "    <tr>\n",
       "      <td>4</td>\n",
       "      <td>0</td>\n",
       "      <td>2001</td>\n",
       "      <td>157142</td>\n",
       "      <td>0.0</td>\n",
       "      <td>0.0</td>\n",
       "      <td>34600463.0</td>\n",
       "      <td>212867.0</td>\n",
       "      <td>2206.0</td>\n",
       "      <td>9960.0</td>\n",
       "      <td>64614.0</td>\n",
       "      <td>136087.0</td>\n",
       "      <td>1134189.0</td>\n",
       "      <td>232273.0</td>\n",
       "      <td>697739.0</td>\n",
       "      <td>204177.0</td>\n",
       "    </tr>\n",
       "  </tbody>\n",
       "</table>\n",
       "</div>"
      ],
      "text/plain": [
       "   includes_jails  year  prisoner_count  crime_reporting_change  \\\n",
       "0               0  2001           24741                     0.0   \n",
       "1               1  2001            4570                     0.0   \n",
       "2               0  2001           27710                     0.0   \n",
       "3               0  2001           11489                     0.0   \n",
       "4               0  2001          157142                     0.0   \n",
       "\n",
       "   crimes_estimated  state_population  violent_crime_total  \\\n",
       "0               0.0         4468912.0              19582.0   \n",
       "1               0.0          633630.0               3735.0   \n",
       "2               0.0         5306966.0              28675.0   \n",
       "3               0.0         2694698.0              12190.0   \n",
       "4               0.0        34600463.0             212867.0   \n",
       "\n",
       "   murder_manslaughter  rape_revised  robbery  agg_assault  \\\n",
       "0                379.0        1369.0   5584.0      12250.0   \n",
       "1                 39.0         501.0    514.0       2681.0   \n",
       "2                400.0        1518.0   8868.0      17889.0   \n",
       "3                148.0         892.0   2181.0       8969.0   \n",
       "4               2206.0        9960.0  64614.0     136087.0   \n",
       "\n",
       "   property_crime_total  burglary   larceny  vehicle_theft  \n",
       "0              173253.0   40642.0  119992.0        12619.0  \n",
       "1               23160.0    3847.0   16695.0         2618.0  \n",
       "2              293874.0   54821.0  186850.0        52203.0  \n",
       "3               99106.0   22196.0   69590.0         7320.0  \n",
       "4             1134189.0  232273.0  697739.0       204177.0  "
      ]
     },
     "execution_count": 20,
     "metadata": {},
     "output_type": "execute_result"
    }
   ],
   "source": [
    "data.head()"
   ]
  },
  {
   "cell_type": "code",
   "execution_count": 21,
   "metadata": {},
   "outputs": [],
   "source": [
    "#profile_report = ProfileReport(data)\n",
    "#profile_report.to_file('F:\\\\Data Science\\\\Alabs Python + ML\\\\Analytixlabs\\\\Machine Learning\\\\Clustering K - Means\\\\Datasets\\\\crime_profile_report.html')"
   ]
  },
  {
   "cell_type": "markdown",
   "metadata": {},
   "source": [
    "From the profiling report <br>\n",
    "It is noted that the following Features has to be **rejected** due to High Correlation, <br>\n",
    "burglary <br>\n",
    "larceny <br>\n",
    "murder_manslaughter <br>\n",
    "prisoner_count <br>\n",
    "property_crime_total <br>\n",
    "rape_revised <br>\n",
    "robbery <br>\n",
    "state_population <br>\n",
    "vehicle_theft <br>\n",
    "violent_crime_total <br>\n",
    "year <br>\n",
    "\n",
    "The following Features **remain** after the rejection,<br>\n",
    "agg_assault <br>\n",
    "crime_reporting_change<br>\n",
    "crimes_estimated<br>\n",
    "inculeds_jails\n"
   ]
  },
  {
   "cell_type": "markdown",
   "metadata": {},
   "source": [
    "**Missing value and Outlier treatment**"
   ]
  },
  {
   "cell_type": "code",
   "execution_count": 22,
   "metadata": {},
   "outputs": [],
   "source": [
    "data.drop(columns=['year'],inplace=True)"
   ]
  },
  {
   "cell_type": "code",
   "execution_count": 23,
   "metadata": {},
   "outputs": [
    {
     "data": {
      "text/html": [
       "<div>\n",
       "<style scoped>\n",
       "    .dataframe tbody tr th:only-of-type {\n",
       "        vertical-align: middle;\n",
       "    }\n",
       "\n",
       "    .dataframe tbody tr th {\n",
       "        vertical-align: top;\n",
       "    }\n",
       "\n",
       "    .dataframe thead th {\n",
       "        text-align: right;\n",
       "    }\n",
       "</style>\n",
       "<table border=\"1\" class=\"dataframe\">\n",
       "  <thead>\n",
       "    <tr style=\"text-align: right;\">\n",
       "      <th></th>\n",
       "      <th>includes_jails</th>\n",
       "      <th>prisoner_count</th>\n",
       "      <th>crime_reporting_change</th>\n",
       "      <th>crimes_estimated</th>\n",
       "      <th>state_population</th>\n",
       "      <th>violent_crime_total</th>\n",
       "      <th>murder_manslaughter</th>\n",
       "      <th>rape_revised</th>\n",
       "      <th>robbery</th>\n",
       "      <th>agg_assault</th>\n",
       "      <th>property_crime_total</th>\n",
       "      <th>burglary</th>\n",
       "      <th>larceny</th>\n",
       "      <th>vehicle_theft</th>\n",
       "    </tr>\n",
       "  </thead>\n",
       "  <tbody>\n",
       "    <tr>\n",
       "      <td>0</td>\n",
       "      <td>0</td>\n",
       "      <td>24741</td>\n",
       "      <td>0.0</td>\n",
       "      <td>0.0</td>\n",
       "      <td>4468912.0</td>\n",
       "      <td>19582.0</td>\n",
       "      <td>379.0</td>\n",
       "      <td>1369.0</td>\n",
       "      <td>5584.0</td>\n",
       "      <td>12250.0</td>\n",
       "      <td>173253.0</td>\n",
       "      <td>40642.0</td>\n",
       "      <td>119992.0</td>\n",
       "      <td>12619.0</td>\n",
       "    </tr>\n",
       "    <tr>\n",
       "      <td>1</td>\n",
       "      <td>1</td>\n",
       "      <td>4570</td>\n",
       "      <td>0.0</td>\n",
       "      <td>0.0</td>\n",
       "      <td>633630.0</td>\n",
       "      <td>3735.0</td>\n",
       "      <td>39.0</td>\n",
       "      <td>501.0</td>\n",
       "      <td>514.0</td>\n",
       "      <td>2681.0</td>\n",
       "      <td>23160.0</td>\n",
       "      <td>3847.0</td>\n",
       "      <td>16695.0</td>\n",
       "      <td>2618.0</td>\n",
       "    </tr>\n",
       "    <tr>\n",
       "      <td>2</td>\n",
       "      <td>0</td>\n",
       "      <td>27710</td>\n",
       "      <td>0.0</td>\n",
       "      <td>0.0</td>\n",
       "      <td>5306966.0</td>\n",
       "      <td>28675.0</td>\n",
       "      <td>400.0</td>\n",
       "      <td>1518.0</td>\n",
       "      <td>8868.0</td>\n",
       "      <td>17889.0</td>\n",
       "      <td>293874.0</td>\n",
       "      <td>54821.0</td>\n",
       "      <td>186850.0</td>\n",
       "      <td>52203.0</td>\n",
       "    </tr>\n",
       "    <tr>\n",
       "      <td>3</td>\n",
       "      <td>0</td>\n",
       "      <td>11489</td>\n",
       "      <td>0.0</td>\n",
       "      <td>0.0</td>\n",
       "      <td>2694698.0</td>\n",
       "      <td>12190.0</td>\n",
       "      <td>148.0</td>\n",
       "      <td>892.0</td>\n",
       "      <td>2181.0</td>\n",
       "      <td>8969.0</td>\n",
       "      <td>99106.0</td>\n",
       "      <td>22196.0</td>\n",
       "      <td>69590.0</td>\n",
       "      <td>7320.0</td>\n",
       "    </tr>\n",
       "    <tr>\n",
       "      <td>4</td>\n",
       "      <td>0</td>\n",
       "      <td>157142</td>\n",
       "      <td>0.0</td>\n",
       "      <td>0.0</td>\n",
       "      <td>34600463.0</td>\n",
       "      <td>212867.0</td>\n",
       "      <td>2206.0</td>\n",
       "      <td>9960.0</td>\n",
       "      <td>64614.0</td>\n",
       "      <td>136087.0</td>\n",
       "      <td>1134189.0</td>\n",
       "      <td>232273.0</td>\n",
       "      <td>697739.0</td>\n",
       "      <td>204177.0</td>\n",
       "    </tr>\n",
       "  </tbody>\n",
       "</table>\n",
       "</div>"
      ],
      "text/plain": [
       "   includes_jails  prisoner_count  crime_reporting_change  crimes_estimated  \\\n",
       "0               0           24741                     0.0               0.0   \n",
       "1               1            4570                     0.0               0.0   \n",
       "2               0           27710                     0.0               0.0   \n",
       "3               0           11489                     0.0               0.0   \n",
       "4               0          157142                     0.0               0.0   \n",
       "\n",
       "   state_population  violent_crime_total  murder_manslaughter  rape_revised  \\\n",
       "0         4468912.0              19582.0                379.0        1369.0   \n",
       "1          633630.0               3735.0                 39.0         501.0   \n",
       "2         5306966.0              28675.0                400.0        1518.0   \n",
       "3         2694698.0              12190.0                148.0         892.0   \n",
       "4        34600463.0             212867.0               2206.0        9960.0   \n",
       "\n",
       "   robbery  agg_assault  property_crime_total  burglary   larceny  \\\n",
       "0   5584.0      12250.0              173253.0   40642.0  119992.0   \n",
       "1    514.0       2681.0               23160.0    3847.0   16695.0   \n",
       "2   8868.0      17889.0              293874.0   54821.0  186850.0   \n",
       "3   2181.0       8969.0               99106.0   22196.0   69590.0   \n",
       "4  64614.0     136087.0             1134189.0  232273.0  697739.0   \n",
       "\n",
       "   vehicle_theft  \n",
       "0        12619.0  \n",
       "1         2618.0  \n",
       "2        52203.0  \n",
       "3         7320.0  \n",
       "4       204177.0  "
      ]
     },
     "execution_count": 23,
     "metadata": {},
     "output_type": "execute_result"
    }
   ],
   "source": [
    "data.head()"
   ]
  },
  {
   "cell_type": "code",
   "execution_count": 24,
   "metadata": {},
   "outputs": [
    {
     "data": {
      "image/png": "[encoded data removed]",
      "text/plain": [
       "<Figure size 432x288 with 1 Axes>"
      ]
     },
     "metadata": {
      "needs_background": "light"
     },
     "output_type": "display_data"
    }
   ],
   "source": [
    "data.violent_crime_total.plot(kind='box')\n",
    "plt.show()"
   ]
  },
  {
   "cell_type": "code",
   "execution_count": 25,
   "metadata": {},
   "outputs": [],
   "source": [
    "def Outlier_treat(x):\n",
    "    x = x.clip_upper(x.quantile(0.95))\n",
    "    x = x.clip_lower(x.quantile(0.05))\n",
    "    return x"
   ]
  },
  {
   "cell_type": "code",
   "execution_count": 26,
   "metadata": {},
   "outputs": [
    {
     "name": "stderr",
     "output_type": "stream",
     "text": [
      "C:\\Users\\guru\\Anaconda3\\lib\\site-packages\\ipykernel_launcher.py:2: FutureWarning: clip_upper(threshold) is deprecated, use clip(upper=threshold) instead\n",
      "  \n",
      "C:\\Users\\guru\\Anaconda3\\lib\\site-packages\\ipykernel_launcher.py:3: FutureWarning: clip_lower(threshold) is deprecated, use clip(lower=threshold) instead\n",
      "  This is separate from the ipykernel package so we can avoid doing imports until\n"
     ]
    }
   ],
   "source": [
    "data_out = data.apply(Outlier_treat)"
   ]
  },
  {
   "cell_type": "code",
   "execution_count": 27,
   "metadata": {},
   "outputs": [
    {
     "data": {
      "image/png": "[encoded data removed]",
      "text/plain": [
       "<Figure size 432x288 with 1 Axes>"
      ]
     },
     "metadata": {
      "needs_background": "light"
     },
     "output_type": "display_data"
    }
   ],
   "source": [
    "data_out.violent_crime_total.plot(kind='box')\n",
    "plt.show()"
   ]
  },
  {
   "cell_type": "markdown",
   "metadata": {},
   "source": [
    "## Feature Reduction using the PCA"
   ]
  },
  {
   "cell_type": "markdown",
   "metadata": {},
   "source": [
    "**PCA** <br>\n",
    "PCA is unsupervised algorithm, popularly used for dimensionality reduction (Feature Extraction)<br>\n",
    "- Used for : Noise filtering, Feature extraction, Stock market predictions\n",
    "\n",
    "The goal is to identify the correlation among the variables.\n",
    "\n",
    "**Definition:** Finding the directions of maximum variance in High dimensional data and projecting that in small dimensional sub space while retaining most of the information.\n"
   ]
  },
  {
   "cell_type": "markdown",
   "metadata": {},
   "source": [
    "Functions in the PCA: <br>\n",
    "1 - Standardise the data<br>\n",
    "2 - Obtain the eigen vectors and eigen values from Correlation/ Covariance matrix<br>\n",
    "3 - Choose the k number of components based on cumulative variance is explaining >75% and individual component explaining > 0.8 variance<br>\n",
    "4 - Construct projection matrix W from selected k eigen vectors<br>\n",
    "5 - Transform the orginal dataset X via W to obtain a k-dimensional feature subspace Y\n",
    "\n",
    "PCA is unsupervised model as it does not consider the dependent variable "
   ]
  },
  {
   "cell_type": "markdown",
   "metadata": {},
   "source": [
    "**1 Splitting the dataset**"
   ]
  },
  {
   "cell_type": "code",
   "execution_count": 28,
   "metadata": {},
   "outputs": [],
   "source": [
    "from sklearn.model_selection import train_test_split\n",
    "train, test = train_test_split(data, test_size=.3, random_state=7)"
   ]
  },
  {
   "cell_type": "code",
   "execution_count": 29,
   "metadata": {},
   "outputs": [
    {
     "data": {
      "text/plain": [
       "((559, 14), (240, 14))"
      ]
     },
     "execution_count": 29,
     "metadata": {},
     "output_type": "execute_result"
    }
   ],
   "source": [
    "train.shape , test.shape"
   ]
  },
  {
   "cell_type": "markdown",
   "metadata": {},
   "source": [
    "**2 Feature scaling**"
   ]
  },
  {
   "cell_type": "code",
   "execution_count": 30,
   "metadata": {},
   "outputs": [],
   "source": [
    "from sklearn.preprocessing import StandardScaler\n",
    "sc = StandardScaler()"
   ]
  },
  {
   "cell_type": "markdown",
   "metadata": {},
   "source": [
    "fit() ------------------> just calculates the parameters (e.g. μ and σ in case of StandardScaler) <br>\n",
    "transform() ------------> helps to apply the scaling based on the calculated parameters from fit()"
   ]
  },
  {
   "cell_type": "code",
   "execution_count": 31,
   "metadata": {},
   "outputs": [],
   "source": [
    "train_scaled = sc.fit_transform(train) "
   ]
  },
  {
   "cell_type": "code",
   "execution_count": 32,
   "metadata": {},
   "outputs": [],
   "source": [
    "test_scaled = sc.transform(test)"
   ]
  },
  {
   "cell_type": "markdown",
   "metadata": {},
   "source": [
    "**3 Applying PCA** "
   ]
  },
  {
   "cell_type": "code",
   "execution_count": 33,
   "metadata": {},
   "outputs": [],
   "source": [
    "from sklearn.decomposition import PCA\n",
    "pca = PCA(n_components = None)"
   ]
  },
  {
   "cell_type": "code",
   "execution_count": 34,
   "metadata": {},
   "outputs": [],
   "source": [
    "train_scaled = pca.fit_transform(train_scaled)"
   ]
  },
  {
   "cell_type": "code",
   "execution_count": 35,
   "metadata": {},
   "outputs": [],
   "source": [
    "test_scaled = pca.transform(test_scaled)"
   ]
  },
  {
   "cell_type": "markdown",
   "metadata": {},
   "source": [
    "**3.1** Eigen value"
   ]
  },
  {
   "cell_type": "code",
   "execution_count": 36,
   "metadata": {},
   "outputs": [
    {
     "data": {
      "text/plain": [
       "array([1.04377040e+01, 1.01444458e+00, 1.01025661e+00, 9.21652071e-01,\n",
       "       2.16537713e-01, 1.33336997e-01, 1.07635697e-01, 8.06109946e-02,\n",
       "       4.51927721e-02, 2.89350113e-02, 1.56253623e-02, 1.31578318e-02,\n",
       "       4.15602667e-32, 2.63910620e-32])"
      ]
     },
     "execution_count": 36,
     "metadata": {},
     "output_type": "execute_result"
    }
   ],
   "source": [
    "pca.explained_variance_"
   ]
  },
  {
   "cell_type": "markdown",
   "metadata": {},
   "source": [
    "**3.2** Variance explained by each PC in Cumulative Percentage "
   ]
  },
  {
   "cell_type": "code",
   "execution_count": 37,
   "metadata": {},
   "outputs": [
    {
     "data": {
      "text/plain": [
       "array([0.74421656, 0.81654726, 0.88857936, 0.95429388, 0.96973319,\n",
       "       0.97924023, 0.98691474, 0.99266237, 0.99588465, 0.99794774,\n",
       "       0.99906184, 1.        , 1.        , 1.        ])"
      ]
     },
     "execution_count": 37,
     "metadata": {},
     "output_type": "execute_result"
    }
   ],
   "source": [
    "np.cumsum(pca.explained_variance_ratio_)"
   ]
  },
  {
   "cell_type": "markdown",
   "metadata": {},
   "source": [
    "**3.3** Selecting the Number of Principal components based on <br>\n",
    "Cumulative percentage of variance > 75% <br>\n",
    "Eigen value > 0.8"
   ]
  },
  {
   "cell_type": "markdown",
   "metadata": {},
   "source": [
    "Based on the above criteria for selection we conclude **Number of PC = 2** "
   ]
  },
  {
   "cell_type": "markdown",
   "metadata": {},
   "source": [
    "**3.4** Fitting the model again with the select number PC"
   ]
  },
  {
   "cell_type": "code",
   "execution_count": 38,
   "metadata": {},
   "outputs": [],
   "source": [
    "pca_final = PCA(n_components=2)"
   ]
  },
  {
   "cell_type": "code",
   "execution_count": 39,
   "metadata": {},
   "outputs": [],
   "source": [
    "pca_final = pca_final.fit(train_scaled)"
   ]
  },
  {
   "cell_type": "code",
   "execution_count": 40,
   "metadata": {},
   "outputs": [
    {
     "data": {
      "text/plain": [
       "array([10.43770397,  1.01444458])"
      ]
     },
     "execution_count": 40,
     "metadata": {},
     "output_type": "execute_result"
    }
   ],
   "source": [
    "pca_final.explained_variance_"
   ]
  },
  {
   "cell_type": "code",
   "execution_count": 41,
   "metadata": {},
   "outputs": [
    {
     "data": {
      "text/plain": [
       "array([0.74421656, 0.81654726])"
      ]
     },
     "execution_count": 41,
     "metadata": {},
     "output_type": "execute_result"
    }
   ],
   "source": [
    "np.cumsum(pca_final.explained_variance_ratio_)"
   ]
  },
  {
   "cell_type": "markdown",
   "metadata": {},
   "source": [
    "**3.5** Dimension Reduction "
   ]
  },
  {
   "cell_type": "code",
   "execution_count": 42,
   "metadata": {},
   "outputs": [],
   "source": [
    "# Applying the pca model on the scaled train data, which gives the array with specified number of PCs\n",
    "reduced_factors = pca_final.transform(train_scaled) #----------->    this gives the factors"
   ]
  },
  {
   "cell_type": "code",
   "execution_count": 43,
   "metadata": {
    "scrolled": true
   },
   "outputs": [
    {
     "data": {
      "text/html": [
       "<div>\n",
       "<style scoped>\n",
       "    .dataframe tbody tr th:only-of-type {\n",
       "        vertical-align: middle;\n",
       "    }\n",
       "\n",
       "    .dataframe tbody tr th {\n",
       "        vertical-align: top;\n",
       "    }\n",
       "\n",
       "    .dataframe thead th {\n",
       "        text-align: right;\n",
       "    }\n",
       "</style>\n",
       "<table border=\"1\" class=\"dataframe\">\n",
       "  <thead>\n",
       "    <tr style=\"text-align: right;\">\n",
       "      <th></th>\n",
       "      <th>F1</th>\n",
       "      <th>F2</th>\n",
       "    </tr>\n",
       "  </thead>\n",
       "  <tbody>\n",
       "    <tr>\n",
       "      <td>0</td>\n",
       "      <td>-2.066225</td>\n",
       "      <td>0.076542</td>\n",
       "    </tr>\n",
       "    <tr>\n",
       "      <td>1</td>\n",
       "      <td>6.310423</td>\n",
       "      <td>0.025599</td>\n",
       "    </tr>\n",
       "  </tbody>\n",
       "</table>\n",
       "</div>"
      ],
      "text/plain": [
       "         F1        F2\n",
       "0 -2.066225  0.076542\n",
       "1  6.310423  0.025599"
      ]
     },
     "execution_count": 43,
     "metadata": {},
     "output_type": "execute_result"
    }
   ],
   "source": [
    "dimensions = pd.DataFrame(reduced_factors, columns=['F1','F2']);\n",
    "dimensions.head(2)"
   ]
  },
  {
   "cell_type": "markdown",
   "metadata": {},
   "source": [
    "**3.6** Factor Loading Matrix / Component loadings"
   ]
  },
  {
   "cell_type": "markdown",
   "metadata": {},
   "source": [
    "Loadings=Eigenvectors * sqrt(Eigenvalues)\n",
    "\n",
    "Factor loadings are the covariances/correlations between the original variables and the unit-scaled components. (i.e., PCs ~ Initial Columns ) <br>\n",
    "\n",
    "Factors Loadings are the percent of variance in a variable explained by the factor"
   ]
  },
  {
   "cell_type": "code",
   "execution_count": 44,
   "metadata": {},
   "outputs": [],
   "source": [
    "eigen_vector = pca_final.components_.T"
   ]
  },
  {
   "cell_type": "code",
   "execution_count": 45,
   "metadata": {},
   "outputs": [],
   "source": [
    "eigen_value = pca_final.explained_variance_"
   ]
  },
  {
   "cell_type": "code",
   "execution_count": 46,
   "metadata": {},
   "outputs": [],
   "source": [
    "Factor_loading_matrix = pd.DataFrame((eigen_vector * np.sqrt(eigen_value)).T,columns=train.columns).T"
   ]
  },
  {
   "cell_type": "code",
   "execution_count": 47,
   "metadata": {},
   "outputs": [
    {
     "data": {
      "text/html": [
       "<div>\n",
       "<style scoped>\n",
       "    .dataframe tbody tr th:only-of-type {\n",
       "        vertical-align: middle;\n",
       "    }\n",
       "\n",
       "    .dataframe tbody tr th {\n",
       "        vertical-align: top;\n",
       "    }\n",
       "\n",
       "    .dataframe thead th {\n",
       "        text-align: right;\n",
       "    }\n",
       "</style>\n",
       "<table border=\"1\" class=\"dataframe\">\n",
       "  <thead>\n",
       "    <tr style=\"text-align: right;\">\n",
       "      <th></th>\n",
       "      <th>0</th>\n",
       "      <th>1</th>\n",
       "    </tr>\n",
       "  </thead>\n",
       "  <tbody>\n",
       "    <tr>\n",
       "      <td>includes_jails</td>\n",
       "      <td>3.230744e+00</td>\n",
       "      <td>2.494623e-15</td>\n",
       "    </tr>\n",
       "    <tr>\n",
       "      <td>prisoner_count</td>\n",
       "      <td>-8.001899e-15</td>\n",
       "      <td>1.007196e+00</td>\n",
       "    </tr>\n",
       "    <tr>\n",
       "      <td>crime_reporting_change</td>\n",
       "      <td>3.877354e-15</td>\n",
       "      <td>6.005908e-15</td>\n",
       "    </tr>\n",
       "    <tr>\n",
       "      <td>crimes_estimated</td>\n",
       "      <td>-4.038228e-15</td>\n",
       "      <td>1.356067e-14</td>\n",
       "    </tr>\n",
       "    <tr>\n",
       "      <td>state_population</td>\n",
       "      <td>-5.543729e-18</td>\n",
       "      <td>-2.398593e-16</td>\n",
       "    </tr>\n",
       "    <tr>\n",
       "      <td>violent_crime_total</td>\n",
       "      <td>1.326305e-17</td>\n",
       "      <td>-9.797128e-17</td>\n",
       "    </tr>\n",
       "    <tr>\n",
       "      <td>murder_manslaughter</td>\n",
       "      <td>4.394868e-17</td>\n",
       "      <td>-8.938324e-17</td>\n",
       "    </tr>\n",
       "    <tr>\n",
       "      <td>rape_revised</td>\n",
       "      <td>-1.781728e-17</td>\n",
       "      <td>3.779445e-18</td>\n",
       "    </tr>\n",
       "    <tr>\n",
       "      <td>robbery</td>\n",
       "      <td>-9.985413e-18</td>\n",
       "      <td>-3.968433e-18</td>\n",
       "    </tr>\n",
       "    <tr>\n",
       "      <td>agg_assault</td>\n",
       "      <td>7.932674e-18</td>\n",
       "      <td>-4.467889e-18</td>\n",
       "    </tr>\n",
       "    <tr>\n",
       "      <td>property_crime_total</td>\n",
       "      <td>7.549125e-18</td>\n",
       "      <td>-9.573090e-18</td>\n",
       "    </tr>\n",
       "    <tr>\n",
       "      <td>burglary</td>\n",
       "      <td>-2.632164e-18</td>\n",
       "      <td>-3.386589e-18</td>\n",
       "    </tr>\n",
       "    <tr>\n",
       "      <td>larceny</td>\n",
       "      <td>-2.126365e-32</td>\n",
       "      <td>8.810452e-33</td>\n",
       "    </tr>\n",
       "    <tr>\n",
       "      <td>vehicle_theft</td>\n",
       "      <td>-6.261884e-33</td>\n",
       "      <td>8.990883e-33</td>\n",
       "    </tr>\n",
       "  </tbody>\n",
       "</table>\n",
       "</div>"
      ],
      "text/plain": [
       "                                   0             1\n",
       "includes_jails          3.230744e+00  2.494623e-15\n",
       "prisoner_count         -8.001899e-15  1.007196e+00\n",
       "crime_reporting_change  3.877354e-15  6.005908e-15\n",
       "crimes_estimated       -4.038228e-15  1.356067e-14\n",
       "state_population       -5.543729e-18 -2.398593e-16\n",
       "violent_crime_total     1.326305e-17 -9.797128e-17\n",
       "murder_manslaughter     4.394868e-17 -8.938324e-17\n",
       "rape_revised           -1.781728e-17  3.779445e-18\n",
       "robbery                -9.985413e-18 -3.968433e-18\n",
       "agg_assault             7.932674e-18 -4.467889e-18\n",
       "property_crime_total    7.549125e-18 -9.573090e-18\n",
       "burglary               -2.632164e-18 -3.386589e-18\n",
       "larceny                -2.126365e-32  8.810452e-33\n",
       "vehicle_theft          -6.261884e-33  8.990883e-33"
      ]
     },
     "execution_count": 47,
     "metadata": {},
     "output_type": "execute_result"
    }
   ],
   "source": [
    "Factor_loading_matrix"
   ]
  },
  {
   "cell_type": "code",
   "execution_count": 48,
   "metadata": {},
   "outputs": [],
   "source": [
    "#Factor_loading_matrix.to_excel('F:\\\\Data Science\\\\Alabs Python + ML\\\\Analytixlabs\\\\Machine Learning\\\\Clustering K - Means\\\\Datasets\\\\Factor_Loading_matrix.xlsx')"
   ]
  },
  {
   "attachments": {
    "image.png": {
     "image/png": "[encoded data removed]"
    }
   },
   "cell_type": "markdown",
   "metadata": {},
   "source": [
    "![image.png](attachment:image.png)"
   ]
  },
  {
   "cell_type": "markdown",
   "metadata": {},
   "source": [
    "**3.7** Selecting the Features based on the factor loadings"
   ]
  },
  {
   "cell_type": "code",
   "execution_count": 49,
   "metadata": {},
   "outputs": [],
   "source": [
    "selected_vars = ['includes_jails','prisoner_count']"
   ]
  },
  {
   "cell_type": "markdown",
   "metadata": {},
   "source": [
    "Conclusion for Feature Reduction: <br>\n",
    "As per the correlation from profiling report, <br>\n",
    "> > agg_assault <br>\n",
    "crime_reporting_change <br>\n",
    "crimes_estimated<br>\n",
    "inculdes_jails\n",
    "\n",
    "As per the PCA,\n",
    "> > includes_jails<br>\n",
    "prisoner_count \n",
    "\n",
    "The above features from PCA explain the most variance in the dataset."
   ]
  },
  {
   "cell_type": "markdown",
   "metadata": {},
   "source": [
    "**4** Creating the dataset with reduced features"
   ]
  },
  {
   "cell_type": "code",
   "execution_count": 50,
   "metadata": {},
   "outputs": [],
   "source": [
    "df_train_scaled = pd.DataFrame(train_scaled, columns = train.columns)"
   ]
  },
  {
   "cell_type": "code",
   "execution_count": 51,
   "metadata": {},
   "outputs": [],
   "source": [
    "df_train_scaled_final = df_train_scaled[selected_vars]"
   ]
  },
  {
   "cell_type": "code",
   "execution_count": 52,
   "metadata": {},
   "outputs": [
    {
     "data": {
      "text/html": [
       "<div>\n",
       "<style scoped>\n",
       "    .dataframe tbody tr th:only-of-type {\n",
       "        vertical-align: middle;\n",
       "    }\n",
       "\n",
       "    .dataframe tbody tr th {\n",
       "        vertical-align: top;\n",
       "    }\n",
       "\n",
       "    .dataframe thead th {\n",
       "        text-align: right;\n",
       "    }\n",
       "</style>\n",
       "<table border=\"1\" class=\"dataframe\">\n",
       "  <thead>\n",
       "    <tr style=\"text-align: right;\">\n",
       "      <th></th>\n",
       "      <th>includes_jails</th>\n",
       "      <th>prisoner_count</th>\n",
       "    </tr>\n",
       "  </thead>\n",
       "  <tbody>\n",
       "    <tr>\n",
       "      <td>0</td>\n",
       "      <td>-2.066225</td>\n",
       "      <td>0.076542</td>\n",
       "    </tr>\n",
       "    <tr>\n",
       "      <td>1</td>\n",
       "      <td>6.310423</td>\n",
       "      <td>0.025599</td>\n",
       "    </tr>\n",
       "    <tr>\n",
       "      <td>2</td>\n",
       "      <td>-0.818688</td>\n",
       "      <td>0.069363</td>\n",
       "    </tr>\n",
       "    <tr>\n",
       "      <td>3</td>\n",
       "      <td>2.396603</td>\n",
       "      <td>0.025250</td>\n",
       "    </tr>\n",
       "    <tr>\n",
       "      <td>4</td>\n",
       "      <td>-0.024759</td>\n",
       "      <td>0.055163</td>\n",
       "    </tr>\n",
       "  </tbody>\n",
       "</table>\n",
       "</div>"
      ],
      "text/plain": [
       "   includes_jails  prisoner_count\n",
       "0       -2.066225        0.076542\n",
       "1        6.310423        0.025599\n",
       "2       -0.818688        0.069363\n",
       "3        2.396603        0.025250\n",
       "4       -0.024759        0.055163"
      ]
     },
     "execution_count": 52,
     "metadata": {},
     "output_type": "execute_result"
    }
   ],
   "source": [
    "df_train_scaled_final.head()"
   ]
  },
  {
   "cell_type": "markdown",
   "metadata": {},
   "source": [
    "As per Business we also select the below dataset:"
   ]
  },
  {
   "cell_type": "code",
   "execution_count": 53,
   "metadata": {},
   "outputs": [],
   "source": [
    "df_train_scaled_final_2 = df_train_scaled[['includes_jails','prisoner_count','violent_crime_total',\n",
    "                                          'property_crime_total']]"
   ]
  },
  {
   "cell_type": "code",
   "execution_count": 54,
   "metadata": {},
   "outputs": [
    {
     "data": {
      "text/html": [
       "<div>\n",
       "<style scoped>\n",
       "    .dataframe tbody tr th:only-of-type {\n",
       "        vertical-align: middle;\n",
       "    }\n",
       "\n",
       "    .dataframe tbody tr th {\n",
       "        vertical-align: top;\n",
       "    }\n",
       "\n",
       "    .dataframe thead th {\n",
       "        text-align: right;\n",
       "    }\n",
       "</style>\n",
       "<table border=\"1\" class=\"dataframe\">\n",
       "  <thead>\n",
       "    <tr style=\"text-align: right;\">\n",
       "      <th></th>\n",
       "      <th>includes_jails</th>\n",
       "      <th>prisoner_count</th>\n",
       "      <th>violent_crime_total</th>\n",
       "      <th>property_crime_total</th>\n",
       "    </tr>\n",
       "  </thead>\n",
       "  <tbody>\n",
       "    <tr>\n",
       "      <td>0</td>\n",
       "      <td>-2.066225</td>\n",
       "      <td>0.076542</td>\n",
       "      <td>0.007138</td>\n",
       "      <td>0.027100</td>\n",
       "    </tr>\n",
       "    <tr>\n",
       "      <td>1</td>\n",
       "      <td>6.310423</td>\n",
       "      <td>0.025599</td>\n",
       "      <td>-0.710020</td>\n",
       "      <td>0.040625</td>\n",
       "    </tr>\n",
       "    <tr>\n",
       "      <td>2</td>\n",
       "      <td>-0.818688</td>\n",
       "      <td>0.069363</td>\n",
       "      <td>-0.171649</td>\n",
       "      <td>-0.220631</td>\n",
       "    </tr>\n",
       "    <tr>\n",
       "      <td>3</td>\n",
       "      <td>2.396603</td>\n",
       "      <td>0.025250</td>\n",
       "      <td>-0.285079</td>\n",
       "      <td>0.002142</td>\n",
       "    </tr>\n",
       "    <tr>\n",
       "      <td>4</td>\n",
       "      <td>-0.024759</td>\n",
       "      <td>0.055163</td>\n",
       "      <td>-0.202018</td>\n",
       "      <td>-0.161526</td>\n",
       "    </tr>\n",
       "  </tbody>\n",
       "</table>\n",
       "</div>"
      ],
      "text/plain": [
       "   includes_jails  prisoner_count  violent_crime_total  property_crime_total\n",
       "0       -2.066225        0.076542             0.007138              0.027100\n",
       "1        6.310423        0.025599            -0.710020              0.040625\n",
       "2       -0.818688        0.069363            -0.171649             -0.220631\n",
       "3        2.396603        0.025250            -0.285079              0.002142\n",
       "4       -0.024759        0.055163            -0.202018             -0.161526"
      ]
     },
     "execution_count": 54,
     "metadata": {},
     "output_type": "execute_result"
    }
   ],
   "source": [
    "df_train_scaled_final_2.head()"
   ]
  },
  {
   "cell_type": "markdown",
   "metadata": {},
   "source": [
    "------------------------------------------ End of Feature Reduction with PCA ---------------------------------------"
   ]
  },
  {
   "cell_type": "markdown",
   "metadata": {},
   "source": [
    "## Finding the Optimum # Clusters"
   ]
  },
  {
   "cell_type": "markdown",
   "metadata": {},
   "source": [
    "The Optimum # Clusters can be found using,\n",
    "> Dendogram <br>\n",
    "Elbow method (WCSS) <br>\n",
    "Silhouette Score Analysis"
   ]
  },
  {
   "cell_type": "markdown",
   "metadata": {},
   "source": [
    "### 1 Elbow Method"
   ]
  },
  {
   "cell_type": "markdown",
   "metadata": {},
   "source": [
    "**WCSS** - Within Cluster Sum of Squares <br>\n",
    "SStotal = SSwithin + SSbetween <br>\n",
    "So, if SSwithin is minimized then SSbetween is maximized"
   ]
  },
  {
   "cell_type": "code",
   "execution_count": 55,
   "metadata": {},
   "outputs": [
    {
     "data": {
      "image/png": "[encoded data removed]",
      "text/plain": [
       "<Figure size 432x288 with 1 Axes>"
      ]
     },
     "metadata": {
      "needs_background": "light"
     },
     "output_type": "display_data"
    }
   ],
   "source": [
    "# Using the elbow method to find the optimal number of clusters\n",
    "from sklearn.cluster import KMeans\n",
    "wcss = []\n",
    "for i in range(1, 11):\n",
    "    kmeans = KMeans(n_clusters = i, random_state = 7)\n",
    "    kmeans.fit(df_train_scaled_final)\n",
    "    wcss.append(kmeans.inertia_)\n",
    "plt.plot(range(1, 11), wcss)\n",
    "plt.title('The Elbow Method')\n",
    "plt.xlabel('Number of clusters')\n",
    "plt.ylabel('WCSS')\n",
    "plt.show()"
   ]
  },
  {
   "cell_type": "markdown",
   "metadata": {},
   "source": [
    "From the Elbow Method we can conclude that there is a sudden drop in WCSS after the **2 Clusters#**\n",
    "\n",
    "---"
   ]
  },
  {
   "cell_type": "markdown",
   "metadata": {},
   "source": [
    "### 2 Silhouette Score Analysis"
   ]
  },
  {
   "cell_type": "markdown",
   "metadata": {},
   "source": [
    "The [Silhouette Coefficient](http://scikit-learn.org/stable/modules/clustering.html#silhouette-coefficient) is a common metric for evaluating clustering \"performance\" in situations when the \"true\" cluster assignments are not known.\n",
    "\n",
    "A Silhouette Coefficient is calculated for **each observation**:\n",
    "\n",
    "$$SC = \\frac{b-a} {max(a, b)}$$\n",
    "\n",
    "- a = mean distance to all other points in **its cluster**\n",
    "- b = mean distance to all other points in **the next nearest cluster**\n",
    "\n",
    "It ranges from -1 (worst) to 1 (best). A **global score** is calculated by taking the mean score for all observations."
   ]
  },
  {
   "cell_type": "markdown",
   "metadata": {},
   "source": [
    "---\n",
    "- The silhouette value is a measure of how similar an object is to its own cluster (cohesion) compared to other clusters (separation).\n",
    "- The silhouette ranges from -1 to 1, where a high value indicates that the object is well matched to its own cluster and poorly matched to neighboring clusters.\n",
    "- If most objects have a high value, then the clustering configuration is appropriate. If many points have a low or negative value, then the clustering configuration may have too many or too few clusters.\n",
    "- The silhouette can be calculated with any distance metric, such as the Euclidean distance or the Manhattan distance."
   ]
  },
  {
   "cell_type": "code",
   "execution_count": 61,
   "metadata": {},
   "outputs": [],
   "source": [
    "from sklearn import metrics"
   ]
  },
  {
   "cell_type": "code",
   "execution_count": 62,
   "metadata": {},
   "outputs": [],
   "source": [
    "# calculate SC for K=1 through K=10\n",
    "k_range = range(2, 10)\n",
    "scores = []\n",
    "for k in k_range:\n",
    "    km = KMeans(n_clusters=k, random_state=7)\n",
    "    km.fit(df_train_scaled_final)\n",
    "    scores.append(metrics.silhouette_score(df_train_scaled_final, km.labels_))"
   ]
  },
  {
   "cell_type": "code",
   "execution_count": 63,
   "metadata": {},
   "outputs": [
    {
     "data": {
      "image/png": "[encoded data removed]",
      "text/plain": [
       "<Figure size 432x288 with 1 Axes>"
      ]
     },
     "metadata": {
      "needs_background": "light"
     },
     "output_type": "display_data"
    }
   ],
   "source": [
    "# plot the results\n",
    "plt.plot(k_range, scores)\n",
    "plt.xlabel('Number of clusters')\n",
    "plt.ylabel('Silhouette Coefficient')\n",
    "plt.grid(True)"
   ]
  },
  {
   "cell_type": "markdown",
   "metadata": {},
   "source": [
    "---"
   ]
  },
  {
   "cell_type": "markdown",
   "metadata": {},
   "source": [
    "Elbow 2"
   ]
  },
  {
   "cell_type": "code",
   "execution_count": 64,
   "metadata": {},
   "outputs": [
    {
     "data": {
      "image/png": "[encoded data removed]",
      "text/plain": [
       "<Figure size 432x288 with 1 Axes>"
      ]
     },
     "metadata": {
      "needs_background": "light"
     },
     "output_type": "display_data"
    }
   ],
   "source": [
    "# Using the elbow method to find the optimal number of clusters\n",
    "from sklearn.cluster import KMeans\n",
    "wcss = []\n",
    "for i in range(1, 11):\n",
    "    kmeans = KMeans(n_clusters = i, random_state = 7)\n",
    "    kmeans.fit(df_train_scaled_final_2)\n",
    "    wcss.append(kmeans.inertia_)\n",
    "plt.plot(range(1, 11), wcss)\n",
    "plt.title('The Elbow Method')\n",
    "plt.xlabel('Number of clusters')\n",
    "plt.ylabel('WCSS')\n",
    "plt.show()"
   ]
  },
  {
   "cell_type": "markdown",
   "metadata": {},
   "source": [
    "Silhouette 2"
   ]
  },
  {
   "cell_type": "code",
   "execution_count": 60,
   "metadata": {},
   "outputs": [
    {
     "data": {
      "image/png": "[encoded data removed]",
      "text/plain": [
       "<Figure size 432x288 with 1 Axes>"
      ]
     },
     "metadata": {
      "needs_background": "light"
     },
     "output_type": "display_data"
    }
   ],
   "source": [
    "# calculate SC for K=1 through K=10\n",
    "k_range = range(2, 10)\n",
    "scores = []\n",
    "for k in k_range:\n",
    "    km = KMeans(n_clusters=k, random_state=7)\n",
    "    km.fit(df_train_scaled_final_2)\n",
    "    scores.append(metrics.silhouette_score(df_train_scaled_final_2, km.labels_))\n",
    "\n",
    "# plot the results\n",
    "plt.plot(k_range, scores)\n",
    "plt.xlabel('Number of clusters')\n",
    "plt.ylabel('Silhouette Coefficient')\n",
    "plt.grid(True)"
   ]
  },
  {
   "cell_type": "markdown",
   "metadata": {},
   "source": [
    "**Conclusion for finding Optimal # Clusters:** <br>\n",
    "From the Elbow method and Silhouette Score Analysis - The both methods gives **2 #Clusters** as Optimum limit"
   ]
  },
  {
   "cell_type": "markdown",
   "metadata": {},
   "source": [
    "**------------------------------------------------------------------------- End of Optimum # Clusters ------------------------------------------------------**"
   ]
  },
  {
   "cell_type": "markdown",
   "metadata": {},
   "source": [
    "## Model Implementation"
   ]
  },
  {
   "cell_type": "markdown",
   "metadata": {},
   "source": [
    "Fitting the Model with Optimum # Clusters"
   ]
  },
  {
   "cell_type": "markdown",
   "metadata": {},
   "source": [
    "- Can fit the model either to scaled array(train_scaled) or to the df(df_train_scaled)"
   ]
  },
  {
   "cell_type": "markdown",
   "metadata": {},
   "source": [
    "For 2 # Clusters"
   ]
  },
  {
   "cell_type": "code",
   "execution_count": 65,
   "metadata": {},
   "outputs": [],
   "source": [
    "kmeans = KMeans(n_clusters = 2, random_state = 7)"
   ]
  },
  {
   "cell_type": "code",
   "execution_count": 66,
   "metadata": {},
   "outputs": [],
   "source": [
    "y_km_2 = kmeans.fit_predict( df_train_scaled )"
   ]
  },
  {
   "cell_type": "markdown",
   "metadata": {},
   "source": [
    "For 3 # Clusters"
   ]
  },
  {
   "cell_type": "code",
   "execution_count": 67,
   "metadata": {},
   "outputs": [],
   "source": [
    "kmeans_3 = KMeans(n_clusters = 3, random_state = 7)"
   ]
  },
  {
   "cell_type": "code",
   "execution_count": 68,
   "metadata": {},
   "outputs": [],
   "source": [
    "y_km_3 = kmeans_3.fit_predict( df_train_scaled )"
   ]
  },
  {
   "cell_type": "code",
   "execution_count": 70,
   "metadata": {},
   "outputs": [],
   "source": [
    "# Applying Kmeans in the Reduced Dataset and Entire Dataset\n",
    "y_f1 = kmeans.fit_predict( df_train_scaled_final)\n",
    "y_f2 = kmeans.fit_predict(df_train_scaled_final_2)"
   ]
  },
  {
   "cell_type": "code",
   "execution_count": 75,
   "metadata": {},
   "outputs": [
    {
     "data": {
      "text/plain": [
       "(Index(['includes_jails', 'prisoner_count'], dtype='object'),\n",
       " Index(['includes_jails', 'prisoner_count', 'violent_crime_total',\n",
       "        'property_crime_total'],\n",
       "       dtype='object'))"
      ]
     },
     "execution_count": 75,
     "metadata": {},
     "output_type": "execute_result"
    }
   ],
   "source": [
    "df_train_scaled_final.columns, df_train_scaled_final_2.columns"
   ]
  },
  {
   "cell_type": "code",
   "execution_count": 77,
   "metadata": {},
   "outputs": [
    {
     "name": "stdout",
     "output_type": "stream",
     "text": [
      "559\n"
     ]
    }
   ],
   "source": [
    "count = 0\n",
    "for i,j,k in zip(y_km_2,y_f1,y_f2):\n",
    "    if i==j and i==k:\n",
    "        count+=1\n",
    "print(count)         #Able to get same prediction with 2#, 4#, all# columns "
   ]
  },
  {
   "cell_type": "code",
   "execution_count": 114,
   "metadata": {},
   "outputs": [
    {
     "name": "stderr",
     "output_type": "stream",
     "text": [
      "C:\\Users\\guru\\Anaconda3\\lib\\site-packages\\ipykernel_launcher.py:1: SettingWithCopyWarning: \n",
      "A value is trying to be set on a copy of a slice from a DataFrame.\n",
      "Try using .loc[row_indexer,col_indexer] = value instead\n",
      "\n",
      "See the caveats in the documentation: http://pandas.pydata.org/pandas-docs/stable/user_guide/indexing.html#returning-a-view-versus-a-copy\n",
      "  \"\"\"Entry point for launching an IPython kernel.\n",
      "C:\\Users\\guru\\Anaconda3\\lib\\site-packages\\ipykernel_launcher.py:2: SettingWithCopyWarning: \n",
      "A value is trying to be set on a copy of a slice from a DataFrame.\n",
      "Try using .loc[row_indexer,col_indexer] = value instead\n",
      "\n",
      "See the caveats in the documentation: http://pandas.pydata.org/pandas-docs/stable/user_guide/indexing.html#returning-a-view-versus-a-copy\n",
      "  \n"
     ]
    }
   ],
   "source": [
    "train['Cluster_2'] = y_km_2\n",
    "train['Cluster_3'] = y_km_3"
   ]
  },
  {
   "cell_type": "code",
   "execution_count": 116,
   "metadata": {},
   "outputs": [
    {
     "data": {
      "text/html": [
       "<div>\n",
       "<style scoped>\n",
       "    .dataframe tbody tr th:only-of-type {\n",
       "        vertical-align: middle;\n",
       "    }\n",
       "\n",
       "    .dataframe tbody tr th {\n",
       "        vertical-align: top;\n",
       "    }\n",
       "\n",
       "    .dataframe thead th {\n",
       "        text-align: right;\n",
       "    }\n",
       "</style>\n",
       "<table border=\"1\" class=\"dataframe\">\n",
       "  <thead>\n",
       "    <tr style=\"text-align: right;\">\n",
       "      <th></th>\n",
       "      <th>includes_jails</th>\n",
       "      <th>prisoner_count</th>\n",
       "      <th>crime_reporting_change</th>\n",
       "      <th>crimes_estimated</th>\n",
       "      <th>state_population</th>\n",
       "      <th>violent_crime_total</th>\n",
       "      <th>murder_manslaughter</th>\n",
       "      <th>rape_revised</th>\n",
       "      <th>robbery</th>\n",
       "      <th>agg_assault</th>\n",
       "      <th>property_crime_total</th>\n",
       "      <th>burglary</th>\n",
       "      <th>larceny</th>\n",
       "      <th>vehicle_theft</th>\n",
       "      <th>Cluster_2</th>\n",
       "      <th>Cluster_3</th>\n",
       "    </tr>\n",
       "  </thead>\n",
       "  <tbody>\n",
       "    <tr>\n",
       "      <td>434</td>\n",
       "      <td>0</td>\n",
       "      <td>4490</td>\n",
       "      <td>0.0</td>\n",
       "      <td>0.0</td>\n",
       "      <td>1796619.0</td>\n",
       "      <td>5199.0</td>\n",
       "      <td>41.0</td>\n",
       "      <td>617.0</td>\n",
       "      <td>1220.0</td>\n",
       "      <td>3321.0</td>\n",
       "      <td>49731.0</td>\n",
       "      <td>8726.0</td>\n",
       "      <td>37496.0</td>\n",
       "      <td>3509.0</td>\n",
       "      <td>0</td>\n",
       "      <td>0</td>\n",
       "    </tr>\n",
       "    <tr>\n",
       "      <td>518</td>\n",
       "      <td>0</td>\n",
       "      <td>100861</td>\n",
       "      <td>0.0</td>\n",
       "      <td>0.0</td>\n",
       "      <td>19082262.0</td>\n",
       "      <td>98198.0</td>\n",
       "      <td>984.0</td>\n",
       "      <td>5273.0</td>\n",
       "      <td>25622.0</td>\n",
       "      <td>66319.0</td>\n",
       "      <td>671200.0</td>\n",
       "      <td>170171.0</td>\n",
       "      <td>461408.0</td>\n",
       "      <td>39621.0</td>\n",
       "      <td>1</td>\n",
       "      <td>2</td>\n",
       "    </tr>\n",
       "    <tr>\n",
       "      <td>48</td>\n",
       "      <td>0</td>\n",
       "      <td>20766</td>\n",
       "      <td>0.0</td>\n",
       "      <td>0.0</td>\n",
       "      <td>5405947.0</td>\n",
       "      <td>12486.0</td>\n",
       "      <td>192.0</td>\n",
       "      <td>1142.0</td>\n",
       "      <td>4444.0</td>\n",
       "      <td>6708.0</td>\n",
       "      <td>166924.0</td>\n",
       "      <td>26927.0</td>\n",
       "      <td>125275.0</td>\n",
       "      <td>14722.0</td>\n",
       "      <td>0</td>\n",
       "      <td>0</td>\n",
       "    </tr>\n",
       "    <tr>\n",
       "      <td>136</td>\n",
       "      <td>0</td>\n",
       "      <td>44350</td>\n",
       "      <td>0.0</td>\n",
       "      <td>0.0</td>\n",
       "      <td>11437680.0</td>\n",
       "      <td>38185.0</td>\n",
       "      <td>526.0</td>\n",
       "      <td>4660.0</td>\n",
       "      <td>16895.0</td>\n",
       "      <td>16104.0</td>\n",
       "      <td>417483.0</td>\n",
       "      <td>95083.0</td>\n",
       "      <td>281383.0</td>\n",
       "      <td>41017.0</td>\n",
       "      <td>0</td>\n",
       "      <td>2</td>\n",
       "    </tr>\n",
       "    <tr>\n",
       "      <td>268</td>\n",
       "      <td>0</td>\n",
       "      <td>24901</td>\n",
       "      <td>0.0</td>\n",
       "      <td>0.0</td>\n",
       "      <td>6313520.0</td>\n",
       "      <td>20303.0</td>\n",
       "      <td>361.0</td>\n",
       "      <td>1811.0</td>\n",
       "      <td>7175.0</td>\n",
       "      <td>10956.0</td>\n",
       "      <td>217783.0</td>\n",
       "      <td>45538.0</td>\n",
       "      <td>150655.0</td>\n",
       "      <td>21590.0</td>\n",
       "      <td>0</td>\n",
       "      <td>0</td>\n",
       "    </tr>\n",
       "  </tbody>\n",
       "</table>\n",
       "</div>"
      ],
      "text/plain": [
       "     includes_jails  prisoner_count  crime_reporting_change  crimes_estimated  \\\n",
       "434               0            4490                     0.0               0.0   \n",
       "518               0          100861                     0.0               0.0   \n",
       "48                0           20766                     0.0               0.0   \n",
       "136               0           44350                     0.0               0.0   \n",
       "268               0           24901                     0.0               0.0   \n",
       "\n",
       "     state_population  violent_crime_total  murder_manslaughter  rape_revised  \\\n",
       "434         1796619.0               5199.0                 41.0         617.0   \n",
       "518        19082262.0              98198.0                984.0        5273.0   \n",
       "48          5405947.0              12486.0                192.0        1142.0   \n",
       "136        11437680.0              38185.0                526.0        4660.0   \n",
       "268         6313520.0              20303.0                361.0        1811.0   \n",
       "\n",
       "     robbery  agg_assault  property_crime_total  burglary   larceny  \\\n",
       "434   1220.0       3321.0               49731.0    8726.0   37496.0   \n",
       "518  25622.0      66319.0              671200.0  170171.0  461408.0   \n",
       "48    4444.0       6708.0              166924.0   26927.0  125275.0   \n",
       "136  16895.0      16104.0              417483.0   95083.0  281383.0   \n",
       "268   7175.0      10956.0              217783.0   45538.0  150655.0   \n",
       "\n",
       "     vehicle_theft  Cluster_2  Cluster_3  \n",
       "434         3509.0          0          0  \n",
       "518        39621.0          1          2  \n",
       "48         14722.0          0          0  \n",
       "136        41017.0          0          2  \n",
       "268        21590.0          0          0  "
      ]
     },
     "execution_count": 116,
     "metadata": {},
     "output_type": "execute_result"
    }
   ],
   "source": [
    "train.head()"
   ]
  },
  {
   "cell_type": "markdown",
   "metadata": {},
   "source": [
    "## Profiling"
   ]
  },
  {
   "cell_type": "markdown",
   "metadata": {},
   "source": [
    "**1 Size**"
   ]
  },
  {
   "cell_type": "code",
   "execution_count": 121,
   "metadata": {},
   "outputs": [],
   "source": [
    "size = pd.concat([pd.Series(train.Cluster_2.size), \n",
    "                  pd.Series.sort_index(train.Cluster_2.value_counts()), \n",
    "                  pd.Series.sort_index(train.Cluster_3.value_counts())])           "
   ]
  },
  {
   "cell_type": "code",
   "execution_count": 123,
   "metadata": {},
   "outputs": [
    {
     "data": {
      "text/html": [
       "<div>\n",
       "<style scoped>\n",
       "    .dataframe tbody tr th:only-of-type {\n",
       "        vertical-align: middle;\n",
       "    }\n",
       "\n",
       "    .dataframe tbody tr th {\n",
       "        vertical-align: top;\n",
       "    }\n",
       "\n",
       "    .dataframe thead th {\n",
       "        text-align: right;\n",
       "    }\n",
       "</style>\n",
       "<table border=\"1\" class=\"dataframe\">\n",
       "  <thead>\n",
       "    <tr style=\"text-align: right;\">\n",
       "      <th></th>\n",
       "      <th>0</th>\n",
       "      <th>0</th>\n",
       "      <th>1</th>\n",
       "      <th>0</th>\n",
       "      <th>1</th>\n",
       "      <th>2</th>\n",
       "    </tr>\n",
       "  </thead>\n",
       "  <tbody>\n",
       "    <tr>\n",
       "      <td>Seg_size</td>\n",
       "      <td>559</td>\n",
       "      <td>521</td>\n",
       "      <td>38</td>\n",
       "      <td>432</td>\n",
       "      <td>31</td>\n",
       "      <td>96</td>\n",
       "    </tr>\n",
       "  </tbody>\n",
       "</table>\n",
       "</div>"
      ],
      "text/plain": [
       "            0    0   1    0   1   2\n",
       "Seg_size  559  521  38  432  31  96"
      ]
     },
     "execution_count": 123,
     "metadata": {},
     "output_type": "execute_result"
    }
   ],
   "source": [
    "Seg_size=pd.DataFrame(size, columns=['Seg_size'])\n",
    "Seg_size.T"
   ]
  },
  {
   "cell_type": "code",
   "execution_count": 128,
   "metadata": {},
   "outputs": [
    {
     "data": {
      "text/html": [
       "<div>\n",
       "<style scoped>\n",
       "    .dataframe tbody tr th:only-of-type {\n",
       "        vertical-align: middle;\n",
       "    }\n",
       "\n",
       "    .dataframe tbody tr th {\n",
       "        vertical-align: top;\n",
       "    }\n",
       "\n",
       "    .dataframe thead th {\n",
       "        text-align: right;\n",
       "    }\n",
       "</style>\n",
       "<table border=\"1\" class=\"dataframe\">\n",
       "  <thead>\n",
       "    <tr style=\"text-align: right;\">\n",
       "      <th></th>\n",
       "      <th>0</th>\n",
       "      <th>0</th>\n",
       "      <th>1</th>\n",
       "      <th>0</th>\n",
       "      <th>1</th>\n",
       "      <th>2</th>\n",
       "    </tr>\n",
       "  </thead>\n",
       "  <tbody>\n",
       "    <tr>\n",
       "      <td>Seg_Pct</td>\n",
       "      <td>1.0</td>\n",
       "      <td>0.932021</td>\n",
       "      <td>0.067979</td>\n",
       "      <td>0.772809</td>\n",
       "      <td>0.055456</td>\n",
       "      <td>0.171735</td>\n",
       "    </tr>\n",
       "  </tbody>\n",
       "</table>\n",
       "</div>"
      ],
      "text/plain": [
       "           0         0         1         0         1         2\n",
       "Seg_Pct  1.0  0.932021  0.067979  0.772809  0.055456  0.171735"
      ]
     },
     "execution_count": 128,
     "metadata": {},
     "output_type": "execute_result"
    }
   ],
   "source": [
    "Seg_Percent = pd.DataFrame(size/train.Cluster_2.size, columns=['Seg_Pct'])\n",
    "Seg_Percent.T"
   ]
  },
  {
   "cell_type": "code",
   "execution_count": 133,
   "metadata": {},
   "outputs": [],
   "source": [
    "P1 = pd.concat([Seg_size.T, Seg_Percent.T], axis=0)"
   ]
  },
  {
   "cell_type": "code",
   "execution_count": 134,
   "metadata": {},
   "outputs": [
    {
     "data": {
      "text/html": [
       "<div>\n",
       "<style scoped>\n",
       "    .dataframe tbody tr th:only-of-type {\n",
       "        vertical-align: middle;\n",
       "    }\n",
       "\n",
       "    .dataframe tbody tr th {\n",
       "        vertical-align: top;\n",
       "    }\n",
       "\n",
       "    .dataframe thead th {\n",
       "        text-align: right;\n",
       "    }\n",
       "</style>\n",
       "<table border=\"1\" class=\"dataframe\">\n",
       "  <thead>\n",
       "    <tr style=\"text-align: right;\">\n",
       "      <th></th>\n",
       "      <th>0</th>\n",
       "      <th>0</th>\n",
       "      <th>1</th>\n",
       "      <th>0</th>\n",
       "      <th>1</th>\n",
       "      <th>2</th>\n",
       "    </tr>\n",
       "  </thead>\n",
       "  <tbody>\n",
       "    <tr>\n",
       "      <td>Seg_size</td>\n",
       "      <td>559.0</td>\n",
       "      <td>521.000000</td>\n",
       "      <td>38.000000</td>\n",
       "      <td>432.000000</td>\n",
       "      <td>31.000000</td>\n",
       "      <td>96.000000</td>\n",
       "    </tr>\n",
       "    <tr>\n",
       "      <td>Seg_Pct</td>\n",
       "      <td>1.0</td>\n",
       "      <td>0.932021</td>\n",
       "      <td>0.067979</td>\n",
       "      <td>0.772809</td>\n",
       "      <td>0.055456</td>\n",
       "      <td>0.171735</td>\n",
       "    </tr>\n",
       "  </tbody>\n",
       "</table>\n",
       "</div>"
      ],
      "text/plain": [
       "              0           0          1           0          1          2\n",
       "Seg_size  559.0  521.000000  38.000000  432.000000  31.000000  96.000000\n",
       "Seg_Pct     1.0    0.932021   0.067979    0.772809   0.055456   0.171735"
      ]
     },
     "execution_count": 134,
     "metadata": {},
     "output_type": "execute_result"
    }
   ],
   "source": [
    "P1"
   ]
  },
  {
   "cell_type": "markdown",
   "metadata": {},
   "source": [
    "---"
   ]
  },
  {
   "cell_type": "markdown",
   "metadata": {},
   "source": [
    "**2 Mean of each Clusters**"
   ]
  },
  {
   "cell_type": "code",
   "execution_count": 130,
   "metadata": {},
   "outputs": [],
   "source": [
    "O_mean = train.apply(lambda x: x.mean()).T"
   ]
  },
  {
   "cell_type": "code",
   "execution_count": 135,
   "metadata": {},
   "outputs": [],
   "source": [
    "P2 = pd.concat([O_mean, \n",
    "           train.groupby('Cluster_2').apply(lambda x: x.mean()).T, \n",
    "           train.groupby('Cluster_3').apply(lambda x: x.mean()).T],\n",
    "         axis=1)"
   ]
  },
  {
   "cell_type": "code",
   "execution_count": 136,
   "metadata": {},
   "outputs": [
    {
     "data": {
      "text/html": [
       "<div>\n",
       "<style scoped>\n",
       "    .dataframe tbody tr th:only-of-type {\n",
       "        vertical-align: middle;\n",
       "    }\n",
       "\n",
       "    .dataframe tbody tr th {\n",
       "        vertical-align: top;\n",
       "    }\n",
       "\n",
       "    .dataframe thead th {\n",
       "        text-align: right;\n",
       "    }\n",
       "</style>\n",
       "<table border=\"1\" class=\"dataframe\">\n",
       "  <thead>\n",
       "    <tr style=\"text-align: right;\">\n",
       "      <th></th>\n",
       "      <th>0</th>\n",
       "      <th>0</th>\n",
       "      <th>1</th>\n",
       "      <th>0</th>\n",
       "      <th>1</th>\n",
       "      <th>2</th>\n",
       "    </tr>\n",
       "  </thead>\n",
       "  <tbody>\n",
       "    <tr>\n",
       "      <td>includes_jails</td>\n",
       "      <td>1.127013e-01</td>\n",
       "      <td>1.209213e-01</td>\n",
       "      <td>0.000000e+00</td>\n",
       "      <td>1.458333e-01</td>\n",
       "      <td>0.000000e+00</td>\n",
       "      <td>0.000000e+00</td>\n",
       "    </tr>\n",
       "    <tr>\n",
       "      <td>prisoner_count</td>\n",
       "      <td>2.588346e+04</td>\n",
       "      <td>1.828801e+04</td>\n",
       "      <td>1.300210e+05</td>\n",
       "      <td>1.294828e+04</td>\n",
       "      <td>1.389051e+05</td>\n",
       "      <td>4.759520e+04</td>\n",
       "    </tr>\n",
       "    <tr>\n",
       "      <td>crime_reporting_change</td>\n",
       "      <td>7.155635e-03</td>\n",
       "      <td>7.677543e-03</td>\n",
       "      <td>0.000000e+00</td>\n",
       "      <td>4.629630e-03</td>\n",
       "      <td>0.000000e+00</td>\n",
       "      <td>2.083333e-02</td>\n",
       "    </tr>\n",
       "    <tr>\n",
       "      <td>crimes_estimated</td>\n",
       "      <td>2.504472e-02</td>\n",
       "      <td>2.687140e-02</td>\n",
       "      <td>0.000000e+00</td>\n",
       "      <td>4.629630e-03</td>\n",
       "      <td>0.000000e+00</td>\n",
       "      <td>1.250000e-01</td>\n",
       "    </tr>\n",
       "    <tr>\n",
       "      <td>state_population</td>\n",
       "      <td>6.265329e+06</td>\n",
       "      <td>4.769644e+06</td>\n",
       "      <td>2.677196e+07</td>\n",
       "      <td>3.407030e+06</td>\n",
       "      <td>2.841762e+07</td>\n",
       "      <td>1.197433e+07</td>\n",
       "    </tr>\n",
       "    <tr>\n",
       "      <td>violent_crime_total</td>\n",
       "      <td>2.721591e+04</td>\n",
       "      <td>1.926695e+04</td>\n",
       "      <td>1.362003e+05</td>\n",
       "      <td>1.295788e+04</td>\n",
       "      <td>1.453541e+05</td>\n",
       "      <td>5.322825e+04</td>\n",
       "    </tr>\n",
       "    <tr>\n",
       "      <td>murder_manslaughter</td>\n",
       "      <td>3.260340e+02</td>\n",
       "      <td>2.435048e+02</td>\n",
       "      <td>1.457553e+03</td>\n",
       "      <td>1.636782e+02</td>\n",
       "      <td>1.560839e+03</td>\n",
       "      <td>6.578958e+02</td>\n",
       "    </tr>\n",
       "    <tr>\n",
       "      <td>rape_revised</td>\n",
       "      <td>1.995946e+03</td>\n",
       "      <td>1.530392e+03</td>\n",
       "      <td>8.378947e+03</td>\n",
       "      <td>1.115458e+03</td>\n",
       "      <td>9.029419e+03</td>\n",
       "      <td>3.686917e+03</td>\n",
       "    </tr>\n",
       "    <tr>\n",
       "      <td>robbery</td>\n",
       "      <td>8.083589e+03</td>\n",
       "      <td>5.629787e+03</td>\n",
       "      <td>4.172650e+04</td>\n",
       "      <td>3.383447e+03</td>\n",
       "      <td>4.501581e+04</td>\n",
       "      <td>1.730820e+04</td>\n",
       "    </tr>\n",
       "    <tr>\n",
       "      <td>agg_assault</td>\n",
       "      <td>1.681034e+04</td>\n",
       "      <td>1.186327e+04</td>\n",
       "      <td>8.463726e+04</td>\n",
       "      <td>8.295294e+03</td>\n",
       "      <td>8.974806e+04</td>\n",
       "      <td>3.157524e+04</td>\n",
       "    </tr>\n",
       "    <tr>\n",
       "      <td>property_crime_total</td>\n",
       "      <td>1.915721e+05</td>\n",
       "      <td>1.418121e+05</td>\n",
       "      <td>8.738088e+05</td>\n",
       "      <td>1.033953e+05</td>\n",
       "      <td>9.421721e+05</td>\n",
       "      <td>3.459867e+05</td>\n",
       "    </tr>\n",
       "    <tr>\n",
       "      <td>burglary</td>\n",
       "      <td>4.155213e+04</td>\n",
       "      <td>3.065762e+04</td>\n",
       "      <td>1.909215e+05</td>\n",
       "      <td>2.181511e+04</td>\n",
       "      <td>2.063055e+05</td>\n",
       "      <td>7.716708e+04</td>\n",
       "    </tr>\n",
       "    <tr>\n",
       "      <td>larceny</td>\n",
       "      <td>1.305071e+05</td>\n",
       "      <td>9.831927e+04</td>\n",
       "      <td>5.718198e+05</td>\n",
       "      <td>7.212945e+04</td>\n",
       "      <td>6.093278e+05</td>\n",
       "      <td>2.385876e+05</td>\n",
       "    </tr>\n",
       "    <tr>\n",
       "      <td>vehicle_theft</td>\n",
       "      <td>1.951285e+04</td>\n",
       "      <td>1.283517e+04</td>\n",
       "      <td>1.110674e+05</td>\n",
       "      <td>9.450706e+03</td>\n",
       "      <td>1.265387e+05</td>\n",
       "      <td>3.023207e+04</td>\n",
       "    </tr>\n",
       "    <tr>\n",
       "      <td>Cluster_2</td>\n",
       "      <td>6.797853e-02</td>\n",
       "      <td>0.000000e+00</td>\n",
       "      <td>1.000000e+00</td>\n",
       "      <td>0.000000e+00</td>\n",
       "      <td>1.000000e+00</td>\n",
       "      <td>7.291667e-02</td>\n",
       "    </tr>\n",
       "    <tr>\n",
       "      <td>Cluster_3</td>\n",
       "      <td>3.989267e-01</td>\n",
       "      <td>3.416507e-01</td>\n",
       "      <td>1.184211e+00</td>\n",
       "      <td>0.000000e+00</td>\n",
       "      <td>1.000000e+00</td>\n",
       "      <td>2.000000e+00</td>\n",
       "    </tr>\n",
       "  </tbody>\n",
       "</table>\n",
       "</div>"
      ],
      "text/plain": [
       "                                   0             0             1  \\\n",
       "includes_jails          1.127013e-01  1.209213e-01  0.000000e+00   \n",
       "prisoner_count          2.588346e+04  1.828801e+04  1.300210e+05   \n",
       "crime_reporting_change  7.155635e-03  7.677543e-03  0.000000e+00   \n",
       "crimes_estimated        2.504472e-02  2.687140e-02  0.000000e+00   \n",
       "state_population        6.265329e+06  4.769644e+06  2.677196e+07   \n",
       "violent_crime_total     2.721591e+04  1.926695e+04  1.362003e+05   \n",
       "murder_manslaughter     3.260340e+02  2.435048e+02  1.457553e+03   \n",
       "rape_revised            1.995946e+03  1.530392e+03  8.378947e+03   \n",
       "robbery                 8.083589e+03  5.629787e+03  4.172650e+04   \n",
       "agg_assault             1.681034e+04  1.186327e+04  8.463726e+04   \n",
       "property_crime_total    1.915721e+05  1.418121e+05  8.738088e+05   \n",
       "burglary                4.155213e+04  3.065762e+04  1.909215e+05   \n",
       "larceny                 1.305071e+05  9.831927e+04  5.718198e+05   \n",
       "vehicle_theft           1.951285e+04  1.283517e+04  1.110674e+05   \n",
       "Cluster_2               6.797853e-02  0.000000e+00  1.000000e+00   \n",
       "Cluster_3               3.989267e-01  3.416507e-01  1.184211e+00   \n",
       "\n",
       "                                   0             1             2  \n",
       "includes_jails          1.458333e-01  0.000000e+00  0.000000e+00  \n",
       "prisoner_count          1.294828e+04  1.389051e+05  4.759520e+04  \n",
       "crime_reporting_change  4.629630e-03  0.000000e+00  2.083333e-02  \n",
       "crimes_estimated        4.629630e-03  0.000000e+00  1.250000e-01  \n",
       "state_population        3.407030e+06  2.841762e+07  1.197433e+07  \n",
       "violent_crime_total     1.295788e+04  1.453541e+05  5.322825e+04  \n",
       "murder_manslaughter     1.636782e+02  1.560839e+03  6.578958e+02  \n",
       "rape_revised            1.115458e+03  9.029419e+03  3.686917e+03  \n",
       "robbery                 3.383447e+03  4.501581e+04  1.730820e+04  \n",
       "agg_assault             8.295294e+03  8.974806e+04  3.157524e+04  \n",
       "property_crime_total    1.033953e+05  9.421721e+05  3.459867e+05  \n",
       "burglary                2.181511e+04  2.063055e+05  7.716708e+04  \n",
       "larceny                 7.212945e+04  6.093278e+05  2.385876e+05  \n",
       "vehicle_theft           9.450706e+03  1.265387e+05  3.023207e+04  \n",
       "Cluster_2               0.000000e+00  1.000000e+00  7.291667e-02  \n",
       "Cluster_3               0.000000e+00  1.000000e+00  2.000000e+00  "
      ]
     },
     "execution_count": 136,
     "metadata": {},
     "output_type": "execute_result"
    }
   ],
   "source": [
    "P2"
   ]
  },
  {
   "cell_type": "code",
   "execution_count": 139,
   "metadata": {},
   "outputs": [],
   "source": [
    "Profiling_output = pd.concat([P1,P2], axis=0)"
   ]
  },
  {
   "cell_type": "code",
   "execution_count": 141,
   "metadata": {},
   "outputs": [],
   "source": [
    "Profiling_output.columns = ['Overall', 'KM2_1', 'KM2_2','KM3_1','KM3_2','KM3_3']"
   ]
  },
  {
   "cell_type": "code",
   "execution_count": 142,
   "metadata": {},
   "outputs": [
    {
     "data": {
      "text/html": [
       "<div>\n",
       "<style scoped>\n",
       "    .dataframe tbody tr th:only-of-type {\n",
       "        vertical-align: middle;\n",
       "    }\n",
       "\n",
       "    .dataframe tbody tr th {\n",
       "        vertical-align: top;\n",
       "    }\n",
       "\n",
       "    .dataframe thead th {\n",
       "        text-align: right;\n",
       "    }\n",
       "</style>\n",
       "<table border=\"1\" class=\"dataframe\">\n",
       "  <thead>\n",
       "    <tr style=\"text-align: right;\">\n",
       "      <th></th>\n",
       "      <th>Overall</th>\n",
       "      <th>KM2_1</th>\n",
       "      <th>KM2_2</th>\n",
       "      <th>KM3_1</th>\n",
       "      <th>KM3_2</th>\n",
       "      <th>KM3_3</th>\n",
       "    </tr>\n",
       "  </thead>\n",
       "  <tbody>\n",
       "    <tr>\n",
       "      <td>Seg_size</td>\n",
       "      <td>5.590000e+02</td>\n",
       "      <td>5.210000e+02</td>\n",
       "      <td>3.800000e+01</td>\n",
       "      <td>4.320000e+02</td>\n",
       "      <td>3.100000e+01</td>\n",
       "      <td>9.600000e+01</td>\n",
       "    </tr>\n",
       "    <tr>\n",
       "      <td>Seg_Pct</td>\n",
       "      <td>1.000000e+00</td>\n",
       "      <td>9.320215e-01</td>\n",
       "      <td>6.797853e-02</td>\n",
       "      <td>7.728086e-01</td>\n",
       "      <td>5.545617e-02</td>\n",
       "      <td>1.717352e-01</td>\n",
       "    </tr>\n",
       "    <tr>\n",
       "      <td>includes_jails</td>\n",
       "      <td>1.127013e-01</td>\n",
       "      <td>1.209213e-01</td>\n",
       "      <td>0.000000e+00</td>\n",
       "      <td>1.458333e-01</td>\n",
       "      <td>0.000000e+00</td>\n",
       "      <td>0.000000e+00</td>\n",
       "    </tr>\n",
       "    <tr>\n",
       "      <td>prisoner_count</td>\n",
       "      <td>2.588346e+04</td>\n",
       "      <td>1.828801e+04</td>\n",
       "      <td>1.300210e+05</td>\n",
       "      <td>1.294828e+04</td>\n",
       "      <td>1.389051e+05</td>\n",
       "      <td>4.759520e+04</td>\n",
       "    </tr>\n",
       "    <tr>\n",
       "      <td>crime_reporting_change</td>\n",
       "      <td>7.155635e-03</td>\n",
       "      <td>7.677543e-03</td>\n",
       "      <td>0.000000e+00</td>\n",
       "      <td>4.629630e-03</td>\n",
       "      <td>0.000000e+00</td>\n",
       "      <td>2.083333e-02</td>\n",
       "    </tr>\n",
       "    <tr>\n",
       "      <td>crimes_estimated</td>\n",
       "      <td>2.504472e-02</td>\n",
       "      <td>2.687140e-02</td>\n",
       "      <td>0.000000e+00</td>\n",
       "      <td>4.629630e-03</td>\n",
       "      <td>0.000000e+00</td>\n",
       "      <td>1.250000e-01</td>\n",
       "    </tr>\n",
       "    <tr>\n",
       "      <td>state_population</td>\n",
       "      <td>6.265329e+06</td>\n",
       "      <td>4.769644e+06</td>\n",
       "      <td>2.677196e+07</td>\n",
       "      <td>3.407030e+06</td>\n",
       "      <td>2.841762e+07</td>\n",
       "      <td>1.197433e+07</td>\n",
       "    </tr>\n",
       "    <tr>\n",
       "      <td>violent_crime_total</td>\n",
       "      <td>2.721591e+04</td>\n",
       "      <td>1.926695e+04</td>\n",
       "      <td>1.362003e+05</td>\n",
       "      <td>1.295788e+04</td>\n",
       "      <td>1.453541e+05</td>\n",
       "      <td>5.322825e+04</td>\n",
       "    </tr>\n",
       "    <tr>\n",
       "      <td>murder_manslaughter</td>\n",
       "      <td>3.260340e+02</td>\n",
       "      <td>2.435048e+02</td>\n",
       "      <td>1.457553e+03</td>\n",
       "      <td>1.636782e+02</td>\n",
       "      <td>1.560839e+03</td>\n",
       "      <td>6.578958e+02</td>\n",
       "    </tr>\n",
       "    <tr>\n",
       "      <td>rape_revised</td>\n",
       "      <td>1.995946e+03</td>\n",
       "      <td>1.530392e+03</td>\n",
       "      <td>8.378947e+03</td>\n",
       "      <td>1.115458e+03</td>\n",
       "      <td>9.029419e+03</td>\n",
       "      <td>3.686917e+03</td>\n",
       "    </tr>\n",
       "    <tr>\n",
       "      <td>robbery</td>\n",
       "      <td>8.083589e+03</td>\n",
       "      <td>5.629787e+03</td>\n",
       "      <td>4.172650e+04</td>\n",
       "      <td>3.383447e+03</td>\n",
       "      <td>4.501581e+04</td>\n",
       "      <td>1.730820e+04</td>\n",
       "    </tr>\n",
       "    <tr>\n",
       "      <td>agg_assault</td>\n",
       "      <td>1.681034e+04</td>\n",
       "      <td>1.186327e+04</td>\n",
       "      <td>8.463726e+04</td>\n",
       "      <td>8.295294e+03</td>\n",
       "      <td>8.974806e+04</td>\n",
       "      <td>3.157524e+04</td>\n",
       "    </tr>\n",
       "    <tr>\n",
       "      <td>property_crime_total</td>\n",
       "      <td>1.915721e+05</td>\n",
       "      <td>1.418121e+05</td>\n",
       "      <td>8.738088e+05</td>\n",
       "      <td>1.033953e+05</td>\n",
       "      <td>9.421721e+05</td>\n",
       "      <td>3.459867e+05</td>\n",
       "    </tr>\n",
       "    <tr>\n",
       "      <td>burglary</td>\n",
       "      <td>4.155213e+04</td>\n",
       "      <td>3.065762e+04</td>\n",
       "      <td>1.909215e+05</td>\n",
       "      <td>2.181511e+04</td>\n",
       "      <td>2.063055e+05</td>\n",
       "      <td>7.716708e+04</td>\n",
       "    </tr>\n",
       "    <tr>\n",
       "      <td>larceny</td>\n",
       "      <td>1.305071e+05</td>\n",
       "      <td>9.831927e+04</td>\n",
       "      <td>5.718198e+05</td>\n",
       "      <td>7.212945e+04</td>\n",
       "      <td>6.093278e+05</td>\n",
       "      <td>2.385876e+05</td>\n",
       "    </tr>\n",
       "    <tr>\n",
       "      <td>vehicle_theft</td>\n",
       "      <td>1.951285e+04</td>\n",
       "      <td>1.283517e+04</td>\n",
       "      <td>1.110674e+05</td>\n",
       "      <td>9.450706e+03</td>\n",
       "      <td>1.265387e+05</td>\n",
       "      <td>3.023207e+04</td>\n",
       "    </tr>\n",
       "    <tr>\n",
       "      <td>Cluster_2</td>\n",
       "      <td>6.797853e-02</td>\n",
       "      <td>0.000000e+00</td>\n",
       "      <td>1.000000e+00</td>\n",
       "      <td>0.000000e+00</td>\n",
       "      <td>1.000000e+00</td>\n",
       "      <td>7.291667e-02</td>\n",
       "    </tr>\n",
       "    <tr>\n",
       "      <td>Cluster_3</td>\n",
       "      <td>3.989267e-01</td>\n",
       "      <td>3.416507e-01</td>\n",
       "      <td>1.184211e+00</td>\n",
       "      <td>0.000000e+00</td>\n",
       "      <td>1.000000e+00</td>\n",
       "      <td>2.000000e+00</td>\n",
       "    </tr>\n",
       "  </tbody>\n",
       "</table>\n",
       "</div>"
      ],
      "text/plain": [
       "                             Overall         KM2_1         KM2_2  \\\n",
       "Seg_size                5.590000e+02  5.210000e+02  3.800000e+01   \n",
       "Seg_Pct                 1.000000e+00  9.320215e-01  6.797853e-02   \n",
       "includes_jails          1.127013e-01  1.209213e-01  0.000000e+00   \n",
       "prisoner_count          2.588346e+04  1.828801e+04  1.300210e+05   \n",
       "crime_reporting_change  7.155635e-03  7.677543e-03  0.000000e+00   \n",
       "crimes_estimated        2.504472e-02  2.687140e-02  0.000000e+00   \n",
       "state_population        6.265329e+06  4.769644e+06  2.677196e+07   \n",
       "violent_crime_total     2.721591e+04  1.926695e+04  1.362003e+05   \n",
       "murder_manslaughter     3.260340e+02  2.435048e+02  1.457553e+03   \n",
       "rape_revised            1.995946e+03  1.530392e+03  8.378947e+03   \n",
       "robbery                 8.083589e+03  5.629787e+03  4.172650e+04   \n",
       "agg_assault             1.681034e+04  1.186327e+04  8.463726e+04   \n",
       "property_crime_total    1.915721e+05  1.418121e+05  8.738088e+05   \n",
       "burglary                4.155213e+04  3.065762e+04  1.909215e+05   \n",
       "larceny                 1.305071e+05  9.831927e+04  5.718198e+05   \n",
       "vehicle_theft           1.951285e+04  1.283517e+04  1.110674e+05   \n",
       "Cluster_2               6.797853e-02  0.000000e+00  1.000000e+00   \n",
       "Cluster_3               3.989267e-01  3.416507e-01  1.184211e+00   \n",
       "\n",
       "                               KM3_1         KM3_2         KM3_3  \n",
       "Seg_size                4.320000e+02  3.100000e+01  9.600000e+01  \n",
       "Seg_Pct                 7.728086e-01  5.545617e-02  1.717352e-01  \n",
       "includes_jails          1.458333e-01  0.000000e+00  0.000000e+00  \n",
       "prisoner_count          1.294828e+04  1.389051e+05  4.759520e+04  \n",
       "crime_reporting_change  4.629630e-03  0.000000e+00  2.083333e-02  \n",
       "crimes_estimated        4.629630e-03  0.000000e+00  1.250000e-01  \n",
       "state_population        3.407030e+06  2.841762e+07  1.197433e+07  \n",
       "violent_crime_total     1.295788e+04  1.453541e+05  5.322825e+04  \n",
       "murder_manslaughter     1.636782e+02  1.560839e+03  6.578958e+02  \n",
       "rape_revised            1.115458e+03  9.029419e+03  3.686917e+03  \n",
       "robbery                 3.383447e+03  4.501581e+04  1.730820e+04  \n",
       "agg_assault             8.295294e+03  8.974806e+04  3.157524e+04  \n",
       "property_crime_total    1.033953e+05  9.421721e+05  3.459867e+05  \n",
       "burglary                2.181511e+04  2.063055e+05  7.716708e+04  \n",
       "larceny                 7.212945e+04  6.093278e+05  2.385876e+05  \n",
       "vehicle_theft           9.450706e+03  1.265387e+05  3.023207e+04  \n",
       "Cluster_2               0.000000e+00  1.000000e+00  7.291667e-02  \n",
       "Cluster_3               0.000000e+00  1.000000e+00  2.000000e+00  "
      ]
     },
     "execution_count": 142,
     "metadata": {},
     "output_type": "execute_result"
    }
   ],
   "source": [
    "Profiling_output"
   ]
  },
  {
   "cell_type": "code",
   "execution_count": 143,
   "metadata": {},
   "outputs": [],
   "source": [
    "Profiling_output.to_excel('F:\\\\Data Science\\\\Alabs Python + ML\\\\Analytixlabs\\\\Machine Learning\\\\Clustering K - Means\\\\Datasets\\\\Profile_output.xlsx')"
   ]
  },
  {
   "attachments": {
    "image.png": {
     "image/png": "[encoded data removed]"
    }
   },
   "cell_type": "markdown",
   "metadata": {},
   "source": [
    "![image.png](attachment:image.png)"
   ]
  },
  {
   "cell_type": "markdown",
   "metadata": {},
   "source": [
    "**Conclusion** <br>\n",
    "From the above profiling report, each clusters are identified with their characteristics."
   ]
  },
  {
   "cell_type": "markdown",
   "metadata": {},
   "source": [
    "## Model Implementation on Test and validation"
   ]
  },
  {
   "cell_type": "markdown",
   "metadata": {},
   "source": [
    "For 2 # Clusters"
   ]
  },
  {
   "cell_type": "code",
   "execution_count": 151,
   "metadata": {},
   "outputs": [
    {
     "data": {
      "text/plain": [
       "Index(['Cluster_2', 'Cluster_3'], dtype='object')"
      ]
     },
     "execution_count": 151,
     "metadata": {},
     "output_type": "execute_result"
    }
   ],
   "source": [
    "train.columns.difference(test.columns)"
   ]
  },
  {
   "cell_type": "code",
   "execution_count": 152,
   "metadata": {},
   "outputs": [],
   "source": [
    "df_test_scaled = pd.DataFrame(test_scaled, columns = test.columns)"
   ]
  },
  {
   "cell_type": "code",
   "execution_count": 156,
   "metadata": {},
   "outputs": [],
   "source": [
    "test_y_km_2 = kmeans.predict( df_test_scaled ) #Predict using the train's fit()"
   ]
  },
  {
   "cell_type": "code",
   "execution_count": 170,
   "metadata": {},
   "outputs": [
    {
     "name": "stderr",
     "output_type": "stream",
     "text": [
      "C:\\Users\\guru\\Anaconda3\\lib\\site-packages\\ipykernel_launcher.py:1: SettingWithCopyWarning: \n",
      "A value is trying to be set on a copy of a slice from a DataFrame.\n",
      "Try using .loc[row_indexer,col_indexer] = value instead\n",
      "\n",
      "See the caveats in the documentation: http://pandas.pydata.org/pandas-docs/stable/user_guide/indexing.html#returning-a-view-versus-a-copy\n",
      "  \"\"\"Entry point for launching an IPython kernel.\n"
     ]
    }
   ],
   "source": [
    "test['Cluster_2'] = test_y_km_2"
   ]
  },
  {
   "cell_type": "markdown",
   "metadata": {},
   "source": [
    "For 3 # Clusters"
   ]
  },
  {
   "cell_type": "code",
   "execution_count": 164,
   "metadata": {},
   "outputs": [],
   "source": [
    "test_y_km_3 = kmeans_3.predict( df_test_scaled ) #Predict using the train's fit()"
   ]
  },
  {
   "cell_type": "code",
   "execution_count": 169,
   "metadata": {},
   "outputs": [
    {
     "name": "stderr",
     "output_type": "stream",
     "text": [
      "C:\\Users\\guru\\Anaconda3\\lib\\site-packages\\ipykernel_launcher.py:1: SettingWithCopyWarning: \n",
      "A value is trying to be set on a copy of a slice from a DataFrame.\n",
      "Try using .loc[row_indexer,col_indexer] = value instead\n",
      "\n",
      "See the caveats in the documentation: http://pandas.pydata.org/pandas-docs/stable/user_guide/indexing.html#returning-a-view-versus-a-copy\n",
      "  \"\"\"Entry point for launching an IPython kernel.\n"
     ]
    }
   ],
   "source": [
    "test['Cluster_3'] = test_y_km_3"
   ]
  },
  {
   "cell_type": "code",
   "execution_count": 175,
   "metadata": {},
   "outputs": [
    {
     "data": {
      "text/html": [
       "<div>\n",
       "<style scoped>\n",
       "    .dataframe tbody tr th:only-of-type {\n",
       "        vertical-align: middle;\n",
       "    }\n",
       "\n",
       "    .dataframe tbody tr th {\n",
       "        vertical-align: top;\n",
       "    }\n",
       "\n",
       "    .dataframe thead th {\n",
       "        text-align: right;\n",
       "    }\n",
       "</style>\n",
       "<table border=\"1\" class=\"dataframe\">\n",
       "  <thead>\n",
       "    <tr style=\"text-align: right;\">\n",
       "      <th></th>\n",
       "      <th>includes_jails</th>\n",
       "      <th>prisoner_count</th>\n",
       "      <th>crime_reporting_change</th>\n",
       "      <th>crimes_estimated</th>\n",
       "      <th>state_population</th>\n",
       "      <th>violent_crime_total</th>\n",
       "      <th>murder_manslaughter</th>\n",
       "      <th>rape_revised</th>\n",
       "      <th>robbery</th>\n",
       "      <th>agg_assault</th>\n",
       "      <th>property_crime_total</th>\n",
       "      <th>burglary</th>\n",
       "      <th>larceny</th>\n",
       "      <th>vehicle_theft</th>\n",
       "      <th>Cluster_3</th>\n",
       "      <th>Cluster_2</th>\n",
       "    </tr>\n",
       "  </thead>\n",
       "  <tbody>\n",
       "    <tr>\n",
       "      <td>747</td>\n",
       "      <td>0</td>\n",
       "      <td>1772</td>\n",
       "      <td>0.0</td>\n",
       "      <td>0.0</td>\n",
       "      <td>756927.0</td>\n",
       "      <td>1812.0</td>\n",
       "      <td>21.0</td>\n",
       "      <td>345.0</td>\n",
       "      <td>148.0</td>\n",
       "      <td>1298.0</td>\n",
       "      <td>16020.0</td>\n",
       "      <td>2997.0</td>\n",
       "      <td>11440.0</td>\n",
       "      <td>1583.0</td>\n",
       "      <td>0</td>\n",
       "      <td>0</td>\n",
       "    </tr>\n",
       "    <tr>\n",
       "      <td>533</td>\n",
       "      <td>0</td>\n",
       "      <td>15390</td>\n",
       "      <td>0.0</td>\n",
       "      <td>0.0</td>\n",
       "      <td>2977457.0</td>\n",
       "      <td>8009.0</td>\n",
       "      <td>232.0</td>\n",
       "      <td>863.0</td>\n",
       "      <td>2496.0</td>\n",
       "      <td>4418.0</td>\n",
       "      <td>89809.0</td>\n",
       "      <td>30722.0</td>\n",
       "      <td>54179.0</td>\n",
       "      <td>4908.0</td>\n",
       "      <td>0</td>\n",
       "      <td>0</td>\n",
       "    </tr>\n",
       "  </tbody>\n",
       "</table>\n",
       "</div>"
      ],
      "text/plain": [
       "     includes_jails  prisoner_count  crime_reporting_change  crimes_estimated  \\\n",
       "747               0            1772                     0.0               0.0   \n",
       "533               0           15390                     0.0               0.0   \n",
       "\n",
       "     state_population  violent_crime_total  murder_manslaughter  rape_revised  \\\n",
       "747          756927.0               1812.0                 21.0         345.0   \n",
       "533         2977457.0               8009.0                232.0         863.0   \n",
       "\n",
       "     robbery  agg_assault  property_crime_total  burglary  larceny  \\\n",
       "747    148.0       1298.0               16020.0    2997.0  11440.0   \n",
       "533   2496.0       4418.0               89809.0   30722.0  54179.0   \n",
       "\n",
       "     vehicle_theft  Cluster_3  Cluster_2  \n",
       "747         1583.0          0          0  \n",
       "533         4908.0          0          0  "
      ]
     },
     "execution_count": 175,
     "metadata": {},
     "output_type": "execute_result"
    }
   ],
   "source": [
    "test.head(2)"
   ]
  },
  {
   "cell_type": "markdown",
   "metadata": {},
   "source": [
    "**Profiling for the test**"
   ]
  },
  {
   "cell_type": "code",
   "execution_count": 176,
   "metadata": {},
   "outputs": [],
   "source": [
    "size = pd.concat([pd.Series(test.Cluster_2.size), \n",
    "                  pd.Series.sort_index(test.Cluster_2.value_counts()), \n",
    "                  pd.Series.sort_index(test.Cluster_3.value_counts())])           "
   ]
  },
  {
   "cell_type": "code",
   "execution_count": 177,
   "metadata": {},
   "outputs": [
    {
     "data": {
      "text/html": [
       "<div>\n",
       "<style scoped>\n",
       "    .dataframe tbody tr th:only-of-type {\n",
       "        vertical-align: middle;\n",
       "    }\n",
       "\n",
       "    .dataframe tbody tr th {\n",
       "        vertical-align: top;\n",
       "    }\n",
       "\n",
       "    .dataframe thead th {\n",
       "        text-align: right;\n",
       "    }\n",
       "</style>\n",
       "<table border=\"1\" class=\"dataframe\">\n",
       "  <thead>\n",
       "    <tr style=\"text-align: right;\">\n",
       "      <th></th>\n",
       "      <th>0</th>\n",
       "      <th>0</th>\n",
       "      <th>1</th>\n",
       "      <th>0</th>\n",
       "      <th>1</th>\n",
       "      <th>2</th>\n",
       "    </tr>\n",
       "  </thead>\n",
       "  <tbody>\n",
       "    <tr>\n",
       "      <td>Seg_size</td>\n",
       "      <td>240</td>\n",
       "      <td>228</td>\n",
       "      <td>12</td>\n",
       "      <td>192</td>\n",
       "      <td>11</td>\n",
       "      <td>37</td>\n",
       "    </tr>\n",
       "  </tbody>\n",
       "</table>\n",
       "</div>"
      ],
      "text/plain": [
       "            0    0   1    0   1   2\n",
       "Seg_size  240  228  12  192  11  37"
      ]
     },
     "execution_count": 177,
     "metadata": {},
     "output_type": "execute_result"
    }
   ],
   "source": [
    "Seg_size=pd.DataFrame(size, columns=['Seg_size'])\n",
    "Seg_size.T"
   ]
  },
  {
   "cell_type": "code",
   "execution_count": 178,
   "metadata": {},
   "outputs": [
    {
     "data": {
      "text/html": [
       "<div>\n",
       "<style scoped>\n",
       "    .dataframe tbody tr th:only-of-type {\n",
       "        vertical-align: middle;\n",
       "    }\n",
       "\n",
       "    .dataframe tbody tr th {\n",
       "        vertical-align: top;\n",
       "    }\n",
       "\n",
       "    .dataframe thead th {\n",
       "        text-align: right;\n",
       "    }\n",
       "</style>\n",
       "<table border=\"1\" class=\"dataframe\">\n",
       "  <thead>\n",
       "    <tr style=\"text-align: right;\">\n",
       "      <th></th>\n",
       "      <th>0</th>\n",
       "      <th>0</th>\n",
       "      <th>1</th>\n",
       "      <th>0</th>\n",
       "      <th>1</th>\n",
       "      <th>2</th>\n",
       "    </tr>\n",
       "  </thead>\n",
       "  <tbody>\n",
       "    <tr>\n",
       "      <td>Seg_Pct</td>\n",
       "      <td>1.0</td>\n",
       "      <td>0.95</td>\n",
       "      <td>0.05</td>\n",
       "      <td>0.8</td>\n",
       "      <td>0.045833</td>\n",
       "      <td>0.154167</td>\n",
       "    </tr>\n",
       "  </tbody>\n",
       "</table>\n",
       "</div>"
      ],
      "text/plain": [
       "           0     0     1    0         1         2\n",
       "Seg_Pct  1.0  0.95  0.05  0.8  0.045833  0.154167"
      ]
     },
     "execution_count": 178,
     "metadata": {},
     "output_type": "execute_result"
    }
   ],
   "source": [
    "Seg_Percent = pd.DataFrame(size/test.Cluster_2.size, columns=['Seg_Pct'])\n",
    "Seg_Percent.T"
   ]
  },
  {
   "cell_type": "code",
   "execution_count": 179,
   "metadata": {},
   "outputs": [],
   "source": [
    "P1 = pd.concat([Seg_size.T, Seg_Percent.T], axis=0)"
   ]
  },
  {
   "cell_type": "code",
   "execution_count": 180,
   "metadata": {},
   "outputs": [
    {
     "data": {
      "text/html": [
       "<div>\n",
       "<style scoped>\n",
       "    .dataframe tbody tr th:only-of-type {\n",
       "        vertical-align: middle;\n",
       "    }\n",
       "\n",
       "    .dataframe tbody tr th {\n",
       "        vertical-align: top;\n",
       "    }\n",
       "\n",
       "    .dataframe thead th {\n",
       "        text-align: right;\n",
       "    }\n",
       "</style>\n",
       "<table border=\"1\" class=\"dataframe\">\n",
       "  <thead>\n",
       "    <tr style=\"text-align: right;\">\n",
       "      <th></th>\n",
       "      <th>0</th>\n",
       "      <th>0</th>\n",
       "      <th>1</th>\n",
       "      <th>0</th>\n",
       "      <th>1</th>\n",
       "      <th>2</th>\n",
       "    </tr>\n",
       "  </thead>\n",
       "  <tbody>\n",
       "    <tr>\n",
       "      <td>Seg_size</td>\n",
       "      <td>240.0</td>\n",
       "      <td>228.00</td>\n",
       "      <td>12.00</td>\n",
       "      <td>192.0</td>\n",
       "      <td>11.000000</td>\n",
       "      <td>37.000000</td>\n",
       "    </tr>\n",
       "    <tr>\n",
       "      <td>Seg_Pct</td>\n",
       "      <td>1.0</td>\n",
       "      <td>0.95</td>\n",
       "      <td>0.05</td>\n",
       "      <td>0.8</td>\n",
       "      <td>0.045833</td>\n",
       "      <td>0.154167</td>\n",
       "    </tr>\n",
       "  </tbody>\n",
       "</table>\n",
       "</div>"
      ],
      "text/plain": [
       "              0       0      1      0          1          2\n",
       "Seg_size  240.0  228.00  12.00  192.0  11.000000  37.000000\n",
       "Seg_Pct     1.0    0.95   0.05    0.8   0.045833   0.154167"
      ]
     },
     "execution_count": 180,
     "metadata": {},
     "output_type": "execute_result"
    }
   ],
   "source": [
    "P1"
   ]
  },
  {
   "cell_type": "markdown",
   "metadata": {},
   "source": [
    "---"
   ]
  },
  {
   "cell_type": "markdown",
   "metadata": {},
   "source": [
    "**2 Mean of each Clusters**"
   ]
  },
  {
   "cell_type": "code",
   "execution_count": 181,
   "metadata": {},
   "outputs": [],
   "source": [
    "O_mean = test.apply(lambda x: x.mean()).T"
   ]
  },
  {
   "cell_type": "code",
   "execution_count": 182,
   "metadata": {},
   "outputs": [],
   "source": [
    "P2 = pd.concat([O_mean, \n",
    "           test.groupby('Cluster_2').apply(lambda x: x.mean()).T, \n",
    "           test.groupby('Cluster_3').apply(lambda x: x.mean()).T],\n",
    "         axis=1)"
   ]
  },
  {
   "cell_type": "code",
   "execution_count": 183,
   "metadata": {},
   "outputs": [
    {
     "data": {
      "text/html": [
       "<div>\n",
       "<style scoped>\n",
       "    .dataframe tbody tr th:only-of-type {\n",
       "        vertical-align: middle;\n",
       "    }\n",
       "\n",
       "    .dataframe tbody tr th {\n",
       "        vertical-align: top;\n",
       "    }\n",
       "\n",
       "    .dataframe thead th {\n",
       "        text-align: right;\n",
       "    }\n",
       "</style>\n",
       "<table border=\"1\" class=\"dataframe\">\n",
       "  <thead>\n",
       "    <tr style=\"text-align: right;\">\n",
       "      <th></th>\n",
       "      <th>0</th>\n",
       "      <th>0</th>\n",
       "      <th>1</th>\n",
       "      <th>0</th>\n",
       "      <th>1</th>\n",
       "      <th>2</th>\n",
       "    </tr>\n",
       "  </thead>\n",
       "  <tbody>\n",
       "    <tr>\n",
       "      <td>includes_jails</td>\n",
       "      <td>1.375000e-01</td>\n",
       "      <td>1.447368e-01</td>\n",
       "      <td>0.000000e+00</td>\n",
       "      <td>1.718750e-01</td>\n",
       "      <td>0.000000e+00</td>\n",
       "      <td>0.000000e+00</td>\n",
       "    </tr>\n",
       "    <tr>\n",
       "      <td>prisoner_count</td>\n",
       "      <td>2.393016e+04</td>\n",
       "      <td>1.802086e+04</td>\n",
       "      <td>1.362070e+05</td>\n",
       "      <td>1.280314e+04</td>\n",
       "      <td>1.394131e+05</td>\n",
       "      <td>4.733762e+04</td>\n",
       "    </tr>\n",
       "    <tr>\n",
       "      <td>crime_reporting_change</td>\n",
       "      <td>0.000000e+00</td>\n",
       "      <td>0.000000e+00</td>\n",
       "      <td>0.000000e+00</td>\n",
       "      <td>0.000000e+00</td>\n",
       "      <td>0.000000e+00</td>\n",
       "      <td>0.000000e+00</td>\n",
       "    </tr>\n",
       "    <tr>\n",
       "      <td>crimes_estimated</td>\n",
       "      <td>1.250000e-02</td>\n",
       "      <td>1.315789e-02</td>\n",
       "      <td>0.000000e+00</td>\n",
       "      <td>5.208333e-03</td>\n",
       "      <td>0.000000e+00</td>\n",
       "      <td>5.405405e-02</td>\n",
       "    </tr>\n",
       "    <tr>\n",
       "      <td>state_population</td>\n",
       "      <td>5.622778e+06</td>\n",
       "      <td>4.592504e+06</td>\n",
       "      <td>2.519798e+07</td>\n",
       "      <td>3.446780e+06</td>\n",
       "      <td>2.570686e+07</td>\n",
       "      <td>1.094350e+07</td>\n",
       "    </tr>\n",
       "    <tr>\n",
       "      <td>violent_crime_total</td>\n",
       "      <td>2.392853e+04</td>\n",
       "      <td>1.821554e+04</td>\n",
       "      <td>1.324752e+05</td>\n",
       "      <td>1.321479e+04</td>\n",
       "      <td>1.361554e+05</td>\n",
       "      <td>4.615938e+04</td>\n",
       "    </tr>\n",
       "    <tr>\n",
       "      <td>murder_manslaughter</td>\n",
       "      <td>2.849792e+02</td>\n",
       "      <td>2.243114e+02</td>\n",
       "      <td>1.437667e+03</td>\n",
       "      <td>1.554062e+02</td>\n",
       "      <td>1.480000e+03</td>\n",
       "      <td>6.020811e+02</td>\n",
       "    </tr>\n",
       "    <tr>\n",
       "      <td>rape_revised</td>\n",
       "      <td>1.881808e+03</td>\n",
       "      <td>1.562794e+03</td>\n",
       "      <td>7.943083e+03</td>\n",
       "      <td>1.206490e+03</td>\n",
       "      <td>8.050000e+03</td>\n",
       "      <td>3.552378e+03</td>\n",
       "    </tr>\n",
       "    <tr>\n",
       "      <td>robbery</td>\n",
       "      <td>6.795988e+03</td>\n",
       "      <td>5.067697e+03</td>\n",
       "      <td>3.963350e+04</td>\n",
       "      <td>3.305932e+03</td>\n",
       "      <td>4.112745e+04</td>\n",
       "      <td>1.469989e+04</td>\n",
       "    </tr>\n",
       "    <tr>\n",
       "      <td>agg_assault</td>\n",
       "      <td>1.496575e+04</td>\n",
       "      <td>1.136074e+04</td>\n",
       "      <td>8.346092e+04</td>\n",
       "      <td>8.546964e+03</td>\n",
       "      <td>8.549791e+04</td>\n",
       "      <td>2.730503e+04</td>\n",
       "    </tr>\n",
       "    <tr>\n",
       "      <td>property_crime_total</td>\n",
       "      <td>1.790161e+05</td>\n",
       "      <td>1.404420e+05</td>\n",
       "      <td>9.119233e+05</td>\n",
       "      <td>1.054491e+05</td>\n",
       "      <td>9.396282e+05</td>\n",
       "      <td>3.346412e+05</td>\n",
       "    </tr>\n",
       "    <tr>\n",
       "      <td>burglary</td>\n",
       "      <td>3.928257e+04</td>\n",
       "      <td>3.058330e+04</td>\n",
       "      <td>2.045688e+05</td>\n",
       "      <td>2.231946e+04</td>\n",
       "      <td>2.105374e+05</td>\n",
       "      <td>7.639381e+04</td>\n",
       "    </tr>\n",
       "    <tr>\n",
       "      <td>larceny</td>\n",
       "      <td>1.218684e+05</td>\n",
       "      <td>9.663904e+04</td>\n",
       "      <td>6.012270e+05</td>\n",
       "      <td>7.325991e+04</td>\n",
       "      <td>6.164891e+05</td>\n",
       "      <td>2.270579e+05</td>\n",
       "    </tr>\n",
       "    <tr>\n",
       "      <td>vehicle_theft</td>\n",
       "      <td>1.786509e+04</td>\n",
       "      <td>1.321970e+04</td>\n",
       "      <td>1.061275e+05</td>\n",
       "      <td>9.869760e+03</td>\n",
       "      <td>1.126017e+05</td>\n",
       "      <td>3.118943e+04</td>\n",
       "    </tr>\n",
       "    <tr>\n",
       "      <td>Cluster_3</td>\n",
       "      <td>3.541667e-01</td>\n",
       "      <td>3.157895e-01</td>\n",
       "      <td>1.083333e+00</td>\n",
       "      <td>0.000000e+00</td>\n",
       "      <td>1.000000e+00</td>\n",
       "      <td>2.000000e+00</td>\n",
       "    </tr>\n",
       "    <tr>\n",
       "      <td>Cluster_2</td>\n",
       "      <td>5.000000e-02</td>\n",
       "      <td>0.000000e+00</td>\n",
       "      <td>1.000000e+00</td>\n",
       "      <td>0.000000e+00</td>\n",
       "      <td>1.000000e+00</td>\n",
       "      <td>2.702703e-02</td>\n",
       "    </tr>\n",
       "  </tbody>\n",
       "</table>\n",
       "</div>"
      ],
      "text/plain": [
       "                                   0             0             1  \\\n",
       "includes_jails          1.375000e-01  1.447368e-01  0.000000e+00   \n",
       "prisoner_count          2.393016e+04  1.802086e+04  1.362070e+05   \n",
       "crime_reporting_change  0.000000e+00  0.000000e+00  0.000000e+00   \n",
       "crimes_estimated        1.250000e-02  1.315789e-02  0.000000e+00   \n",
       "state_population        5.622778e+06  4.592504e+06  2.519798e+07   \n",
       "violent_crime_total     2.392853e+04  1.821554e+04  1.324752e+05   \n",
       "murder_manslaughter     2.849792e+02  2.243114e+02  1.437667e+03   \n",
       "rape_revised            1.881808e+03  1.562794e+03  7.943083e+03   \n",
       "robbery                 6.795988e+03  5.067697e+03  3.963350e+04   \n",
       "agg_assault             1.496575e+04  1.136074e+04  8.346092e+04   \n",
       "property_crime_total    1.790161e+05  1.404420e+05  9.119233e+05   \n",
       "burglary                3.928257e+04  3.058330e+04  2.045688e+05   \n",
       "larceny                 1.218684e+05  9.663904e+04  6.012270e+05   \n",
       "vehicle_theft           1.786509e+04  1.321970e+04  1.061275e+05   \n",
       "Cluster_3               3.541667e-01  3.157895e-01  1.083333e+00   \n",
       "Cluster_2               5.000000e-02  0.000000e+00  1.000000e+00   \n",
       "\n",
       "                                   0             1             2  \n",
       "includes_jails          1.718750e-01  0.000000e+00  0.000000e+00  \n",
       "prisoner_count          1.280314e+04  1.394131e+05  4.733762e+04  \n",
       "crime_reporting_change  0.000000e+00  0.000000e+00  0.000000e+00  \n",
       "crimes_estimated        5.208333e-03  0.000000e+00  5.405405e-02  \n",
       "state_population        3.446780e+06  2.570686e+07  1.094350e+07  \n",
       "violent_crime_total     1.321479e+04  1.361554e+05  4.615938e+04  \n",
       "murder_manslaughter     1.554062e+02  1.480000e+03  6.020811e+02  \n",
       "rape_revised            1.206490e+03  8.050000e+03  3.552378e+03  \n",
       "robbery                 3.305932e+03  4.112745e+04  1.469989e+04  \n",
       "agg_assault             8.546964e+03  8.549791e+04  2.730503e+04  \n",
       "property_crime_total    1.054491e+05  9.396282e+05  3.346412e+05  \n",
       "burglary                2.231946e+04  2.105374e+05  7.639381e+04  \n",
       "larceny                 7.325991e+04  6.164891e+05  2.270579e+05  \n",
       "vehicle_theft           9.869760e+03  1.126017e+05  3.118943e+04  \n",
       "Cluster_3               0.000000e+00  1.000000e+00  2.000000e+00  \n",
       "Cluster_2               0.000000e+00  1.000000e+00  2.702703e-02  "
      ]
     },
     "execution_count": 183,
     "metadata": {},
     "output_type": "execute_result"
    }
   ],
   "source": [
    "P2"
   ]
  },
  {
   "cell_type": "code",
   "execution_count": 184,
   "metadata": {},
   "outputs": [],
   "source": [
    "Profiling_output = pd.concat([P1,P2], axis=0)"
   ]
  },
  {
   "cell_type": "code",
   "execution_count": 185,
   "metadata": {},
   "outputs": [],
   "source": [
    "Profiling_output.columns = ['Overall', 'KM2_1', 'KM2_2','KM3_1','KM3_2','KM3_3']"
   ]
  },
  {
   "cell_type": "code",
   "execution_count": 186,
   "metadata": {
    "scrolled": true
   },
   "outputs": [
    {
     "data": {
      "text/html": [
       "<div>\n",
       "<style scoped>\n",
       "    .dataframe tbody tr th:only-of-type {\n",
       "        vertical-align: middle;\n",
       "    }\n",
       "\n",
       "    .dataframe tbody tr th {\n",
       "        vertical-align: top;\n",
       "    }\n",
       "\n",
       "    .dataframe thead th {\n",
       "        text-align: right;\n",
       "    }\n",
       "</style>\n",
       "<table border=\"1\" class=\"dataframe\">\n",
       "  <thead>\n",
       "    <tr style=\"text-align: right;\">\n",
       "      <th></th>\n",
       "      <th>Overall</th>\n",
       "      <th>KM2_1</th>\n",
       "      <th>KM2_2</th>\n",
       "      <th>KM3_1</th>\n",
       "      <th>KM3_2</th>\n",
       "      <th>KM3_3</th>\n",
       "    </tr>\n",
       "  </thead>\n",
       "  <tbody>\n",
       "    <tr>\n",
       "      <td>Seg_size</td>\n",
       "      <td>2.400000e+02</td>\n",
       "      <td>2.280000e+02</td>\n",
       "      <td>1.200000e+01</td>\n",
       "      <td>1.920000e+02</td>\n",
       "      <td>1.100000e+01</td>\n",
       "      <td>3.700000e+01</td>\n",
       "    </tr>\n",
       "    <tr>\n",
       "      <td>Seg_Pct</td>\n",
       "      <td>1.000000e+00</td>\n",
       "      <td>9.500000e-01</td>\n",
       "      <td>5.000000e-02</td>\n",
       "      <td>8.000000e-01</td>\n",
       "      <td>4.583333e-02</td>\n",
       "      <td>1.541667e-01</td>\n",
       "    </tr>\n",
       "    <tr>\n",
       "      <td>includes_jails</td>\n",
       "      <td>1.375000e-01</td>\n",
       "      <td>1.447368e-01</td>\n",
       "      <td>0.000000e+00</td>\n",
       "      <td>1.718750e-01</td>\n",
       "      <td>0.000000e+00</td>\n",
       "      <td>0.000000e+00</td>\n",
       "    </tr>\n",
       "    <tr>\n",
       "      <td>prisoner_count</td>\n",
       "      <td>2.393016e+04</td>\n",
       "      <td>1.802086e+04</td>\n",
       "      <td>1.362070e+05</td>\n",
       "      <td>1.280314e+04</td>\n",
       "      <td>1.394131e+05</td>\n",
       "      <td>4.733762e+04</td>\n",
       "    </tr>\n",
       "    <tr>\n",
       "      <td>crime_reporting_change</td>\n",
       "      <td>0.000000e+00</td>\n",
       "      <td>0.000000e+00</td>\n",
       "      <td>0.000000e+00</td>\n",
       "      <td>0.000000e+00</td>\n",
       "      <td>0.000000e+00</td>\n",
       "      <td>0.000000e+00</td>\n",
       "    </tr>\n",
       "    <tr>\n",
       "      <td>crimes_estimated</td>\n",
       "      <td>1.250000e-02</td>\n",
       "      <td>1.315789e-02</td>\n",
       "      <td>0.000000e+00</td>\n",
       "      <td>5.208333e-03</td>\n",
       "      <td>0.000000e+00</td>\n",
       "      <td>5.405405e-02</td>\n",
       "    </tr>\n",
       "    <tr>\n",
       "      <td>state_population</td>\n",
       "      <td>5.622778e+06</td>\n",
       "      <td>4.592504e+06</td>\n",
       "      <td>2.519798e+07</td>\n",
       "      <td>3.446780e+06</td>\n",
       "      <td>2.570686e+07</td>\n",
       "      <td>1.094350e+07</td>\n",
       "    </tr>\n",
       "    <tr>\n",
       "      <td>violent_crime_total</td>\n",
       "      <td>2.392853e+04</td>\n",
       "      <td>1.821554e+04</td>\n",
       "      <td>1.324752e+05</td>\n",
       "      <td>1.321479e+04</td>\n",
       "      <td>1.361554e+05</td>\n",
       "      <td>4.615938e+04</td>\n",
       "    </tr>\n",
       "    <tr>\n",
       "      <td>murder_manslaughter</td>\n",
       "      <td>2.849792e+02</td>\n",
       "      <td>2.243114e+02</td>\n",
       "      <td>1.437667e+03</td>\n",
       "      <td>1.554062e+02</td>\n",
       "      <td>1.480000e+03</td>\n",
       "      <td>6.020811e+02</td>\n",
       "    </tr>\n",
       "    <tr>\n",
       "      <td>rape_revised</td>\n",
       "      <td>1.881808e+03</td>\n",
       "      <td>1.562794e+03</td>\n",
       "      <td>7.943083e+03</td>\n",
       "      <td>1.206490e+03</td>\n",
       "      <td>8.050000e+03</td>\n",
       "      <td>3.552378e+03</td>\n",
       "    </tr>\n",
       "    <tr>\n",
       "      <td>robbery</td>\n",
       "      <td>6.795988e+03</td>\n",
       "      <td>5.067697e+03</td>\n",
       "      <td>3.963350e+04</td>\n",
       "      <td>3.305932e+03</td>\n",
       "      <td>4.112745e+04</td>\n",
       "      <td>1.469989e+04</td>\n",
       "    </tr>\n",
       "    <tr>\n",
       "      <td>agg_assault</td>\n",
       "      <td>1.496575e+04</td>\n",
       "      <td>1.136074e+04</td>\n",
       "      <td>8.346092e+04</td>\n",
       "      <td>8.546964e+03</td>\n",
       "      <td>8.549791e+04</td>\n",
       "      <td>2.730503e+04</td>\n",
       "    </tr>\n",
       "    <tr>\n",
       "      <td>property_crime_total</td>\n",
       "      <td>1.790161e+05</td>\n",
       "      <td>1.404420e+05</td>\n",
       "      <td>9.119233e+05</td>\n",
       "      <td>1.054491e+05</td>\n",
       "      <td>9.396282e+05</td>\n",
       "      <td>3.346412e+05</td>\n",
       "    </tr>\n",
       "    <tr>\n",
       "      <td>burglary</td>\n",
       "      <td>3.928257e+04</td>\n",
       "      <td>3.058330e+04</td>\n",
       "      <td>2.045688e+05</td>\n",
       "      <td>2.231946e+04</td>\n",
       "      <td>2.105374e+05</td>\n",
       "      <td>7.639381e+04</td>\n",
       "    </tr>\n",
       "    <tr>\n",
       "      <td>larceny</td>\n",
       "      <td>1.218684e+05</td>\n",
       "      <td>9.663904e+04</td>\n",
       "      <td>6.012270e+05</td>\n",
       "      <td>7.325991e+04</td>\n",
       "      <td>6.164891e+05</td>\n",
       "      <td>2.270579e+05</td>\n",
       "    </tr>\n",
       "    <tr>\n",
       "      <td>vehicle_theft</td>\n",
       "      <td>1.786509e+04</td>\n",
       "      <td>1.321970e+04</td>\n",
       "      <td>1.061275e+05</td>\n",
       "      <td>9.869760e+03</td>\n",
       "      <td>1.126017e+05</td>\n",
       "      <td>3.118943e+04</td>\n",
       "    </tr>\n",
       "    <tr>\n",
       "      <td>Cluster_3</td>\n",
       "      <td>3.541667e-01</td>\n",
       "      <td>3.157895e-01</td>\n",
       "      <td>1.083333e+00</td>\n",
       "      <td>0.000000e+00</td>\n",
       "      <td>1.000000e+00</td>\n",
       "      <td>2.000000e+00</td>\n",
       "    </tr>\n",
       "    <tr>\n",
       "      <td>Cluster_2</td>\n",
       "      <td>5.000000e-02</td>\n",
       "      <td>0.000000e+00</td>\n",
       "      <td>1.000000e+00</td>\n",
       "      <td>0.000000e+00</td>\n",
       "      <td>1.000000e+00</td>\n",
       "      <td>2.702703e-02</td>\n",
       "    </tr>\n",
       "  </tbody>\n",
       "</table>\n",
       "</div>"
      ],
      "text/plain": [
       "                             Overall         KM2_1         KM2_2  \\\n",
       "Seg_size                2.400000e+02  2.280000e+02  1.200000e+01   \n",
       "Seg_Pct                 1.000000e+00  9.500000e-01  5.000000e-02   \n",
       "includes_jails          1.375000e-01  1.447368e-01  0.000000e+00   \n",
       "prisoner_count          2.393016e+04  1.802086e+04  1.362070e+05   \n",
       "crime_reporting_change  0.000000e+00  0.000000e+00  0.000000e+00   \n",
       "crimes_estimated        1.250000e-02  1.315789e-02  0.000000e+00   \n",
       "state_population        5.622778e+06  4.592504e+06  2.519798e+07   \n",
       "violent_crime_total     2.392853e+04  1.821554e+04  1.324752e+05   \n",
       "murder_manslaughter     2.849792e+02  2.243114e+02  1.437667e+03   \n",
       "rape_revised            1.881808e+03  1.562794e+03  7.943083e+03   \n",
       "robbery                 6.795988e+03  5.067697e+03  3.963350e+04   \n",
       "agg_assault             1.496575e+04  1.136074e+04  8.346092e+04   \n",
       "property_crime_total    1.790161e+05  1.404420e+05  9.119233e+05   \n",
       "burglary                3.928257e+04  3.058330e+04  2.045688e+05   \n",
       "larceny                 1.218684e+05  9.663904e+04  6.012270e+05   \n",
       "vehicle_theft           1.786509e+04  1.321970e+04  1.061275e+05   \n",
       "Cluster_3               3.541667e-01  3.157895e-01  1.083333e+00   \n",
       "Cluster_2               5.000000e-02  0.000000e+00  1.000000e+00   \n",
       "\n",
       "                               KM3_1         KM3_2         KM3_3  \n",
       "Seg_size                1.920000e+02  1.100000e+01  3.700000e+01  \n",
       "Seg_Pct                 8.000000e-01  4.583333e-02  1.541667e-01  \n",
       "includes_jails          1.718750e-01  0.000000e+00  0.000000e+00  \n",
       "prisoner_count          1.280314e+04  1.394131e+05  4.733762e+04  \n",
       "crime_reporting_change  0.000000e+00  0.000000e+00  0.000000e+00  \n",
       "crimes_estimated        5.208333e-03  0.000000e+00  5.405405e-02  \n",
       "state_population        3.446780e+06  2.570686e+07  1.094350e+07  \n",
       "violent_crime_total     1.321479e+04  1.361554e+05  4.615938e+04  \n",
       "murder_manslaughter     1.554062e+02  1.480000e+03  6.020811e+02  \n",
       "rape_revised            1.206490e+03  8.050000e+03  3.552378e+03  \n",
       "robbery                 3.305932e+03  4.112745e+04  1.469989e+04  \n",
       "agg_assault             8.546964e+03  8.549791e+04  2.730503e+04  \n",
       "property_crime_total    1.054491e+05  9.396282e+05  3.346412e+05  \n",
       "burglary                2.231946e+04  2.105374e+05  7.639381e+04  \n",
       "larceny                 7.325991e+04  6.164891e+05  2.270579e+05  \n",
       "vehicle_theft           9.869760e+03  1.126017e+05  3.118943e+04  \n",
       "Cluster_3               0.000000e+00  1.000000e+00  2.000000e+00  \n",
       "Cluster_2               0.000000e+00  1.000000e+00  2.702703e-02  "
      ]
     },
     "execution_count": 186,
     "metadata": {},
     "output_type": "execute_result"
    }
   ],
   "source": [
    "Profiling_output"
   ]
  },
  {
   "cell_type": "code",
   "execution_count": 187,
   "metadata": {},
   "outputs": [],
   "source": [
    "Profiling_output.to_excel('F:\\\\Data Science\\\\Alabs Python + ML\\\\Analytixlabs\\\\Machine Learning\\\\Clustering K - Means\\\\Datasets\\\\Profile_output_test.xlsx')"
   ]
  },
  {
   "cell_type": "markdown",
   "metadata": {},
   "source": [
    "**Test**"
   ]
  },
  {
   "attachments": {
    "image.png": {
     "image/png": "[encoded data removed]"
    }
   },
   "cell_type": "markdown",
   "metadata": {},
   "source": [
    "![image.png](attachment:image.png)"
   ]
  },
  {
   "cell_type": "markdown",
   "metadata": {},
   "source": [
    "**Train**"
   ]
  },
  {
   "attachments": {
    "image.png": {
     "image/png": "[encoded data removed]"
    }
   },
   "cell_type": "markdown",
   "metadata": {},
   "source": [
    "![image.png](attachment:image.png)"
   ]
  },
  {
   "cell_type": "markdown",
   "metadata": {},
   "source": [
    "**Conclusion:**\n",
    "On comparing the Train and Test Clusters from the profile report it is found that both exihibit similar patterns of cluster deductions. Thus the Model is Valid"
   ]
  },
  {
   "cell_type": "markdown",
   "metadata": {},
   "source": [
    "---"
   ]
  },
  {
   "cell_type": "code",
   "execution_count": null,
   "metadata": {},
   "outputs": [],
   "source": []
  }
 ],
 "metadata": {
  "kernelspec": {
   "display_name": "Python 3",
   "language": "python",
   "name": "python3"
  },
  "language_info": {
   "codemirror_mode": {
    "name": "ipython",
    "version": 3
   },
   "file_extension": ".py",
   "mimetype": "text/x-python",
   "name": "python",
   "nbconvert_exporter": "python",
   "pygments_lexer": "ipython3",
   "version": "3.7.4"
  }
 },
 "nbformat": 4,
 "nbformat_minor": 2
}
