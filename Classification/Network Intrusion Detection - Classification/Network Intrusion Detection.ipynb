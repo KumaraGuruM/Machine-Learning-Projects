{
 "cells": [
  {
   "cell_type": "markdown",
   "metadata": {},
   "source": [
    "# Network Intrusion Detection System"
   ]
  },
  {
   "cell_type": "markdown",
   "metadata": {},
   "source": [
    "**Business Problem :** \n",
    "1. Binomial Classification: Activity is normal or attack\n",
    "2. Multinomial classification: Activity is normal or DOS or PROBE or R2L or U2R"
   ]
  },
  {
   "cell_type": "markdown",
   "metadata": {},
   "source": [
    "**Approach:**\n",
    "\n",
    "**1 Importing and understanding the data** <br>\n",
    "> - Importing the Train and Test\n",
    "- seggregating the attack type variables\n",
    "\n",
    "**2 Data audit** <br>\n",
    "**3 Data preparation** <br>\n",
    "> - Encoding the attack type variable [Bi class]\n",
    "> - Handling and one hot encoding of categorical variables [Bi class]\n",
    "\n",
    "> - Encoding the attack type variable [Multi class]\n",
    "> - Handling and one hot encoding of categorical variables [Multi class]\n",
    "\n",
    "> - Deriving X and Y of [Bi/Multi class]\n",
    "\n",
    "**Feature Selection** <br>\n",
    "> Considering only Xs (Common for both Bi and Multi class)\n",
    ">    > - VIF (Variance Inflation Factor)\n",
    ">    > - PCA (Principal Component Analysis)\n",
    "\n",
    "> Considering X and Binomial Y\n",
    ">    > - Correlation\n",
    ">    > - F Regression\n",
    ">    > - RFE \n",
    "\n",
    "**Part I Binomial Classification** <br>\n",
    "> - Random Forest\n",
    "> - XGBoost\n",
    "\n",
    "**Part II Multinomial Classification** <br>\n",
    "> - Preparing Y multi for skmultilearn\n",
    "> - Preparing Y multi for sklearn <br>\n",
    "\n",
    "> Feature Reduction considering both X and Y multi<br>\n",
    "> - Decision Tree feature importance\n",
    "\n",
    "> Model Implementation\n",
    "> - Binary Relevance <br>\n",
    "> - Classifier chains <br>\n",
    "> - Random Forest <br>\n",
    "> - XGBoost <br>\n",
    "> - Naive Bayes <br>"
   ]
  },
  {
   "cell_type": "markdown",
   "metadata": {},
   "source": [
    "### ----------------------------------------------------------------------------------------------------------------------------"
   ]
  },
  {
   "cell_type": "markdown",
   "metadata": {},
   "source": [
    "**1 Importing and understanding the data**"
   ]
  },
  {
   "cell_type": "code",
   "execution_count": 1,
   "metadata": {},
   "outputs": [],
   "source": [
    "import pandas as pd\n",
    "import numpy as np\n",
    "import re\n",
    "import time"
   ]
  },
  {
   "cell_type": "code",
   "execution_count": 2,
   "metadata": {},
   "outputs": [],
   "source": [
    "train = pd.read_csv(r'Train.txt',header=None)\n",
    "test = pd.read_csv(r'Test.txt',header=None)"
   ]
  },
  {
   "cell_type": "code",
   "execution_count": 3,
   "metadata": {},
   "outputs": [],
   "source": [
    "cols = [\"duration\",\"protocol_type\",\"service\",\"flag\",\"src_bytes\",\"dst_bytes\",\"land\",\n",
    "\"wrong_fragment\",\"urgent\",\"hot\",\"num_failed_logins\",\"logged_in\",\n",
    "\"num_compromised\",\"root_shell\",\"su_attempted\",\"num_root\",\"num_file_creations\",\n",
    "\"num_shells\",\"num_access_files\",\"num_outbound_cmds\",\"is_host_login\",\n",
    "\"is_guest_login\",\"count\",\"srv_count\",\"serror_rate\", \"srv_serror_rate\",\n",
    "\"rerror_rate\",\"srv_rerror_rate\",\"same_srv_rate\", \"diff_srv_rate\",\n",
    "\"srv_diff_host_rate\",\"dst_host_count\",\"dst_host_srv_count\",\"dst_host_same_srv_rate\",\n",
    "\"dst_host_diff_srv_rate\",\"dst_host_same_src_port_rate\",\n",
    "\"dst_host_srv_diff_host_rate\",\"dst_host_serror_rate\",\"dst_host_srv_serror_rate\",\n",
    "\"dst_host_rerror_rate\",\"dst_host_srv_rerror_rate\",\"attack\", \"last_flag\"]"
   ]
  },
  {
   "cell_type": "code",
   "execution_count": 4,
   "metadata": {},
   "outputs": [],
   "source": [
    "train.columns = cols\n",
    "test.columns = cols"
   ]
  },
  {
   "cell_type": "code",
   "execution_count": 5,
   "metadata": {},
   "outputs": [
    {
     "data": {
      "text/html": [
       "<div>\n",
       "<style scoped>\n",
       "    .dataframe tbody tr th:only-of-type {\n",
       "        vertical-align: middle;\n",
       "    }\n",
       "\n",
       "    .dataframe tbody tr th {\n",
       "        vertical-align: top;\n",
       "    }\n",
       "\n",
       "    .dataframe thead th {\n",
       "        text-align: right;\n",
       "    }\n",
       "</style>\n",
       "<table border=\"1\" class=\"dataframe\">\n",
       "  <thead>\n",
       "    <tr style=\"text-align: right;\">\n",
       "      <th></th>\n",
       "      <th>duration</th>\n",
       "      <th>protocol_type</th>\n",
       "      <th>service</th>\n",
       "      <th>flag</th>\n",
       "      <th>src_bytes</th>\n",
       "      <th>dst_bytes</th>\n",
       "      <th>land</th>\n",
       "      <th>wrong_fragment</th>\n",
       "      <th>urgent</th>\n",
       "      <th>hot</th>\n",
       "      <th>...</th>\n",
       "      <th>dst_host_same_srv_rate</th>\n",
       "      <th>dst_host_diff_srv_rate</th>\n",
       "      <th>dst_host_same_src_port_rate</th>\n",
       "      <th>dst_host_srv_diff_host_rate</th>\n",
       "      <th>dst_host_serror_rate</th>\n",
       "      <th>dst_host_srv_serror_rate</th>\n",
       "      <th>dst_host_rerror_rate</th>\n",
       "      <th>dst_host_srv_rerror_rate</th>\n",
       "      <th>attack</th>\n",
       "      <th>last_flag</th>\n",
       "    </tr>\n",
       "  </thead>\n",
       "  <tbody>\n",
       "    <tr>\n",
       "      <td>0</td>\n",
       "      <td>0</td>\n",
       "      <td>tcp</td>\n",
       "      <td>ftp_data</td>\n",
       "      <td>SF</td>\n",
       "      <td>491</td>\n",
       "      <td>0</td>\n",
       "      <td>0</td>\n",
       "      <td>0</td>\n",
       "      <td>0</td>\n",
       "      <td>0</td>\n",
       "      <td>...</td>\n",
       "      <td>0.17</td>\n",
       "      <td>0.03</td>\n",
       "      <td>0.17</td>\n",
       "      <td>0.0</td>\n",
       "      <td>0.0</td>\n",
       "      <td>0.0</td>\n",
       "      <td>0.05</td>\n",
       "      <td>0.0</td>\n",
       "      <td>normal</td>\n",
       "      <td>20</td>\n",
       "    </tr>\n",
       "    <tr>\n",
       "      <td>1</td>\n",
       "      <td>0</td>\n",
       "      <td>udp</td>\n",
       "      <td>other</td>\n",
       "      <td>SF</td>\n",
       "      <td>146</td>\n",
       "      <td>0</td>\n",
       "      <td>0</td>\n",
       "      <td>0</td>\n",
       "      <td>0</td>\n",
       "      <td>0</td>\n",
       "      <td>...</td>\n",
       "      <td>0.00</td>\n",
       "      <td>0.60</td>\n",
       "      <td>0.88</td>\n",
       "      <td>0.0</td>\n",
       "      <td>0.0</td>\n",
       "      <td>0.0</td>\n",
       "      <td>0.00</td>\n",
       "      <td>0.0</td>\n",
       "      <td>normal</td>\n",
       "      <td>15</td>\n",
       "    </tr>\n",
       "    <tr>\n",
       "      <td>2</td>\n",
       "      <td>0</td>\n",
       "      <td>tcp</td>\n",
       "      <td>private</td>\n",
       "      <td>S0</td>\n",
       "      <td>0</td>\n",
       "      <td>0</td>\n",
       "      <td>0</td>\n",
       "      <td>0</td>\n",
       "      <td>0</td>\n",
       "      <td>0</td>\n",
       "      <td>...</td>\n",
       "      <td>0.10</td>\n",
       "      <td>0.05</td>\n",
       "      <td>0.00</td>\n",
       "      <td>0.0</td>\n",
       "      <td>1.0</td>\n",
       "      <td>1.0</td>\n",
       "      <td>0.00</td>\n",
       "      <td>0.0</td>\n",
       "      <td>neptune</td>\n",
       "      <td>19</td>\n",
       "    </tr>\n",
       "  </tbody>\n",
       "</table>\n",
       "<p>3 rows × 43 columns</p>\n",
       "</div>"
      ],
      "text/plain": [
       "   duration protocol_type   service flag  src_bytes  dst_bytes  land  \\\n",
       "0         0           tcp  ftp_data   SF        491          0     0   \n",
       "1         0           udp     other   SF        146          0     0   \n",
       "2         0           tcp   private   S0          0          0     0   \n",
       "\n",
       "   wrong_fragment  urgent  hot  ...  dst_host_same_srv_rate  \\\n",
       "0               0       0    0  ...                    0.17   \n",
       "1               0       0    0  ...                    0.00   \n",
       "2               0       0    0  ...                    0.10   \n",
       "\n",
       "   dst_host_diff_srv_rate  dst_host_same_src_port_rate  \\\n",
       "0                    0.03                         0.17   \n",
       "1                    0.60                         0.88   \n",
       "2                    0.05                         0.00   \n",
       "\n",
       "   dst_host_srv_diff_host_rate  dst_host_serror_rate  \\\n",
       "0                          0.0                   0.0   \n",
       "1                          0.0                   0.0   \n",
       "2                          0.0                   1.0   \n",
       "\n",
       "   dst_host_srv_serror_rate  dst_host_rerror_rate  dst_host_srv_rerror_rate  \\\n",
       "0                       0.0                  0.05                       0.0   \n",
       "1                       0.0                  0.00                       0.0   \n",
       "2                       1.0                  0.00                       0.0   \n",
       "\n",
       "    attack  last_flag  \n",
       "0   normal         20  \n",
       "1   normal         15  \n",
       "2  neptune         19  \n",
       "\n",
       "[3 rows x 43 columns]"
      ]
     },
     "execution_count": 5,
     "metadata": {},
     "output_type": "execute_result"
    }
   ],
   "source": [
    "train.head(3)"
   ]
  },
  {
   "cell_type": "code",
   "execution_count": 6,
   "metadata": {},
   "outputs": [
    {
     "data": {
      "text/html": [
       "<div>\n",
       "<style scoped>\n",
       "    .dataframe tbody tr th:only-of-type {\n",
       "        vertical-align: middle;\n",
       "    }\n",
       "\n",
       "    .dataframe tbody tr th {\n",
       "        vertical-align: top;\n",
       "    }\n",
       "\n",
       "    .dataframe thead th {\n",
       "        text-align: right;\n",
       "    }\n",
       "</style>\n",
       "<table border=\"1\" class=\"dataframe\">\n",
       "  <thead>\n",
       "    <tr style=\"text-align: right;\">\n",
       "      <th></th>\n",
       "      <th>duration</th>\n",
       "      <th>protocol_type</th>\n",
       "      <th>service</th>\n",
       "      <th>flag</th>\n",
       "      <th>src_bytes</th>\n",
       "      <th>dst_bytes</th>\n",
       "      <th>land</th>\n",
       "      <th>wrong_fragment</th>\n",
       "      <th>urgent</th>\n",
       "      <th>hot</th>\n",
       "      <th>...</th>\n",
       "      <th>dst_host_same_srv_rate</th>\n",
       "      <th>dst_host_diff_srv_rate</th>\n",
       "      <th>dst_host_same_src_port_rate</th>\n",
       "      <th>dst_host_srv_diff_host_rate</th>\n",
       "      <th>dst_host_serror_rate</th>\n",
       "      <th>dst_host_srv_serror_rate</th>\n",
       "      <th>dst_host_rerror_rate</th>\n",
       "      <th>dst_host_srv_rerror_rate</th>\n",
       "      <th>attack</th>\n",
       "      <th>last_flag</th>\n",
       "    </tr>\n",
       "  </thead>\n",
       "  <tbody>\n",
       "    <tr>\n",
       "      <td>0</td>\n",
       "      <td>0</td>\n",
       "      <td>tcp</td>\n",
       "      <td>private</td>\n",
       "      <td>REJ</td>\n",
       "      <td>0</td>\n",
       "      <td>0</td>\n",
       "      <td>0</td>\n",
       "      <td>0</td>\n",
       "      <td>0</td>\n",
       "      <td>0</td>\n",
       "      <td>...</td>\n",
       "      <td>0.04</td>\n",
       "      <td>0.06</td>\n",
       "      <td>0.00</td>\n",
       "      <td>0.00</td>\n",
       "      <td>0.0</td>\n",
       "      <td>0.0</td>\n",
       "      <td>1.0</td>\n",
       "      <td>1.0</td>\n",
       "      <td>neptune</td>\n",
       "      <td>21</td>\n",
       "    </tr>\n",
       "    <tr>\n",
       "      <td>1</td>\n",
       "      <td>0</td>\n",
       "      <td>tcp</td>\n",
       "      <td>private</td>\n",
       "      <td>REJ</td>\n",
       "      <td>0</td>\n",
       "      <td>0</td>\n",
       "      <td>0</td>\n",
       "      <td>0</td>\n",
       "      <td>0</td>\n",
       "      <td>0</td>\n",
       "      <td>...</td>\n",
       "      <td>0.00</td>\n",
       "      <td>0.06</td>\n",
       "      <td>0.00</td>\n",
       "      <td>0.00</td>\n",
       "      <td>0.0</td>\n",
       "      <td>0.0</td>\n",
       "      <td>1.0</td>\n",
       "      <td>1.0</td>\n",
       "      <td>neptune</td>\n",
       "      <td>21</td>\n",
       "    </tr>\n",
       "    <tr>\n",
       "      <td>2</td>\n",
       "      <td>2</td>\n",
       "      <td>tcp</td>\n",
       "      <td>ftp_data</td>\n",
       "      <td>SF</td>\n",
       "      <td>12983</td>\n",
       "      <td>0</td>\n",
       "      <td>0</td>\n",
       "      <td>0</td>\n",
       "      <td>0</td>\n",
       "      <td>0</td>\n",
       "      <td>...</td>\n",
       "      <td>0.61</td>\n",
       "      <td>0.04</td>\n",
       "      <td>0.61</td>\n",
       "      <td>0.02</td>\n",
       "      <td>0.0</td>\n",
       "      <td>0.0</td>\n",
       "      <td>0.0</td>\n",
       "      <td>0.0</td>\n",
       "      <td>normal</td>\n",
       "      <td>21</td>\n",
       "    </tr>\n",
       "  </tbody>\n",
       "</table>\n",
       "<p>3 rows × 43 columns</p>\n",
       "</div>"
      ],
      "text/plain": [
       "   duration protocol_type   service flag  src_bytes  dst_bytes  land  \\\n",
       "0         0           tcp   private  REJ          0          0     0   \n",
       "1         0           tcp   private  REJ          0          0     0   \n",
       "2         2           tcp  ftp_data   SF      12983          0     0   \n",
       "\n",
       "   wrong_fragment  urgent  hot  ...  dst_host_same_srv_rate  \\\n",
       "0               0       0    0  ...                    0.04   \n",
       "1               0       0    0  ...                    0.00   \n",
       "2               0       0    0  ...                    0.61   \n",
       "\n",
       "   dst_host_diff_srv_rate  dst_host_same_src_port_rate  \\\n",
       "0                    0.06                         0.00   \n",
       "1                    0.06                         0.00   \n",
       "2                    0.04                         0.61   \n",
       "\n",
       "   dst_host_srv_diff_host_rate  dst_host_serror_rate  \\\n",
       "0                         0.00                   0.0   \n",
       "1                         0.00                   0.0   \n",
       "2                         0.02                   0.0   \n",
       "\n",
       "   dst_host_srv_serror_rate  dst_host_rerror_rate  dst_host_srv_rerror_rate  \\\n",
       "0                       0.0                   1.0                       1.0   \n",
       "1                       0.0                   1.0                       1.0   \n",
       "2                       0.0                   0.0                       0.0   \n",
       "\n",
       "    attack  last_flag  \n",
       "0  neptune         21  \n",
       "1  neptune         21  \n",
       "2   normal         21  \n",
       "\n",
       "[3 rows x 43 columns]"
      ]
     },
     "execution_count": 6,
     "metadata": {},
     "output_type": "execute_result"
    }
   ],
   "source": [
    "test.head(3)"
   ]
  },
  {
   "cell_type": "markdown",
   "metadata": {},
   "source": [
    "Segregating the Dataset based on Data Dictionary"
   ]
  },
  {
   "cell_type": "code",
   "execution_count": 7,
   "metadata": {},
   "outputs": [],
   "source": [
    "basic_features = ['duration','protocol_type','service','flag','src_bytes','dst_bytes','land','wrong_fragment','urgent']"
   ]
  },
  {
   "cell_type": "code",
   "execution_count": 8,
   "metadata": {},
   "outputs": [],
   "source": [
    "content_features = ['hot','num_failed_logins','logged_in','num_compromised','root_shell','su_attempted','num_root','num_file_creations','num_shells','num_access_files','num_outbound_cmds','is_host_login','is_guest_login']"
   ]
  },
  {
   "cell_type": "code",
   "execution_count": 9,
   "metadata": {},
   "outputs": [],
   "source": [
    "time_features = ['count', 'srv_count', 'serror_rate', 'srv_serror_rate', 'rerror_rate', 'srv_rerror_rate', 'same_srv_rate', 'diff_srv_rate', 'srv_diff_host_rate']"
   ]
  },
  {
   "cell_type": "code",
   "execution_count": 10,
   "metadata": {},
   "outputs": [],
   "source": [
    "host_features = ['dst_host_count', 'dst_host_srv_count', 'dst_host_same_srv_rate', 'dst_host_diff_srv_rate', 'dst_host_same_src_port_rate', 'dst_host_srv_diff_host_rate', 'dst_host_serror_rate', 'dst_host_srv_serror_rate', 'dst_host_rerror_rate', 'dst_host_srv_rerror_rate']"
   ]
  },
  {
   "cell_type": "code",
   "execution_count": 11,
   "metadata": {},
   "outputs": [
    {
     "data": {
      "text/plain": [
       "Index(['attack', 'last_flag'], dtype='object')"
      ]
     },
     "execution_count": 11,
     "metadata": {},
     "output_type": "execute_result"
    }
   ],
   "source": [
    "train.columns.difference(basic_features+content_features+time_features+host_features)"
   ]
  },
  {
   "cell_type": "markdown",
   "metadata": {},
   "source": [
    "Segregating the Attack type"
   ]
  },
  {
   "attachments": {
    "image.png": {
     "image/png": "[encoded data removed]"
    }
   },
   "cell_type": "markdown",
   "metadata": {},
   "source": [
    "![image.png](attachment:image.png)"
   ]
  },
  {
   "cell_type": "code",
   "execution_count": 12,
   "metadata": {},
   "outputs": [
    {
     "data": {
      "text/plain": [
       "array(['normal', 'neptune', 'warezclient', 'ipsweep', 'portsweep',\n",
       "       'teardrop', 'nmap', 'satan', 'smurf', 'pod', 'back',\n",
       "       'guess_passwd', 'ftp_write', 'multihop', 'rootkit',\n",
       "       'buffer_overflow', 'imap', 'warezmaster', 'phf', 'land',\n",
       "       'loadmodule', 'spy', 'perl'], dtype=object)"
      ]
     },
     "execution_count": 12,
     "metadata": {},
     "output_type": "execute_result"
    }
   ],
   "source": [
    "train.attack.unique()"
   ]
  },
  {
   "cell_type": "code",
   "execution_count": 13,
   "metadata": {},
   "outputs": [],
   "source": [
    "DoS = ['back','land','neptune','pod','smurf','teardrop','apache2','udpstorm','processtable','worm']\n",
    "Probe = ['satan','ipsweep','nmap','portsweep','mscan','saint']\n",
    "R2L = ['mailbomb','guess_passwd','ftp_write','imap','warezmaster','spy','warezclient','multihop','phf','xlock','xsnoop','snmpguess','snmpgetattack','httptunnel','sendmail','named']\n",
    "U2R = ['buffer_overflow','loadmodule','perl','sqlattack','xterm','ps','rootkit']"
   ]
  },
  {
   "cell_type": "code",
   "execution_count": 14,
   "metadata": {},
   "outputs": [
    {
     "name": "stdout",
     "output_type": "stream",
     "text": [
      "['back', 'land', 'neptune', 'pod', 'smurf', 'teardrop', 'satan', 'ipsweep', 'nmap', 'portsweep', 'guess_passwd', 'ftp_write', 'imap', 'warezmaster', 'spy', 'warezclient', 'multihop', 'phf', 'buffer_overflow', 'loadmodule', 'perl', 'rootkit']\n"
     ]
    }
   ],
   "source": [
    "l_attack = []\n",
    "for i in DoS:\n",
    "    if i in train.attack.unique():\n",
    "        l_attack.append(i)\n",
    "for j in Probe:\n",
    "    if j in train.attack.unique():\n",
    "        l_attack.append(j)\n",
    "for k in R2L:\n",
    "    if k in train.attack.unique():\n",
    "        l_attack.append(k)\n",
    "for l in U2R:\n",
    "    if l in train.attack.unique():\n",
    "        l_attack.append(l)\n",
    "                        \n",
    "print(l_attack)   "
   ]
  },
  {
   "cell_type": "code",
   "execution_count": 15,
   "metadata": {},
   "outputs": [
    {
     "name": "stdout",
     "output_type": "stream",
     "text": [
      "normal\n"
     ]
    }
   ],
   "source": [
    "for i in list(train.attack.unique()):\n",
    "    if i not in l_attack:\n",
    "        print(i)"
   ]
  },
  {
   "cell_type": "markdown",
   "metadata": {},
   "source": [
    "#### ---------------------------------------------------------------------------------------------------------------------------------------------------------------------"
   ]
  },
  {
   "cell_type": "markdown",
   "metadata": {},
   "source": [
    "**Data Audit**"
   ]
  },
  {
   "cell_type": "markdown",
   "metadata": {},
   "source": [
    "check for duplicate rows"
   ]
  },
  {
   "cell_type": "code",
   "execution_count": 16,
   "metadata": {},
   "outputs": [
    {
     "data": {
      "text/plain": [
       "False    125973\n",
       "dtype: int64"
      ]
     },
     "execution_count": 16,
     "metadata": {},
     "output_type": "execute_result"
    }
   ],
   "source": [
    "train.duplicated().value_counts()"
   ]
  },
  {
   "cell_type": "markdown",
   "metadata": {},
   "source": [
    "check for missing values"
   ]
  },
  {
   "cell_type": "code",
   "execution_count": 17,
   "metadata": {},
   "outputs": [
    {
     "data": {
      "text/plain": [
       "0    43\n",
       "dtype: int64"
      ]
     },
     "execution_count": 17,
     "metadata": {},
     "output_type": "execute_result"
    }
   ],
   "source": [
    "train.isnull().sum().value_counts()"
   ]
  },
  {
   "cell_type": "markdown",
   "metadata": {},
   "source": [
    "## Data Preparation"
   ]
  },
  {
   "cell_type": "markdown",
   "metadata": {},
   "source": [
    "finding the binary catagorical variables"
   ]
  },
  {
   "cell_type": "code",
   "execution_count": 18,
   "metadata": {},
   "outputs": [
    {
     "name": "stdout",
     "output_type": "stream",
     "text": [
      "land\n",
      "logged_in\n",
      "root_shell\n",
      "is_host_login\n",
      "is_guest_login\n"
     ]
    }
   ],
   "source": [
    "def binr(x):\n",
    "    if x.value_counts().count() == 2:\n",
    "        print(x.name)\n",
    "        \n",
    "train.apply(binr);"
   ]
  },
  {
   "cell_type": "markdown",
   "metadata": {},
   "source": [
    "Encoding the Attack Type variables (For the multi)<br>\n",
    ">Normal<br>\n",
    ">DoS<br>\n",
    ">Probe <br>\n",
    ">R2L <br>\n",
    ">U2R"
   ]
  },
  {
   "cell_type": "code",
   "execution_count": 19,
   "metadata": {},
   "outputs": [],
   "source": [
    "train_mul = train.copy()\n",
    "test_mul = test.copy()"
   ]
  },
  {
   "cell_type": "code",
   "execution_count": 20,
   "metadata": {},
   "outputs": [],
   "source": [
    "train_mul['attack_type'] = np.where((train_mul.attack.isin(DoS)),'dos',\n",
    "                               np.where((train_mul.attack.isin(Probe)),'probe',\n",
    "                                        np.where((train_mul.attack.isin(R2L)),'r2l',\n",
    "                                                np.where((train_mul.attack.isin(U2R)),'u2r',\n",
    "                                                         np.where((train_mul.attack =='normal'),'normal','x')))))"
   ]
  },
  {
   "cell_type": "code",
   "execution_count": 21,
   "metadata": {},
   "outputs": [
    {
     "name": "stdout",
     "output_type": "stream",
     "text": [
      "normal    67343\n",
      "dos       45927\n",
      "probe     11656\n",
      "r2l         995\n",
      "u2r          52\n",
      "Name: attack_type, dtype: int64\n"
     ]
    }
   ],
   "source": [
    "#print(train_mul.attack.value_counts())\n",
    "print(train_mul.attack_type.value_counts())"
   ]
  },
  {
   "cell_type": "code",
   "execution_count": 22,
   "metadata": {},
   "outputs": [],
   "source": [
    "test_mul['attack_type'] = np.where((test_mul.attack.isin(DoS)),'dos',\n",
    "                               np.where((test_mul.attack.isin(Probe)),'probe',\n",
    "                                        np.where((test_mul.attack.isin(R2L)),'r2l',\n",
    "                                                np.where((test_mul.attack.isin(U2R)),'u2r',\n",
    "                                                          np.where((test_mul.attack =='normal'),'normal','x')))))"
   ]
  },
  {
   "cell_type": "code",
   "execution_count": 23,
   "metadata": {},
   "outputs": [
    {
     "data": {
      "text/plain": [
       "normal    9711\n",
       "dos       7167\n",
       "r2l       3178\n",
       "probe     2421\n",
       "u2r         67\n",
       "Name: attack_type, dtype: int64"
      ]
     },
     "execution_count": 23,
     "metadata": {},
     "output_type": "execute_result"
    }
   ],
   "source": [
    "#print(test_mul.attack.value_counts())\n",
    "test_mul.attack_type.value_counts()"
   ]
  },
  {
   "cell_type": "code",
   "execution_count": 24,
   "metadata": {},
   "outputs": [
    {
     "name": "stdout",
     "output_type": "stream",
     "text": [
      "['httptunnel', 'mscan', 'sqlattack', 'processtable', 'xsnoop', 'snmpgetattack', 'xlock', 'sendmail', 'xterm', 'worm', 'udpstorm', 'mailbomb', 'saint', 'snmpguess', 'apache2', 'ps', 'named']\n"
     ]
    }
   ],
   "source": [
    "print(list(set(test_mul.attack.unique()) - set(train_mul.attack.unique())))"
   ]
  },
  {
   "cell_type": "code",
   "execution_count": 25,
   "metadata": {},
   "outputs": [],
   "source": [
    "train_mul.drop(columns=['attack','service'],inplace=True)  #service is dropped due to high cardinality\n",
    "test_mul.drop(columns=['attack','service'],inplace=True)   "
   ]
  },
  {
   "cell_type": "markdown",
   "metadata": {},
   "source": [
    "Handling the catagorical variables"
   ]
  },
  {
   "cell_type": "code",
   "execution_count": 26,
   "metadata": {},
   "outputs": [
    {
     "data": {
      "text/plain": [
       "protocol_type    object\n",
       "flag             object\n",
       "attack_type      object\n",
       "dtype: object"
      ]
     },
     "execution_count": 26,
     "metadata": {},
     "output_type": "execute_result"
    }
   ],
   "source": [
    "train_mul.dtypes[train_mul.dtypes == 'object']"
   ]
  },
  {
   "cell_type": "code",
   "execution_count": 27,
   "metadata": {},
   "outputs": [],
   "source": [
    "y_atk_mul_train = train_mul['attack_type']\n",
    "y_atk_mul_test = test_mul['attack_type']\n",
    "cat_vars = ['protocol_type','flag','attack_type']"
   ]
  },
  {
   "cell_type": "code",
   "execution_count": 28,
   "metadata": {},
   "outputs": [],
   "source": [
    "def create_dummies(df, colname):\n",
    "    col_dummies = pd.get_dummies(df[colname], prefix = colname, drop_first=True)\n",
    "    df = pd.concat([df, col_dummies], axis = 1)\n",
    "    df.drop(colname, axis = 1, inplace = True)\n",
    "    return df\n",
    "\n",
    "for c_feature in cat_vars:\n",
    "    train_mul[c_feature]=train_mul[c_feature].astype('category')\n",
    "    train_mul=create_dummies(train_mul,c_feature)\n",
    "for c_feature in cat_vars:\n",
    "    test_mul[c_feature]=test_mul[c_feature].astype('category')\n",
    "    test_mul=create_dummies(test_mul,c_feature)"
   ]
  },
  {
   "cell_type": "code",
   "execution_count": 29,
   "metadata": {},
   "outputs": [
    {
     "data": {
      "text/plain": [
       "((125973, 55), (22544, 55))"
      ]
     },
     "execution_count": 29,
     "metadata": {},
     "output_type": "execute_result"
    }
   ],
   "source": [
    "train_mul.shape, test_mul.shape"
   ]
  },
  {
   "cell_type": "code",
   "execution_count": 30,
   "metadata": {},
   "outputs": [
    {
     "data": {
      "text/plain": [
       "Index([], dtype='object')"
      ]
     },
     "execution_count": 30,
     "metadata": {},
     "output_type": "execute_result"
    }
   ],
   "source": [
    "train_mul.columns[~train_mul.columns.isin(test_mul.columns)]"
   ]
  },
  {
   "cell_type": "markdown",
   "metadata": {},
   "source": [
    "### ----------------------------------------------------------------------------------------------------------------------------"
   ]
  },
  {
   "cell_type": "markdown",
   "metadata": {},
   "source": [
    "Encoding the Attack Type variables (For the Bi)<br>\n",
    ">Normal<br>\n",
    "\n",
    "below all are classified as the error <br>\n",
    ">DoS<br>\n",
    ">Probe <br>\n",
    ">R2L <br>\n",
    ">U2R"
   ]
  },
  {
   "cell_type": "code",
   "execution_count": 31,
   "metadata": {},
   "outputs": [],
   "source": [
    "train_bi = train.copy()\n",
    "test_bi = test.copy()"
   ]
  },
  {
   "cell_type": "code",
   "execution_count": 32,
   "metadata": {},
   "outputs": [],
   "source": [
    "train_bi['attack_type'] = np.where((train_bi.attack =='normal'),'normal','error')\n",
    "test_bi['attack_type'] = np.where((test_bi.attack =='normal'),'normal','error')"
   ]
  },
  {
   "cell_type": "code",
   "execution_count": 33,
   "metadata": {},
   "outputs": [
    {
     "name": "stdout",
     "output_type": "stream",
     "text": [
      "normal    67343\n",
      "error     58630\n",
      "Name: attack_type, dtype: int64\n"
     ]
    }
   ],
   "source": [
    "#print(train_bi.attack.value_counts())\n",
    "print(train_bi.attack_type.value_counts())"
   ]
  },
  {
   "cell_type": "code",
   "execution_count": 34,
   "metadata": {},
   "outputs": [
    {
     "data": {
      "text/plain": [
       "error     12833\n",
       "normal     9711\n",
       "Name: attack_type, dtype: int64"
      ]
     },
     "execution_count": 34,
     "metadata": {},
     "output_type": "execute_result"
    }
   ],
   "source": [
    "#print(test_bi.attack.value_counts())\n",
    "test_bi.attack_type.value_counts()"
   ]
  },
  {
   "cell_type": "code",
   "execution_count": 35,
   "metadata": {},
   "outputs": [
    {
     "name": "stdout",
     "output_type": "stream",
     "text": [
      "['httptunnel', 'mscan', 'sqlattack', 'processtable', 'xsnoop', 'snmpgetattack', 'xlock', 'sendmail', 'xterm', 'worm', 'udpstorm', 'mailbomb', 'saint', 'snmpguess', 'apache2', 'ps', 'named']\n"
     ]
    }
   ],
   "source": [
    "print(list(set(test_bi.attack.unique()) - set(train_bi.attack.unique())))"
   ]
  },
  {
   "cell_type": "code",
   "execution_count": 36,
   "metadata": {},
   "outputs": [],
   "source": [
    "train_bi.drop(columns=['attack','service'],inplace=True)  #service is dropped due to high cardinality\n",
    "test_bi.drop(columns=['attack','service'],inplace=True)   "
   ]
  },
  {
   "cell_type": "markdown",
   "metadata": {},
   "source": [
    "Handling the catagorical variables"
   ]
  },
  {
   "cell_type": "code",
   "execution_count": 37,
   "metadata": {},
   "outputs": [
    {
     "data": {
      "text/plain": [
       "protocol_type    object\n",
       "flag             object\n",
       "attack_type      object\n",
       "dtype: object"
      ]
     },
     "execution_count": 37,
     "metadata": {},
     "output_type": "execute_result"
    }
   ],
   "source": [
    "train_bi.dtypes[train_bi.dtypes == 'object']"
   ]
  },
  {
   "cell_type": "code",
   "execution_count": 38,
   "metadata": {},
   "outputs": [],
   "source": [
    "cat_vars = ['protocol_type','flag','attack_type']"
   ]
  },
  {
   "cell_type": "code",
   "execution_count": 39,
   "metadata": {},
   "outputs": [],
   "source": [
    "def create_dummies(df, colname):\n",
    "    col_dummies = pd.get_dummies(df[colname], prefix = colname, drop_first=True)\n",
    "    df = pd.concat([df, col_dummies], axis = 1)\n",
    "    df.drop(colname, axis = 1, inplace = True)\n",
    "    return df\n",
    "\n",
    "for c_feature in cat_vars:\n",
    "    train_bi[c_feature]=train_bi[c_feature].astype('category')\n",
    "    train_bi=create_dummies(train_bi,c_feature)\n",
    "for c_feature in cat_vars:\n",
    "    test_bi[c_feature]=test_bi[c_feature].astype('category')\n",
    "    test_bi=create_dummies(test_bi,c_feature)"
   ]
  },
  {
   "cell_type": "code",
   "execution_count": 40,
   "metadata": {},
   "outputs": [
    {
     "data": {
      "text/plain": [
       "((125973, 52), (22544, 52))"
      ]
     },
     "execution_count": 40,
     "metadata": {},
     "output_type": "execute_result"
    }
   ],
   "source": [
    "train_bi.shape, test_bi.shape"
   ]
  },
  {
   "cell_type": "code",
   "execution_count": 41,
   "metadata": {},
   "outputs": [
    {
     "data": {
      "text/plain": [
       "Index([], dtype='object')"
      ]
     },
     "execution_count": 41,
     "metadata": {},
     "output_type": "execute_result"
    }
   ],
   "source": [
    "train_bi.columns[~train_bi.columns.isin(test_bi.columns)]"
   ]
  },
  {
   "cell_type": "markdown",
   "metadata": {},
   "source": [
    "### ----------------------------------------------------------------------------------------------------------------------------"
   ]
  },
  {
   "cell_type": "markdown",
   "metadata": {},
   "source": [
    "Separating Y and X for both Bi and Multi class"
   ]
  },
  {
   "cell_type": "code",
   "execution_count": 42,
   "metadata": {},
   "outputs": [],
   "source": [
    "X_train = train_bi[train_bi.columns.difference(['attack_type_normal'])]\n",
    "X_test = test_bi[test_bi.columns.difference(['attack_type_normal'])]"
   ]
  },
  {
   "cell_type": "code",
   "execution_count": 43,
   "metadata": {},
   "outputs": [],
   "source": [
    "Y_train_bi = train_bi['attack_type_normal']\n",
    "Y_test_bi = test_bi['attack_type_normal']"
   ]
  },
  {
   "cell_type": "code",
   "execution_count": 44,
   "metadata": {},
   "outputs": [],
   "source": [
    "Y_train_mul = train_mul[['attack_type_normal','attack_type_probe','attack_type_r2l','attack_type_u2r']]\n",
    "Y_test_mul = test_mul[['attack_type_normal','attack_type_probe','attack_type_r2l','attack_type_u2r']]"
   ]
  },
  {
   "cell_type": "markdown",
   "metadata": {},
   "source": [
    "### ----------------------------------------------------------------------------------------------------------------------------"
   ]
  },
  {
   "cell_type": "markdown",
   "metadata": {},
   "source": [
    "## Feature Selection \n",
    "\n",
    "### Considering only the Xs variables"
   ]
  },
  {
   "cell_type": "markdown",
   "metadata": {},
   "source": [
    "**// This part is common for both the Binomial and Multinomial Classification //**"
   ]
  },
  {
   "cell_type": "markdown",
   "metadata": {},
   "source": [
    "The following the feature selection methods will be performed <br>\n",
    "\n",
    "> VIF <br>\n",
    "> PCA"
   ]
  },
  {
   "cell_type": "code",
   "execution_count": 45,
   "metadata": {},
   "outputs": [],
   "source": [
    "X = X_train.copy()"
   ]
  },
  {
   "cell_type": "markdown",
   "metadata": {},
   "source": [
    "### VIF"
   ]
  },
  {
   "cell_type": "raw",
   "metadata": {},
   "source": [
    "from statsmodels.stats.outliers_influence import variance_inflation_factor"
   ]
  },
  {
   "cell_type": "raw",
   "metadata": {},
   "source": [
    "#X1 = X.iloc[:,:5]"
   ]
  },
  {
   "cell_type": "raw",
   "metadata": {},
   "source": [
    "VIF = [variance_inflation_factor(X.values,i) for i in range(X.shape[1])]"
   ]
  },
  {
   "cell_type": "raw",
   "metadata": {},
   "source": [
    "#if the VIF value for the variable is said to be higher than 5 then the variable is said to be highly collinear with the other variables\n",
    "VIF_results = pd.concat([pd.Series(X.columns), pd.Series(VIF)],axis=1)\n",
    "VIF_results.columns = ['Feature','VIF']\n",
    "VIF_results = VIF_results.sort_values('VIF',ascending=False) "
   ]
  },
  {
   "cell_type": "code",
   "execution_count": 46,
   "metadata": {},
   "outputs": [],
   "source": [
    "#VIF_results.to_excel('VIF_NetDet.xlsx')"
   ]
  },
  {
   "cell_type": "code",
   "execution_count": 47,
   "metadata": {},
   "outputs": [],
   "source": [
    "selected_vars_vif = ['num_root','num_compromised','srv_serror_rate','flag_S0','serror_rate','flag_SF','srv_rerror_rate','last_flag','dst_host_srv_serror_rate','flag_REJ','rerror_rate','protocol_type_tcp','dst_host_serror_rate','same_srv_rate','dst_host_same_srv_rate','dst_host_srv_rerror_rate','flag_RSTR','logged_in','dst_host_srv_count','flag_RSTO','dst_host_rerror_rate','dst_host_count','count','protocol_type_udp']"
   ]
  },
  {
   "cell_type": "code",
   "execution_count": 48,
   "metadata": {},
   "outputs": [
    {
     "data": {
      "text/plain": [
       "24"
      ]
     },
     "execution_count": 48,
     "metadata": {},
     "output_type": "execute_result"
    }
   ],
   "source": [
    "len(selected_vars_vif)"
   ]
  },
  {
   "cell_type": "markdown",
   "metadata": {},
   "source": [
    "### PCA"
   ]
  },
  {
   "cell_type": "markdown",
   "metadata": {},
   "source": [
    "**1 Splitting the dataset if required**"
   ]
  },
  {
   "cell_type": "markdown",
   "metadata": {},
   "source": [
    "**2 Feature scaling**"
   ]
  },
  {
   "cell_type": "raw",
   "metadata": {},
   "source": [
    "from sklearn.preprocessing import StandardScaler\n",
    "sc = StandardScaler()"
   ]
  },
  {
   "cell_type": "markdown",
   "metadata": {},
   "source": [
    "fit() ------------------> just calculates the parameters (e.g. μ and σ in case of StandardScaler) <br>\n",
    "transform() ------------> helps to apply the scaling based on the calculated parameters from fit()"
   ]
  },
  {
   "cell_type": "raw",
   "metadata": {},
   "source": [
    "X_scaled = sc.fit_transform(X) "
   ]
  },
  {
   "cell_type": "markdown",
   "metadata": {},
   "source": [
    "**3 Applying PCA** "
   ]
  },
  {
   "cell_type": "raw",
   "metadata": {},
   "source": [
    "from sklearn.decomposition import PCA\n",
    "pca = PCA(n_components = None)"
   ]
  },
  {
   "cell_type": "raw",
   "metadata": {},
   "source": [
    "train_scaled = pca.fit_transform(X_scaled)"
   ]
  },
  {
   "cell_type": "markdown",
   "metadata": {},
   "source": [
    "**3.1** Eigen value"
   ]
  },
  {
   "cell_type": "raw",
   "metadata": {},
   "source": [
    "pca.explained_variance_  #24"
   ]
  },
  {
   "cell_type": "markdown",
   "metadata": {},
   "source": [
    "**3.2** Variance explained by each PC in Cumulative Percentage "
   ]
  },
  {
   "cell_type": "raw",
   "metadata": {},
   "source": [
    "np.cumsum(pca.explained_variance_ratio_)   #18"
   ]
  },
  {
   "cell_type": "markdown",
   "metadata": {},
   "source": [
    "**3.3** Selecting the Number of Principal components based on <br>\n",
    "Cumulative percentage of variance > 75% <br>\n",
    "Eigen value > 0.8"
   ]
  },
  {
   "cell_type": "markdown",
   "metadata": {},
   "source": [
    "Based on the above criteria for selection we conclude **Number of PC = 24** "
   ]
  },
  {
   "cell_type": "markdown",
   "metadata": {},
   "source": [
    "**3.4** Fitting the model again with the select number PC"
   ]
  },
  {
   "cell_type": "raw",
   "metadata": {},
   "source": [
    "pca_final = PCA(n_components=24)"
   ]
  },
  {
   "cell_type": "raw",
   "metadata": {},
   "source": [
    "pca_final = pca_final.fit(train_scaled)"
   ]
  },
  {
   "cell_type": "raw",
   "metadata": {},
   "source": [
    "pca_final.explained_variance_"
   ]
  },
  {
   "cell_type": "raw",
   "metadata": {},
   "source": [
    "np.cumsum(pca_final.explained_variance_ratio_)"
   ]
  },
  {
   "cell_type": "markdown",
   "metadata": {},
   "source": [
    "**3.5** Dimension Reduction "
   ]
  },
  {
   "cell_type": "raw",
   "metadata": {},
   "source": [
    "# Applying the pca model on the scaled train data, which gives the array with specified number of PCs\n",
    "reduced_factors = pca_final.transform(train_scaled) #----------->    this gives the factors"
   ]
  },
  {
   "cell_type": "raw",
   "metadata": {
    "scrolled": true
   },
   "source": [
    "dimensions = pd.DataFrame(reduced_factors);\n",
    "dimensions.head(2)"
   ]
  },
  {
   "cell_type": "markdown",
   "metadata": {},
   "source": [
    "**3.6** Factor Loading Matrix / Component loadings"
   ]
  },
  {
   "cell_type": "markdown",
   "metadata": {},
   "source": [
    "Loadings=Eigenvectors * sqrt(Eigenvalues)\n",
    "\n",
    "Factor loadings are the covariances/correlations between the original variables and the unit-scaled components. (i.e., PCs ~ Initial Columns ) <br>\n",
    "\n",
    "Factors Loadings are the percent of variance in a variable explained by the factor"
   ]
  },
  {
   "cell_type": "raw",
   "metadata": {},
   "source": [
    "eigen_vector = pca_final.components_.T"
   ]
  },
  {
   "cell_type": "raw",
   "metadata": {},
   "source": [
    "eigen_value = pca_final.explained_variance_"
   ]
  },
  {
   "cell_type": "raw",
   "metadata": {},
   "source": [
    "Factor_loading_matrix = pd.DataFrame((eigen_vector * np.sqrt(eigen_value)).T,columns=X.columns).T"
   ]
  },
  {
   "cell_type": "raw",
   "metadata": {},
   "source": [
    "Factor_loading_matrix;"
   ]
  },
  {
   "cell_type": "code",
   "execution_count": 49,
   "metadata": {},
   "outputs": [],
   "source": [
    "#Factor_loading_matrix.to_excel('Factor_Loading_matrix_NetDet.xlsx')"
   ]
  },
  {
   "cell_type": "markdown",
   "metadata": {},
   "source": [
    "**3.7** Selecting the Features based on the factor loadings"
   ]
  },
  {
   "cell_type": "code",
   "execution_count": 50,
   "metadata": {},
   "outputs": [],
   "source": [
    "selected_vars_pca = ['count','diff_srv_rate','dst_bytes','dst_host_count','dst_host_diff_srv_rate','dst_host_rerror_rate','dst_host_same_src_port_rate','dst_host_same_srv_rate','dst_host_serror_rate','dst_host_srv_count','dst_host_srv_diff_host_rate','dst_host_srv_rerror_rate','dst_host_srv_serror_rate','duration','flag_REJ','flag_RSTO','flag_RSTOS0','flag_RSTR','flag_S0','flag_S1','flag_S2','flag_S3','flag_SF','flag_SH']"
   ]
  },
  {
   "cell_type": "code",
   "execution_count": 51,
   "metadata": {},
   "outputs": [
    {
     "data": {
      "text/plain": [
       "24"
      ]
     },
     "execution_count": 51,
     "metadata": {},
     "output_type": "execute_result"
    }
   ],
   "source": [
    "len(selected_vars_pca)"
   ]
  },
  {
   "cell_type": "markdown",
   "metadata": {},
   "source": [
    "### ----------------------------------------------------------------------------------------------------------------------------"
   ]
  },
  {
   "cell_type": "markdown",
   "metadata": {},
   "source": [
    "### Considering the both X and Binomial Y"
   ]
  },
  {
   "cell_type": "markdown",
   "metadata": {},
   "source": [
    "The following methods below are used, <br>\n",
    "> Correlation b/w X and Y <br>\n",
    "> F regression <br>\n",
    "> RFE"
   ]
  },
  {
   "cell_type": "markdown",
   "metadata": {},
   "source": [
    "**Y_bi --> 1 - Normal | 0 - Error**"
   ]
  },
  {
   "cell_type": "markdown",
   "metadata": {},
   "source": [
    "### Correlation b/w X and Y"
   ]
  },
  {
   "cell_type": "code",
   "execution_count": 52,
   "metadata": {},
   "outputs": [],
   "source": [
    "selected_vars_corr = np.abs(X.corrwith(Y_train_bi)).sort_values(ascending=False).head(12)\n",
    "selected_vars_corr = list(selected_vars_corr.index)"
   ]
  },
  {
   "cell_type": "markdown",
   "metadata": {},
   "source": [
    "The above 12 variables exhibit high correlation with the binomial Y"
   ]
  },
  {
   "cell_type": "markdown",
   "metadata": {},
   "source": [
    "### F-Regression"
   ]
  },
  {
   "cell_type": "code",
   "execution_count": 53,
   "metadata": {},
   "outputs": [
    {
     "name": "stderr",
     "output_type": "stream",
     "text": [
      "C:\\Users\\guru\\Anaconda3\\lib\\site-packages\\sklearn\\feature_selection\\_univariate_selection.py:299: RuntimeWarning: invalid value encountered in true_divide\n",
      "  corr /= X_norms\n",
      "C:\\Users\\guru\\Anaconda3\\lib\\site-packages\\scipy\\stats\\_distn_infrastructure.py:901: RuntimeWarning: invalid value encountered in greater\n",
      "  return (a < x) & (x < b)\n",
      "C:\\Users\\guru\\Anaconda3\\lib\\site-packages\\scipy\\stats\\_distn_infrastructure.py:901: RuntimeWarning: invalid value encountered in less\n",
      "  return (a < x) & (x < b)\n",
      "C:\\Users\\guru\\Anaconda3\\lib\\site-packages\\scipy\\stats\\_distn_infrastructure.py:1892: RuntimeWarning: invalid value encountered in less_equal\n",
      "  cond2 = cond0 & (x <= _a)\n"
     ]
    }
   ],
   "source": [
    "from sklearn.feature_selection import f_regression\n",
    "F_values, p_values  = f_regression(X, Y_train_bi ) # Will give two arrays of f and p values"
   ]
  },
  {
   "cell_type": "code",
   "execution_count": 54,
   "metadata": {},
   "outputs": [],
   "source": [
    "F_values = pd.Series(F_values)\n",
    "p_values = pd.Series(p_values)\n",
    "cols = pd.Series(X.columns)\n",
    "\n",
    "f_vars = pd.concat([cols,F_values,p_values],axis=1)\n",
    "f_vars.columns = ['col','f_val','p_val']"
   ]
  },
  {
   "cell_type": "code",
   "execution_count": 55,
   "metadata": {},
   "outputs": [],
   "source": [
    "f_vars = f_vars.sort_values(by=['f_val'],ascending=False)"
   ]
  },
  {
   "cell_type": "code",
   "execution_count": 56,
   "metadata": {},
   "outputs": [],
   "source": [
    "selected_vars_freg = list(f_vars.col.head(11))"
   ]
  },
  {
   "cell_type": "markdown",
   "metadata": {},
   "source": [
    "#### RFE"
   ]
  },
  {
   "cell_type": "code",
   "execution_count": 57,
   "metadata": {},
   "outputs": [],
   "source": [
    "from sklearn.feature_selection import RFE\n",
    "from sklearn.tree import DecisionTreeRegressor"
   ]
  },
  {
   "cell_type": "code",
   "execution_count": 58,
   "metadata": {},
   "outputs": [],
   "source": [
    "dt = DecisionTreeRegressor()"
   ]
  },
  {
   "cell_type": "code",
   "execution_count": 59,
   "metadata": {},
   "outputs": [],
   "source": [
    "rfe = RFE(dt, n_features_to_select=10)\n",
    "rfe = rfe.fit(X,Y_train_bi)"
   ]
  },
  {
   "cell_type": "code",
   "execution_count": 60,
   "metadata": {},
   "outputs": [],
   "source": [
    "select_cols = rfe.get_support()\n",
    "selected_vars_rfe = list(X.columns[select_cols])"
   ]
  },
  {
   "cell_type": "markdown",
   "metadata": {},
   "source": [
    "Making the final combination of selected variables"
   ]
  },
  {
   "cell_type": "code",
   "execution_count": 61,
   "metadata": {},
   "outputs": [],
   "source": [
    "selected_vars_final_bi = list(set(selected_vars_corr + selected_vars_freg + selected_vars_pca + selected_vars_rfe + selected_vars_vif))"
   ]
  },
  {
   "cell_type": "code",
   "execution_count": 62,
   "metadata": {},
   "outputs": [
    {
     "data": {
      "text/plain": [
       "37"
      ]
     },
     "execution_count": 62,
     "metadata": {},
     "output_type": "execute_result"
    }
   ],
   "source": [
    "len(selected_vars_final_bi)"
   ]
  },
  {
   "cell_type": "code",
   "execution_count": 63,
   "metadata": {},
   "outputs": [],
   "source": [
    "X_train_bi = X_train[selected_vars_final_bi]\n",
    "X_test_bi = X_test[selected_vars_final_bi]"
   ]
  },
  {
   "cell_type": "markdown",
   "metadata": {},
   "source": [
    "### Part I -  Binomial Classification:\n",
    "(Activity is normal or attack)"
   ]
  },
  {
   "cell_type": "markdown",
   "metadata": {},
   "source": [
    "Binomial Classification used here are, <br>\n",
    "> Random Forest <br>\n",
    "> XGBoost <br>"
   ]
  },
  {
   "cell_type": "markdown",
   "metadata": {},
   "source": [
    "Checking the % of 0s and 1s in Y_bi (train / test)"
   ]
  },
  {
   "cell_type": "code",
   "execution_count": 64,
   "metadata": {},
   "outputs": [
    {
     "data": {
      "text/plain": [
       "(0.4654171925730117, 0.5345828074269883)"
      ]
     },
     "execution_count": 64,
     "metadata": {},
     "output_type": "execute_result"
    }
   ],
   "source": [
    "Y_train_bi[Y_train_bi==0].shape[0]/Y_train_bi.shape[0] , Y_train_bi[Y_train_bi==1].shape[0]/Y_train_bi.shape[0]"
   ]
  },
  {
   "cell_type": "code",
   "execution_count": 65,
   "metadata": {},
   "outputs": [
    {
     "data": {
      "text/plain": [
       "(0.5692423704755145, 0.43075762952448543)"
      ]
     },
     "execution_count": 65,
     "metadata": {},
     "output_type": "execute_result"
    }
   ],
   "source": [
    "Y_test_bi[Y_test_bi==0].shape[0]/Y_test_bi.shape[0] , Y_test_bi[Y_test_bi==1].shape[0]/Y_test_bi.shape[0]"
   ]
  },
  {
   "cell_type": "markdown",
   "metadata": {},
   "source": [
    "***Since the percentage of 0s and 1s are almost equal we can proceed without performing the over/under sampling. We will be setting the Optimum Cut-off as 0.5***"
   ]
  },
  {
   "cell_type": "markdown",
   "metadata": {},
   "source": [
    "Train and Test split"
   ]
  },
  {
   "cell_type": "raw",
   "metadata": {},
   "source": [
    "X_train_bi,X_test_bi,Y_train_bi,Y_test_bi"
   ]
  },
  {
   "cell_type": "code",
   "execution_count": 66,
   "metadata": {},
   "outputs": [],
   "source": [
    "#Importing packages\n",
    "from sklearn import metrics\n",
    "from sklearn.metrics import mean_squared_error\n",
    "from sklearn.model_selection import GridSearchCV\n",
    "from sklearn.metrics import classification_report,confusion_matrix"
   ]
  },
  {
   "cell_type": "code",
   "execution_count": 67,
   "metadata": {},
   "outputs": [],
   "source": [
    "def mod_eva(y_train,y_test,pred_train,pred_test,c):\n",
    "    print('train :','\\n',confusion_matrix(y_train,pred_train))\n",
    "    print('test :','\\n',confusion_matrix(y_test,pred_test))\n",
    "    print('Accuracy train : ', metrics.accuracy_score(y_train,pred_train))\n",
    "    print('Accuracy test  : ',metrics.accuracy_score(y_test,pred_test))\n",
    "    if c=='b':\n",
    "        train_gini = 2*metrics.roc_auc_score(y_train, pred_train) - 1\n",
    "        print(\"Gini train : \", train_gini)\n",
    "        test_gini = 2*metrics.roc_auc_score(y_test, pred_test) - 1\n",
    "        print(\"Gini test  : \", test_gini)\n",
    "        train_auc = metrics.roc_auc_score(y_train,pred_train)\n",
    "        test_auc = metrics.roc_auc_score(y_test,pred_test)\n",
    "        print(\"AUC Train : \", train_auc)\n",
    "        print(\"AUC Test  : \", test_auc)"
   ]
  },
  {
   "cell_type": "markdown",
   "metadata": {},
   "source": [
    "### Random Forest"
   ]
  },
  {
   "cell_type": "code",
   "execution_count": 68,
   "metadata": {},
   "outputs": [],
   "source": [
    "from sklearn.ensemble import RandomForestClassifier"
   ]
  },
  {
   "cell_type": "code",
   "execution_count": 69,
   "metadata": {},
   "outputs": [
    {
     "name": "stdout",
     "output_type": "stream",
     "text": [
      "--- 15.31787633895874 seconds ---\n"
     ]
    }
   ],
   "source": [
    "start_time = time.time()\n",
    "pargrid_ada = {'n_estimators': [50],\n",
    "               'max_depth':[6]}\n",
    "\n",
    "g_rf = GridSearchCV(estimator=RandomForestClassifier(), \n",
    "                        param_grid=pargrid_ada, \n",
    "                        cv=3,n_jobs=-1)\n",
    "g_rf.fit(X_train_bi, Y_train_bi)\n",
    "print(\"--- %s seconds ---\" % (time.time() - start_time))"
   ]
  },
  {
   "cell_type": "code",
   "execution_count": 70,
   "metadata": {},
   "outputs": [
    {
     "data": {
      "text/plain": [
       "{'max_depth': 6, 'n_estimators': 50}"
      ]
     },
     "execution_count": 70,
     "metadata": {},
     "output_type": "execute_result"
    }
   ],
   "source": [
    "g_rf.best_params_"
   ]
  },
  {
   "cell_type": "code",
   "execution_count": 71,
   "metadata": {},
   "outputs": [],
   "source": [
    "#Predicting values for both training and testing data sets\n",
    "rf_train_pred=g_rf.predict(X_train_bi)\n",
    "rf_test_pred=g_rf.predict(X_test_bi)"
   ]
  },
  {
   "cell_type": "code",
   "execution_count": 72,
   "metadata": {},
   "outputs": [
    {
     "name": "stdout",
     "output_type": "stream",
     "text": [
      "train : \n",
      " [[58046   584]\n",
      " [  383 66960]]\n",
      "test : \n",
      " [[9119 3714]\n",
      " [ 281 9430]]\n",
      "Accuracy train :  0.9923237519150929\n",
      "Accuracy test  :  0.8227909865152591\n",
      "Gini train :  0.9843519267456353\n",
      "Gini test  :  0.6816536275996496\n",
      "AUC Train :  0.9921759633728177\n",
      "AUC Test  :  0.8408268137998248\n"
     ]
    }
   ],
   "source": [
    "mod_eva(Y_train_bi,Y_test_bi,rf_train_pred,rf_test_pred,'b')"
   ]
  },
  {
   "cell_type": "markdown",
   "metadata": {},
   "source": [
    "### XGBoost"
   ]
  },
  {
   "cell_type": "code",
   "execution_count": 73,
   "metadata": {},
   "outputs": [],
   "source": [
    "import xgboost"
   ]
  },
  {
   "cell_type": "code",
   "execution_count": 74,
   "metadata": {},
   "outputs": [
    {
     "name": "stdout",
     "output_type": "stream",
     "text": [
      "--- 45.15458273887634 seconds ---\n"
     ]
    }
   ],
   "source": [
    "start_time = time.time()\n",
    "pargrid_xg = {'n_estimators': [50],\n",
    "               'max_depth':[8]}\n",
    "gscv_xg = GridSearchCV(estimator=xgboost.XGBClassifier(), \n",
    "                        param_grid=pargrid_xg, \n",
    "                        cv=3,n_jobs=-1)\n",
    "xg=gscv_xg.fit(X_train_bi, Y_train_bi)\n",
    "print(\"--- %s seconds ---\" % (time.time() - start_time))"
   ]
  },
  {
   "cell_type": "code",
   "execution_count": 75,
   "metadata": {},
   "outputs": [
    {
     "data": {
      "text/plain": [
       "{'max_depth': 8, 'n_estimators': 50}"
      ]
     },
     "execution_count": 75,
     "metadata": {},
     "output_type": "execute_result"
    }
   ],
   "source": [
    "xg.best_params_"
   ]
  },
  {
   "cell_type": "code",
   "execution_count": 76,
   "metadata": {},
   "outputs": [],
   "source": [
    "#Predicting values for both training and testing data sets\n",
    "xg_train_pred=xg.predict(X_train_bi)\n",
    "xg_test_pred=xg.predict(X_test_bi)"
   ]
  },
  {
   "cell_type": "code",
   "execution_count": 77,
   "metadata": {},
   "outputs": [
    {
     "name": "stdout",
     "output_type": "stream",
     "text": [
      "train : \n",
      " [[58616    14]\n",
      " [   11 67332]]\n",
      "test : \n",
      " [[8936 3897]\n",
      " [ 267 9444]]\n",
      "Accuracy train :  0.9998015447754678\n",
      "Accuracy test  :  0.8152945351312988\n",
      "Gini train :  0.9995978715089435\n",
      "Gini test  :  0.6688351810396913\n",
      "AUC Train :  0.9997989357544718\n",
      "AUC Test  :  0.8344175905198457\n"
     ]
    }
   ],
   "source": [
    "mod_eva(Y_train_bi,Y_test_bi,xg_train_pred,xg_test_pred,'b')"
   ]
  },
  {
   "cell_type": "markdown",
   "metadata": {},
   "source": [
    "**Conclusion on Binomial Classification :** <br>\n",
    "Both the models Random Forest and XGBoost was performing good.<br>\n",
    "But the Random Forest model took only 1/5 th of the time for execution comparatively.<br>\n",
    "Random Forest model can be chosen as the final model for predicting if there is any Anamoly in the Network."
   ]
  },
  {
   "cell_type": "markdown",
   "metadata": {},
   "source": [
    "### ----------------------------------------------------------------------------------------------------------------------------"
   ]
  },
  {
   "cell_type": "markdown",
   "metadata": {},
   "source": [
    "## Part II - Multinomial Classification"
   ]
  },
  {
   "cell_type": "markdown",
   "metadata": {},
   "source": [
    "**Activity is normal or DOS or PROBE or R2L or U2R**"
   ]
  },
  {
   "cell_type": "markdown",
   "metadata": {},
   "source": [
    "**Data Preparation**"
   ]
  },
  {
   "cell_type": "code",
   "execution_count": 78,
   "metadata": {},
   "outputs": [],
   "source": [
    "selected_vars_pca,selected_vars_vif;"
   ]
  },
  {
   "cell_type": "code",
   "execution_count": 79,
   "metadata": {},
   "outputs": [],
   "source": [
    "X_train;"
   ]
  },
  {
   "cell_type": "code",
   "execution_count": 80,
   "metadata": {
    "scrolled": true
   },
   "outputs": [
    {
     "data": {
      "text/plain": [
       "normal    67343\n",
       "dos       45927\n",
       "probe     11656\n",
       "r2l         995\n",
       "u2r          52\n",
       "Name: attack_type, dtype: int64"
      ]
     },
     "execution_count": 80,
     "metadata": {},
     "output_type": "execute_result"
    }
   ],
   "source": [
    "y_atk_mul_train.value_counts()"
   ]
  },
  {
   "cell_type": "code",
   "execution_count": 81,
   "metadata": {},
   "outputs": [
    {
     "data": {
      "text/plain": [
       "normal    9711\n",
       "dos       7167\n",
       "r2l       3178\n",
       "probe     2421\n",
       "u2r         67\n",
       "Name: attack_type, dtype: int64"
      ]
     },
     "execution_count": 81,
     "metadata": {},
     "output_type": "execute_result"
    }
   ],
   "source": [
    "y_atk_mul_test.value_counts()"
   ]
  },
  {
   "cell_type": "markdown",
   "metadata": {},
   "source": [
    "One Hot Encoding the Y_mul (for skmultilearn algorithms)"
   ]
  },
  {
   "cell_type": "code",
   "execution_count": 82,
   "metadata": {},
   "outputs": [],
   "source": [
    "y_atk_train_dum = pd.get_dummies(y_atk_mul_train)"
   ]
  },
  {
   "cell_type": "code",
   "execution_count": 83,
   "metadata": {},
   "outputs": [],
   "source": [
    "y_atk_test_dum = pd.get_dummies(y_atk_mul_test)"
   ]
  },
  {
   "cell_type": "markdown",
   "metadata": {},
   "source": [
    "Encoding Y_mul(for sklearn algorithms)"
   ]
  },
  {
   "cell_type": "code",
   "execution_count": 84,
   "metadata": {},
   "outputs": [],
   "source": [
    "y_atk_mul_train_encode = np.where((y_atk_mul_train=='normal'),1,\n",
    "                               np.where((y_atk_mul_train=='dos'),2,\n",
    "                                        np.where((y_atk_mul_train=='probe'),3,\n",
    "                                                np.where((y_atk_mul_train=='r2l'),4,\n",
    "                                                          np.where((y_atk_mul_train=='u2r'),5,'x'))))) "
   ]
  },
  {
   "cell_type": "code",
   "execution_count": 85,
   "metadata": {},
   "outputs": [],
   "source": [
    "y_atk_mul_train_encode = pd.Series(y_atk_mul_train_encode)"
   ]
  },
  {
   "cell_type": "code",
   "execution_count": 86,
   "metadata": {},
   "outputs": [],
   "source": [
    "y_atk_mul_test_encode = np.where((y_atk_mul_test=='normal'),1,\n",
    "                               np.where((y_atk_mul_test=='dos'),2,\n",
    "                                        np.where((y_atk_mul_test=='probe'),3,\n",
    "                                                np.where((y_atk_mul_test=='r2l'),4,\n",
    "                                                          np.where((y_atk_mul_test=='u2r'),5,'x'))))) "
   ]
  },
  {
   "cell_type": "code",
   "execution_count": 87,
   "metadata": {},
   "outputs": [],
   "source": [
    "y_atk_mul_test_encode = pd.Series(y_atk_mul_test_encode)"
   ]
  },
  {
   "cell_type": "markdown",
   "metadata": {},
   "source": [
    "#### Feature Reduction using Decision Tree"
   ]
  },
  {
   "cell_type": "code",
   "execution_count": 88,
   "metadata": {},
   "outputs": [],
   "source": [
    "from sklearn.tree import DecisionTreeClassifier"
   ]
  },
  {
   "cell_type": "code",
   "execution_count": 89,
   "metadata": {},
   "outputs": [],
   "source": [
    "dt = DecisionTreeClassifier( max_depth = 7, max_features=40 )"
   ]
  },
  {
   "cell_type": "code",
   "execution_count": 90,
   "metadata": {},
   "outputs": [
    {
     "data": {
      "text/plain": [
       "DecisionTreeClassifier(ccp_alpha=0.0, class_weight=None, criterion='gini',\n",
       "                       max_depth=7, max_features=40, max_leaf_nodes=None,\n",
       "                       min_impurity_decrease=0.0, min_impurity_split=None,\n",
       "                       min_samples_leaf=1, min_samples_split=2,\n",
       "                       min_weight_fraction_leaf=0.0, presort='deprecated',\n",
       "                       random_state=None, splitter='best')"
      ]
     },
     "execution_count": 90,
     "metadata": {},
     "output_type": "execute_result"
    }
   ],
   "source": [
    "dt.fit( X_train, y_atk_mul_train_encode )"
   ]
  },
  {
   "cell_type": "code",
   "execution_count": 91,
   "metadata": {
    "scrolled": true
   },
   "outputs": [],
   "source": [
    "feat_imp = pd.concat([pd.Series(X_train.columns),pd.Series(dt.feature_importances_)],axis=1)"
   ]
  },
  {
   "cell_type": "code",
   "execution_count": 92,
   "metadata": {},
   "outputs": [
    {
     "name": "stdout",
     "output_type": "stream",
     "text": [
      "['src_bytes', 'count', 'last_flag', 'dst_host_diff_srv_rate', 'dst_host_srv_count', 'protocol_type_tcp', 'dst_host_same_src_port_rate', 'dst_host_srv_serror_rate', 'dst_host_same_srv_rate', 'dst_bytes', 'dst_host_count', 'wrong_fragment', 'flag_S0', 'dst_host_serror_rate', 'srv_count', 'dst_host_rerror_rate', 'protocol_type_udp', 'diff_srv_rate', 'duration', 'logged_in', 'serror_rate', 'srv_rerror_rate', 'srv_serror_rate', 'same_srv_rate']\n"
     ]
    }
   ],
   "source": [
    "print(list(feat_imp.sort_values(by=1,ascending=False)[0].head(24)))"
   ]
  },
  {
   "cell_type": "code",
   "execution_count": 93,
   "metadata": {},
   "outputs": [],
   "source": [
    "s = ['src_bytes', 'dst_host_same_src_port_rate', 'count', 'last_flag', 'diff_srv_rate', 'wrong_fragment', 'dst_host_count', 'flag_S0', 'dst_host_srv_serror_rate', 'dst_host_same_srv_rate', 'dst_bytes', 'protocol_type_tcp', 'dst_host_srv_count', 'dst_host_diff_srv_rate', 'dst_host_rerror_rate', 'logged_in', 'srv_count', 'dst_host_serror_rate', 'protocol_type_udp', 'srv_serror_rate', 'rerror_rate', 'flag_RSTO', 'duration', 'flag_RSTR']"
   ]
  },
  {
   "cell_type": "code",
   "execution_count": 94,
   "metadata": {},
   "outputs": [],
   "source": [
    "selected_vars_ftimp = ['src_bytes', 'dst_host_same_src_port_rate', 'count', 'last_flag', 'diff_srv_rate', 'wrong_fragment', 'dst_host_count', 'flag_S0', 'dst_host_srv_serror_rate', 'dst_host_same_srv_rate', 'dst_bytes', 'protocol_type_tcp', 'dst_host_srv_count', 'dst_host_diff_srv_rate', 'dst_host_rerror_rate', 'logged_in', 'srv_count', 'dst_host_serror_rate', 'protocol_type_udp', 'srv_serror_rate', 'rerror_rate', 'flag_RSTO', 'duration', 'flag_RSTR']"
   ]
  },
  {
   "cell_type": "code",
   "execution_count": 95,
   "metadata": {},
   "outputs": [],
   "source": [
    "selected_vars_final_mul = list(set(selected_vars_pca + selected_vars_vif + selected_vars_ftimp))"
   ]
  },
  {
   "cell_type": "code",
   "execution_count": 96,
   "metadata": {},
   "outputs": [],
   "source": [
    "X_final_mul_train = X_train[selected_vars_final_mul]\n",
    "X_final_mul_test = X_test[selected_vars_final_mul]"
   ]
  },
  {
   "cell_type": "markdown",
   "metadata": {},
   "source": [
    "### Model Implementation \n",
    "(Multi Class)"
   ]
  },
  {
   "cell_type": "markdown",
   "metadata": {},
   "source": [
    "> Binary Relevance <br>\n",
    "> Classifier chains <br>\n",
    "> Random Forest <br>\n",
    "> XGBoost <br>\n",
    "> Naive Bayes <br>"
   ]
  },
  {
   "cell_type": "markdown",
   "metadata": {},
   "source": [
    "**Binary Relevance**"
   ]
  },
  {
   "cell_type": "code",
   "execution_count": 97,
   "metadata": {},
   "outputs": [],
   "source": [
    "#pip install scikit-multilearn"
   ]
  },
  {
   "cell_type": "code",
   "execution_count": 98,
   "metadata": {},
   "outputs": [
    {
     "data": {
      "text/plain": [
       "BinaryRelevance(classifier=GaussianNB(priors=None, var_smoothing=1e-09),\n",
       "                require_dense=[True, True])"
      ]
     },
     "execution_count": 98,
     "metadata": {},
     "output_type": "execute_result"
    }
   ],
   "source": [
    "# using binary relevance\n",
    "import skmultilearn\n",
    "from skmultilearn.problem_transform import BinaryRelevance\n",
    "from sklearn.naive_bayes import GaussianNB\n",
    "from sklearn.metrics import accuracy_score\n",
    "\n",
    "# initialize binary relevance multi-label classifier\n",
    "# with a gaussian naive bayes base classifier\n",
    "classifier = BinaryRelevance(GaussianNB())\n",
    "\n",
    "# train\n",
    "classifier.fit(X_final_mul_train, y_atk_train_dum)"
   ]
  },
  {
   "cell_type": "code",
   "execution_count": 99,
   "metadata": {},
   "outputs": [],
   "source": [
    "predictions = classifier.predict(X_final_mul_train)"
   ]
  },
  {
   "cell_type": "code",
   "execution_count": 100,
   "metadata": {},
   "outputs": [
    {
     "data": {
      "text/plain": [
       "0.01820231319409715"
      ]
     },
     "execution_count": 100,
     "metadata": {},
     "output_type": "execute_result"
    }
   ],
   "source": [
    "accuracy_score(y_atk_train_dum,predictions)"
   ]
  },
  {
   "cell_type": "markdown",
   "metadata": {},
   "source": [
    "**Classifier chains**"
   ]
  },
  {
   "cell_type": "code",
   "execution_count": 101,
   "metadata": {},
   "outputs": [
    {
     "data": {
      "text/plain": [
       "0.01820231319409715"
      ]
     },
     "execution_count": 101,
     "metadata": {},
     "output_type": "execute_result"
    }
   ],
   "source": [
    "# using classifier chains\n",
    "from skmultilearn.problem_transform import ClassifierChain\n",
    "from sklearn.naive_bayes import GaussianNB\n",
    "\n",
    "# initialize classifier chains multi-label classifier\n",
    "# with a gaussian naive bayes base classifier\n",
    "classifier = ClassifierChain(GaussianNB())\n",
    "\n",
    "# train\n",
    "classifier.fit(X_final_mul_train, y_atk_train_dum)\n",
    "\n",
    "# predict\n",
    "predictions = classifier.predict(X_final_mul_train)\n",
    "\n",
    "accuracy_score(y_atk_train_dum,predictions)"
   ]
  },
  {
   "cell_type": "markdown",
   "metadata": {},
   "source": [
    "**Random Forest**"
   ]
  },
  {
   "cell_type": "code",
   "execution_count": 102,
   "metadata": {},
   "outputs": [],
   "source": [
    "from sklearn.model_selection import GridSearchCV"
   ]
  },
  {
   "cell_type": "code",
   "execution_count": 103,
   "metadata": {},
   "outputs": [],
   "source": [
    "from sklearn.ensemble import RandomForestClassifier"
   ]
  },
  {
   "cell_type": "code",
   "execution_count": 104,
   "metadata": {},
   "outputs": [
    {
     "name": "stdout",
     "output_type": "stream",
     "text": [
      "--- 23.896366834640503 seconds ---\n"
     ]
    }
   ],
   "source": [
    "start_time = time.time()\n",
    "pargrid_ada = {'max_depth': [8], 'n_estimators': [50]}\n",
    "data_rf = GridSearchCV(estimator=RandomForestClassifier(), \n",
    "                        param_grid=pargrid_ada, \n",
    "                        cv=5,n_jobs=-1)\n",
    "data_rf.fit(X_final_mul_train, y_atk_mul_train_encode)\n",
    "print(\"--- %s seconds ---\" % (time.time() - start_time))"
   ]
  },
  {
   "cell_type": "code",
   "execution_count": 105,
   "metadata": {},
   "outputs": [
    {
     "data": {
      "text/plain": [
       "{'max_depth': 8, 'n_estimators': 50}"
      ]
     },
     "execution_count": 105,
     "metadata": {},
     "output_type": "execute_result"
    }
   ],
   "source": [
    "data_rf.best_params_"
   ]
  },
  {
   "cell_type": "code",
   "execution_count": 106,
   "metadata": {},
   "outputs": [],
   "source": [
    "#Predicting values for both training and testing data sets\n",
    "rf_train_pred=data_rf.predict(X_final_mul_train)\n",
    "rf_test_pred=data_rf.predict(X_final_mul_test)"
   ]
  },
  {
   "cell_type": "code",
   "execution_count": 107,
   "metadata": {},
   "outputs": [
    {
     "name": "stdout",
     "output_type": "stream",
     "text": [
      "train : \n",
      " [[67285     0    36    22     0]\n",
      " [   56 45868     3     0     0]\n",
      " [   88     0 11568     0     0]\n",
      " [  162     0     0   833     0]\n",
      " [   34     0     2     0    16]]\n",
      "test : \n",
      " [[9449   55  207    0    0]\n",
      " [1190 5943   34    0    0]\n",
      " [ 623  239 1559    0    0]\n",
      " [2998    0  172    8    0]\n",
      " [  65    0    0    0    2]]\n",
      "Accuracy train :  0.9968009017805403\n",
      "Accuracy test  :  0.7523509581263307\n"
     ]
    }
   ],
   "source": [
    "mod_eva(y_atk_mul_train_encode,y_atk_mul_test_encode,rf_train_pred,rf_test_pred,'m')"
   ]
  },
  {
   "cell_type": "markdown",
   "metadata": {},
   "source": [
    "**XGBoost**"
   ]
  },
  {
   "cell_type": "code",
   "execution_count": 108,
   "metadata": {},
   "outputs": [],
   "source": [
    "import xgboost"
   ]
  },
  {
   "cell_type": "code",
   "execution_count": 109,
   "metadata": {},
   "outputs": [
    {
     "name": "stdout",
     "output_type": "stream",
     "text": [
      "--- 202.21156573295593 seconds ---\n"
     ]
    }
   ],
   "source": [
    "start_time = time.time()\n",
    "pargrid_xg = {'n_estimators': [50],\n",
    "               'max_depth':[8]}\n",
    "gscv_xg = GridSearchCV(estimator=xgboost.XGBClassifier(), \n",
    "                        param_grid=pargrid_xg, \n",
    "                        cv=3,n_jobs=-1)\n",
    "xg=gscv_xg.fit(X_final_mul_train, y_atk_mul_train_encode)\n",
    "print(\"--- %s seconds ---\" % (time.time() - start_time))"
   ]
  },
  {
   "cell_type": "code",
   "execution_count": 110,
   "metadata": {},
   "outputs": [
    {
     "data": {
      "text/plain": [
       "{'max_depth': 8, 'n_estimators': 50}"
      ]
     },
     "execution_count": 110,
     "metadata": {},
     "output_type": "execute_result"
    }
   ],
   "source": [
    "xg.best_params_"
   ]
  },
  {
   "cell_type": "code",
   "execution_count": 111,
   "metadata": {},
   "outputs": [],
   "source": [
    "#Predicting values for both training and testing data sets\n",
    "xg_train_pred=xg.predict(X_final_mul_train)\n",
    "xg_test_pred=xg.predict(X_final_mul_test)"
   ]
  },
  {
   "cell_type": "code",
   "execution_count": 112,
   "metadata": {},
   "outputs": [
    {
     "name": "stdout",
     "output_type": "stream",
     "text": [
      "train : \n",
      " [[67337     2     2     2     0]\n",
      " [    0 45927     0     0     0]\n",
      " [    1     0 11655     0     0]\n",
      " [    5     0     0   990     0]\n",
      " [    0     0     0     0    52]]\n",
      "test : \n",
      " [[9442   67  202    0    0]\n",
      " [1116 5913   81   55    2]\n",
      " [ 734  162 1521    0    4]\n",
      " [2416    3  377  308   74]\n",
      " [  15    0    4   20   28]]\n",
      "Accuracy train :  0.9999047414922245\n",
      "Accuracy test  :  0.7634847409510291\n"
     ]
    }
   ],
   "source": [
    "mod_eva(y_atk_mul_train_encode,y_atk_mul_test_encode,xg_train_pred,xg_test_pred,'m')"
   ]
  },
  {
   "cell_type": "markdown",
   "metadata": {},
   "source": [
    "**Naive Bayes**"
   ]
  },
  {
   "cell_type": "code",
   "execution_count": 113,
   "metadata": {},
   "outputs": [],
   "source": [
    "from sklearn.naive_bayes import GaussianNB"
   ]
  },
  {
   "cell_type": "code",
   "execution_count": 114,
   "metadata": {},
   "outputs": [
    {
     "data": {
      "text/plain": [
       "GaussianNB(priors=None, var_smoothing=1e-09)"
      ]
     },
     "execution_count": 114,
     "metadata": {},
     "output_type": "execute_result"
    }
   ],
   "source": [
    "nb_clf = GaussianNB()\n",
    "nb_clf.fit(X_final_mul_train, y_atk_mul_train_encode)"
   ]
  },
  {
   "cell_type": "code",
   "execution_count": 115,
   "metadata": {},
   "outputs": [],
   "source": [
    "nb_train_pred=nb_clf.predict(X_final_mul_train)\n",
    "nb_test_pred=nb_clf.predict(X_final_mul_test)"
   ]
  },
  {
   "cell_type": "code",
   "execution_count": 116,
   "metadata": {},
   "outputs": [
    {
     "name": "stdout",
     "output_type": "stream",
     "text": [
      "train : \n",
      " [[ 2690 55955   580   421  7697]\n",
      " [  952 44975     0     0     0]\n",
      " [  116 10648   891     0     1]\n",
      " [   12   875    96     5     7]\n",
      " [    3    36     0     0    13]]\n",
      "test : \n",
      " [[ 310 7918   17   14 1452]\n",
      " [ 842 5856  159  310    0]\n",
      " [   0 2421    0    0    0]\n",
      " [ 241 2926    3    1    7]\n",
      " [  12   43    0    0   12]]\n",
      "Accuracy train :  0.38559056305716305\n",
      "Accuracy test  :  0.2740862313697658\n"
     ]
    }
   ],
   "source": [
    "mod_eva(y_atk_mul_train_encode,y_atk_mul_test_encode,nb_train_pred,nb_test_pred,'m')"
   ]
  },
  {
   "cell_type": "markdown",
   "metadata": {},
   "source": [
    "**Conclusion for Multi Classification :** From all the above models Random Forest and XGBoost perform better than other models giving an ___average test accuracy of 75%___. Since the Random Forest model is more time efficient, we will choose the Random Forest as the final model for this dataset."
   ]
  },
  {
   "cell_type": "markdown",
   "metadata": {},
   "source": [
    "### ----------------------------------------------------------------------------------------------------------------------------"
   ]
  },
  {
   "cell_type": "code",
   "execution_count": null,
   "metadata": {},
   "outputs": [],
   "source": []
  }
 ],
 "metadata": {
  "kernelspec": {
   "display_name": "Python 3",
   "language": "python",
   "name": "python3"
  },
  "language_info": {
   "codemirror_mode": {
    "name": "ipython",
    "version": 3
   },
   "file_extension": ".py",
   "mimetype": "text/x-python",
   "name": "python",
   "nbconvert_exporter": "python",
   "pygments_lexer": "ipython3",
   "version": "3.7.4"
  }
 },
 "nbformat": 4,
 "nbformat_minor": 2
}
